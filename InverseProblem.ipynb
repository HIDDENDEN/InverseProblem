{
  "nbformat": 4,
  "nbformat_minor": 0,
  "metadata": {
    "colab": {
      "name": "InverseProblem.ipynb",
      "provenance": [],
      "collapsed_sections": [],
      "mount_file_id": "1dIWbh4nRcZFD-Kdg5ILL17OrLxrxI7to",
      "authorship_tag": "ABX9TyMXid7cMzdi9OEb9JUx/QSQ",
      "include_colab_link": true
    },
    "kernelspec": {
      "name": "python3",
      "display_name": "Python 3"
    }
  },
  "cells": [
    {
      "cell_type": "markdown",
      "metadata": {
        "id": "view-in-github",
        "colab_type": "text"
      },
      "source": [
        "<a href=\"https://colab.research.google.com/github/HIDDENDEN/InverseProblem/blob/main/InverseProblem.ipynb\" target=\"_parent\"><img src=\"https://colab.research.google.com/assets/colab-badge.svg\" alt=\"Open In Colab\"/></a>"
      ]
    },
    {
      "cell_type": "markdown",
      "metadata": {
        "id": "n1wqfoPDQ8oj"
      },
      "source": [
        "Importing functions\n"
      ]
    },
    {
      "cell_type": "code",
      "metadata": {
        "id": "fR0hLGrNQ-gJ"
      },
      "source": [
        "!cp \"drive/My Drive/Science_res/InverseProblem/At.py\" .\n",
        "import At\n",
        "\n",
        "!cp \"drive/My Drive/Science_res/InverseProblem/Betax.py\" .\n",
        "import Betax\n",
        "\n",
        "!cp \"drive/My Drive/Science_res/InverseProblem/Ht.py\" .\n",
        "import Ht\n",
        "\n",
        "!cp \"drive/My Drive/Science_res/InverseProblem/Kcit.py\" .\n",
        "import Kcit"
      ],
      "execution_count": 1,
      "outputs": []
    },
    {
      "cell_type": "code",
      "metadata": {
        "colab": {
          "base_uri": "https://localhost:8080/"
        },
        "id": "FaN7CzcDZwbh",
        "outputId": "ca71bba9-2c6b-41b2-cfd7-4bca3759d79a"
      },
      "source": [
        "pip install findiff"
      ],
      "execution_count": 2,
      "outputs": [
        {
          "output_type": "stream",
          "text": [
            "Collecting findiff\n",
            "  Downloading https://files.pythonhosted.org/packages/de/96/8b53572a6545b1379619733d2ed656e817d1c3d1b9df9c14748748719e94/findiff-0.8.5.tar.gz\n",
            "Requirement already satisfied: numpy in /usr/local/lib/python3.6/dist-packages (from findiff) (1.18.5)\n",
            "Requirement already satisfied: scipy in /usr/local/lib/python3.6/dist-packages (from findiff) (1.4.1)\n",
            "Building wheels for collected packages: findiff\n",
            "  Building wheel for findiff (setup.py) ... \u001b[?25l\u001b[?25hdone\n",
            "  Created wheel for findiff: filename=findiff-0.8.5-cp36-none-any.whl size=13415 sha256=a87a8f7ad83c0db587d516f4811bd1ddbfee6d116a27bffc4ecd8fdb32c8c36a\n",
            "  Stored in directory: /root/.cache/pip/wheels/a1/87/15/836cba86375b2c9437a7776370ef782c35ac80d60e12c97c79\n",
            "Successfully built findiff\n",
            "Installing collected packages: findiff\n",
            "Successfully installed findiff-0.8.5\n"
          ],
          "name": "stdout"
        }
      ]
    },
    {
      "cell_type": "markdown",
      "metadata": {
        "id": "2EFC2aeYTq_c"
      },
      "source": [
        "Importing libs"
      ]
    },
    {
      "cell_type": "code",
      "metadata": {
        "id": "YLZMLIcOTp6L"
      },
      "source": [
        "import numpy as np\n",
        "np.set_printoptions(linewidth=np.inf)# no extra newlines in output\n",
        "\n",
        "import math\n",
        "\n",
        "\n",
        "# define operator\n",
        "from findiff import FinDiff\n",
        "\n",
        "from copy import deepcopy\n",
        "\n",
        "# We'll draw using matplot lib\n",
        "# importing the library \n",
        "import matplotlib.pyplot as plt  "
      ],
      "execution_count": 3,
      "outputs": []
    },
    {
      "cell_type": "markdown",
      "metadata": {
        "id": "khFWXstSRpCz"
      },
      "source": [
        "Initialize functions"
      ]
    },
    {
      "cell_type": "code",
      "metadata": {
        "id": "iqPgqecERrrg"
      },
      "source": [
        "a_t = At.A_t()\n",
        "kci_t = Kcit.Kci_t()\n",
        "beta_x = Betax.Beta_x()\n",
        "h_t_func = Ht.H_t()"
      ],
      "execution_count": 4,
      "outputs": []
    },
    {
      "cell_type": "markdown",
      "metadata": {
        "id": "xwsX2832cFwO"
      },
      "source": [
        "Set steps size of X axys and T axys\n",
        "And x_0 , t_0"
      ]
    },
    {
      "cell_type": "code",
      "metadata": {
        "id": "dcMlI5-mcOVf"
      },
      "source": [
        "# Test L = 1 and T = 1\n",
        "# Test num_of_steps N_x = 10 , N_t = 10\n",
        "L = 1\n",
        "T = 1\n",
        "N_x = 100\n",
        "N_t = 100\n",
        "\n",
        "h_x_axys = L/N_x\n",
        "h_t_axys = T/N_t\n",
        "\n",
        "#Test segment 0 <= x <= 1\n",
        "#Test segment 0 <= t <= 1\n",
        "\n",
        "x_0 = 0\n",
        "t_0 = 0"
      ],
      "execution_count": 5,
      "outputs": []
    },
    {
      "cell_type": "markdown",
      "metadata": {
        "id": "6NIaqq9DShmr"
      },
      "source": [
        "### *Tools*"
      ]
    },
    {
      "cell_type": "markdown",
      "metadata": {
        "id": "9dfyjEtKSoa1"
      },
      "source": [
        "**1.1) Inverse beta(x)**"
      ]
    },
    {
      "cell_type": "markdown",
      "metadata": {
        "id": "nGAyqIDvTLFF"
      },
      "source": [
        "Setting grids"
      ]
    },
    {
      "cell_type": "markdown",
      "metadata": {
        "id": "Ls_9eLzrTMqA"
      },
      "source": [
        "beta_x_grid\n"
      ]
    },
    {
      "cell_type": "code",
      "metadata": {
        "colab": {
          "base_uri": "https://localhost:8080/"
        },
        "id": "rvxvPVYWSmfF",
        "outputId": "8f6bf5f6-21cc-4806-e9d0-48e98b88eb3c"
      },
      "source": [
        "# x_grid range = x_grid_length   x_grid = [-1/2 * x_grid_length ; 1/2 * x_grid_length]\n",
        "beta_x_grid_range = 100\n",
        "\n",
        "beta_x_grid_length = beta_x_grid_range * 2 #for minus values\n",
        "\n",
        "beta_x_grid_length_for_array_implementation = beta_x_grid_length + 1\n",
        "beta_x_grid = np.zeros(beta_x_grid_length_for_array_implementation)\n",
        "for j in range(beta_x_grid_length_for_array_implementation):\n",
        "\n",
        "  beta_x_grid[j] = j - (1/2) * beta_x_grid_length\n",
        "\n",
        "print (beta_x_grid)"
      ],
      "execution_count": 6,
      "outputs": [
        {
          "output_type": "stream",
          "text": [
            "[-100.  -99.  -98.  -97.  -96.  -95.  -94.  -93.  -92.  -91.  -90.  -89.  -88.  -87.  -86.  -85.  -84.  -83.  -82.  -81.  -80.  -79.  -78.  -77.  -76.  -75.  -74.  -73.  -72.  -71.  -70.  -69.  -68.  -67.  -66.  -65.  -64.  -63.  -62.  -61.  -60.  -59.  -58.  -57.  -56.  -55.  -54.  -53.  -52.  -51.  -50.  -49.  -48.  -47.  -46.  -45.  -44.  -43.  -42.  -41.  -40.  -39.  -38.  -37.  -36.  -35.  -34.  -33.  -32.  -31.  -30.  -29.  -28.  -27.  -26.  -25.  -24.  -23.  -22.  -21.  -20.  -19.  -18.  -17.  -16.  -15.  -14.  -13.  -12.  -11.  -10.   -9.   -8.   -7.   -6.   -5.   -4.   -3.   -2.   -1.    0.    1.    2.    3.    4.    5.    6.    7.    8.    9.   10.   11.   12.   13.   14.   15.   16.   17.   18.   19.   20.   21.   22.   23.   24.   25.   26.   27.   28.   29.   30.   31.   32.   33.   34.   35.   36.   37.   38.   39.   40.   41.   42.   43.   44.   45.   46.   47.   48.   49.   50.   51.   52.   53.   54.   55.   56.   57.   58.   59.   60.   61.   62.   63.   64.   65.   66.   67.   68.   69.   70.   71.   72.   73.   74.   75.   76.   77.   78.   79.   80.   81.   82.   83.   84.   85.   86.   87.   88.   89.   90.   91.   92.   93.   94.   95.   96.   97.   98.   99.  100.]\n"
          ],
          "name": "stdout"
        }
      ]
    },
    {
      "cell_type": "markdown",
      "metadata": {
        "id": "2QN2DWTTT325"
      },
      "source": [
        "beta_y_grid"
      ]
    },
    {
      "cell_type": "code",
      "metadata": {
        "colab": {
          "base_uri": "https://localhost:8080/"
        },
        "id": "6S5fmpCHT6Ah",
        "outputId": "34938b1a-c747-437b-a2d8-b96ec7f2c5d6"
      },
      "source": [
        "# y_grid range = y_grid_length   y_grid = [-1/2 * y_grid_length ; 1/2 * y_grid_length]\n",
        "beta_y_grid_range = 100\n",
        "\n",
        "beta_y_grid_length = beta_y_grid_range * 2\n",
        "\n",
        "beta_y_grid_length_for_array_implementation = beta_y_grid_length + 1\n",
        "beta_y_grid = np.zeros(beta_y_grid_length_for_array_implementation)\n",
        "for j in range(beta_y_grid_length_for_array_implementation):\n",
        "\n",
        "  beta_y_grid[j] = j - (1/2) * beta_y_grid_length\n",
        "\n",
        "print (beta_y_grid)"
      ],
      "execution_count": 7,
      "outputs": [
        {
          "output_type": "stream",
          "text": [
            "[-100.  -99.  -98.  -97.  -96.  -95.  -94.  -93.  -92.  -91.  -90.  -89.  -88.  -87.  -86.  -85.  -84.  -83.  -82.  -81.  -80.  -79.  -78.  -77.  -76.  -75.  -74.  -73.  -72.  -71.  -70.  -69.  -68.  -67.  -66.  -65.  -64.  -63.  -62.  -61.  -60.  -59.  -58.  -57.  -56.  -55.  -54.  -53.  -52.  -51.  -50.  -49.  -48.  -47.  -46.  -45.  -44.  -43.  -42.  -41.  -40.  -39.  -38.  -37.  -36.  -35.  -34.  -33.  -32.  -31.  -30.  -29.  -28.  -27.  -26.  -25.  -24.  -23.  -22.  -21.  -20.  -19.  -18.  -17.  -16.  -15.  -14.  -13.  -12.  -11.  -10.   -9.   -8.   -7.   -6.   -5.   -4.   -3.   -2.   -1.    0.    1.    2.    3.    4.    5.    6.    7.    8.    9.   10.   11.   12.   13.   14.   15.   16.   17.   18.   19.   20.   21.   22.   23.   24.   25.   26.   27.   28.   29.   30.   31.   32.   33.   34.   35.   36.   37.   38.   39.   40.   41.   42.   43.   44.   45.   46.   47.   48.   49.   50.   51.   52.   53.   54.   55.   56.   57.   58.   59.   60.   61.   62.   63.   64.   65.   66.   67.   68.   69.   70.   71.   72.   73.   74.   75.   76.   77.   78.   79.   80.   81.   82.   83.   84.   85.   86.   87.   88.   89.   90.   91.   92.   93.   94.   95.   96.   97.   98.   99.  100.]\n"
          ],
          "name": "stdout"
        }
      ]
    },
    {
      "cell_type": "markdown",
      "metadata": {
        "id": "C6guMvcGUFP2"
      },
      "source": [
        "Fill the grid with function values of Beta(x)"
      ]
    },
    {
      "cell_type": "code",
      "metadata": {
        "id": "YYh9V8cIUK80"
      },
      "source": [
        "# our y values will be structure elements = [cur value ; argument that entered that cur value]\n",
        "class beta_x_struct:\n",
        "\n",
        "    def __init__(self, beta_value , arg_value):\n",
        "      self.beta_value = beta_value\n",
        "      self.arg_value = arg_value\n",
        "\n",
        "    def get_beta_value(self):\n",
        "      return self.beta_value\n",
        "\n",
        "    def get_arg_value(self):\n",
        "      return self.arg_value\n",
        "    \n",
        "    def __str__(self):\n",
        "      return \"[ \"+str(self.beta_value) + \" || \" + str(self.arg_value) + \" ];\""
      ],
      "execution_count": 8,
      "outputs": []
    },
    {
      "cell_type": "code",
      "metadata": {
        "id": "4y3Ejg-FUdQO"
      },
      "source": [
        "#uncounted values will be set as np.NaN\n",
        "\n",
        "#fi_u(x) values will be strored as a structure = {grid_value ; x that gave that result}\n",
        "\n",
        "init_array_struct = beta_x_struct(0.,0.)\n",
        "\n",
        "beta_x_values_grid  = np.empty(shape=(beta_x_grid_length_for_array_implementation,), dtype=object)\n",
        "\n",
        "for j in range(beta_x_grid_length_for_array_implementation):\n",
        "  arg = beta_x_grid[j]\n",
        "  beta_value = beta_x.compute(arg)\n",
        "\n",
        "  beta_x_values_grid[j] = beta_x_struct(beta_value , arg)\n",
        "\n",
        "# for j in range(beta_x_grid_length_for_array_implementation):\n",
        "#   print (beta_x_values_grid[j])\n"
      ],
      "execution_count": 9,
      "outputs": []
    },
    {
      "cell_type": "markdown",
      "metadata": {
        "id": "0O90su-5Wc9U"
      },
      "source": [
        "Sorting beta_x_values grid by func values in ascending order"
      ]
    },
    {
      "cell_type": "code",
      "metadata": {
        "id": "ue2_NpjwWk6m"
      },
      "source": [
        "list1 = beta_x_values_grid.tolist()\n",
        "list1.sort(key = lambda x: x.get_beta_value(), reverse=False)\n",
        "# for j in range(x_grid_length_for_array_implementation):\n",
        "#   print (list1[j])\n",
        "\n",
        "beta_x_value_grid=np.array(list1)\n",
        "# for j in range(x_grid_length_for_array_implementation):\n",
        "#   print (fi_u_grid[j])"
      ],
      "execution_count": 10,
      "outputs": []
    },
    {
      "cell_type": "markdown",
      "metadata": {
        "id": "moWuvp68WzW7"
      },
      "source": [
        "Compute inverse function for beta(x)"
      ]
    },
    {
      "cell_type": "code",
      "metadata": {
        "id": "g09czUEXW9hP"
      },
      "source": [
        "def search_left_index_beta_x_values_grid(value):\n",
        "  for i in range(len(beta_x_values_grid)):\n",
        "    if (beta_x_values_grid[i].get_beta_value() <= value):# [ * | | value | | | |]\n",
        "      if ((i+1)<len(beta_x_values_grid)):# i not the right side of array\n",
        "        if (beta_x_values_grid[i+1].get_beta_value() < value):\n",
        "          continue\n",
        "        else:\n",
        "          return i\n",
        "      else:# i the right side of array --- BAD SITUTION - THROW EXCEPTION(need to compute wider grid_fi_u)\n",
        "        raise ValueError('Need to compute wider grid_beta_x_values')\n",
        "    else:# i the left side of array bigger than value --- BAD SITUTION - THROW EXCEPTION(need to compute wider grid_fi_u)\n",
        "      raise ValueError('Need to compute wider grid_beta_x_values LEFT SIDE')\n"
      ],
      "execution_count": 11,
      "outputs": []
    },
    {
      "cell_type": "code",
      "metadata": {
        "id": "sRyVGZoyXTkU"
      },
      "source": [
        "def compute_weight(value, our_point, whole_dist_between_border_points):\n",
        "  return ( (abs(value - our_point)) / whole_dist_between_border_points)"
      ],
      "execution_count": 12,
      "outputs": []
    },
    {
      "cell_type": "code",
      "metadata": {
        "id": "agBEmzerXXqk"
      },
      "source": [
        "def inverse_beta(y_0):\n",
        "  left_index = search_left_index_beta_x_values_grid(y_0)\n",
        "\n",
        "  #search left and right side distance ftom y_0   ---> this will form an impact that left and right points enter\n",
        "  left_point_value = beta_x_values_grid[left_index].get_beta_value()\n",
        "  right_point_value = beta_x_values_grid[left_index + 1].get_beta_value()\n",
        "\n",
        "  whole_dist_between_border_points = abs(right_point_value - left_point_value)\n",
        "\n",
        "  #compute weights\n",
        "  left_side_weight = compute_weight(y_0,left_point_value,whole_dist_between_border_points)\n",
        "\n",
        "  right_side_weight = compute_weight(y_0,right_point_value,whole_dist_between_border_points)\n",
        "\n",
        "  #compute return value\n",
        "  arg1 = beta_x_values_grid[left_index].get_arg_value()\n",
        "  weight_arg1 = (1 - left_side_weight)\n",
        "\n",
        "  arg2 = beta_x_values_grid[left_index + 1].get_arg_value()\n",
        "  weight_arg2 = (1 - right_side_weight)\n",
        "\n",
        "  return weight_arg1 * arg1   +  weight_arg2 * arg2\n"
      ],
      "execution_count": 13,
      "outputs": []
    },
    {
      "cell_type": "code",
      "metadata": {
        "colab": {
          "base_uri": "https://localhost:8080/"
        },
        "id": "xnE2jRtgYml2",
        "outputId": "4f0df1a1-79ae-408a-a7cd-3f637a524442"
      },
      "source": [
        "print(inverse_beta(5))"
      ],
      "execution_count": 14,
      "outputs": [
        {
          "output_type": "stream",
          "text": [
            "5.0\n"
          ],
          "name": "stdout"
        }
      ]
    },
    {
      "cell_type": "markdown",
      "metadata": {
        "id": "Mpe1QdP5lc8U"
      },
      "source": [
        "**1.2) Inverse h(t)**"
      ]
    },
    {
      "cell_type": "markdown",
      "metadata": {
        "id": "KkFAs5UHl5jI"
      },
      "source": [
        "h(t)_x_grid"
      ]
    },
    {
      "cell_type": "code",
      "metadata": {
        "colab": {
          "base_uri": "https://localhost:8080/"
        },
        "id": "_PYJuGfpleBs",
        "outputId": "a82a1d35-d288-49fa-9e36-2f6dbdb8508c"
      },
      "source": [
        "# x_grid range = x_grid_length   x_grid = [-1/2 * x_grid_length ; 1/2 * x_grid_length]\n",
        "h_t_x_grid_range = 100\n",
        "\n",
        "h_t_x_grid_length = h_t_x_grid_range * 2 #for minus values\n",
        "\n",
        "h_t_x_grid_length_for_array_implementation = h_t_x_grid_length + 1\n",
        "h_t_x_grid = np.zeros(h_t_x_grid_length_for_array_implementation)\n",
        "for j in range(h_t_x_grid_length_for_array_implementation):\n",
        "\n",
        "  h_t_x_grid[j] = j - (1/2) * h_t_x_grid_length\n",
        "\n",
        "print (h_t_x_grid)"
      ],
      "execution_count": 15,
      "outputs": [
        {
          "output_type": "stream",
          "text": [
            "[-100.  -99.  -98.  -97.  -96.  -95.  -94.  -93.  -92.  -91.  -90.  -89.  -88.  -87.  -86.  -85.  -84.  -83.  -82.  -81.  -80.  -79.  -78.  -77.  -76.  -75.  -74.  -73.  -72.  -71.  -70.  -69.  -68.  -67.  -66.  -65.  -64.  -63.  -62.  -61.  -60.  -59.  -58.  -57.  -56.  -55.  -54.  -53.  -52.  -51.  -50.  -49.  -48.  -47.  -46.  -45.  -44.  -43.  -42.  -41.  -40.  -39.  -38.  -37.  -36.  -35.  -34.  -33.  -32.  -31.  -30.  -29.  -28.  -27.  -26.  -25.  -24.  -23.  -22.  -21.  -20.  -19.  -18.  -17.  -16.  -15.  -14.  -13.  -12.  -11.  -10.   -9.   -8.   -7.   -6.   -5.   -4.   -3.   -2.   -1.    0.    1.    2.    3.    4.    5.    6.    7.    8.    9.   10.   11.   12.   13.   14.   15.   16.   17.   18.   19.   20.   21.   22.   23.   24.   25.   26.   27.   28.   29.   30.   31.   32.   33.   34.   35.   36.   37.   38.   39.   40.   41.   42.   43.   44.   45.   46.   47.   48.   49.   50.   51.   52.   53.   54.   55.   56.   57.   58.   59.   60.   61.   62.   63.   64.   65.   66.   67.   68.   69.   70.   71.   72.   73.   74.   75.   76.   77.   78.   79.   80.   81.   82.   83.   84.   85.   86.   87.   88.   89.   90.   91.   92.   93.   94.   95.   96.   97.   98.   99.  100.]\n"
          ],
          "name": "stdout"
        }
      ]
    },
    {
      "cell_type": "markdown",
      "metadata": {
        "id": "0R9eEoLcl8C0"
      },
      "source": [
        "h(t)_y_grid"
      ]
    },
    {
      "cell_type": "code",
      "metadata": {
        "colab": {
          "base_uri": "https://localhost:8080/"
        },
        "id": "qCiQWtuMl9vP",
        "outputId": "b1a5ddb3-e0df-4274-9380-cd1a5ad09226"
      },
      "source": [
        "# y_grid range = y_grid_length   y_grid = [-1/2 * y_grid_length ; 1/2 * y_grid_length]\n",
        "h_t_y_grid_range = 100\n",
        "\n",
        "h_t_y_grid_length = h_t_y_grid_range * 2\n",
        "\n",
        "h_t_y_grid_length_for_array_implementation = h_t_y_grid_length + 1\n",
        "h_t_y_grid = np.zeros(h_t_y_grid_length_for_array_implementation)\n",
        "for j in range(h_t_y_grid_length_for_array_implementation):\n",
        "\n",
        "  h_t_y_grid[j] = j - (1/2) * h_t_y_grid_length\n",
        "\n",
        "print (h_t_y_grid)"
      ],
      "execution_count": 16,
      "outputs": [
        {
          "output_type": "stream",
          "text": [
            "[-100.  -99.  -98.  -97.  -96.  -95.  -94.  -93.  -92.  -91.  -90.  -89.  -88.  -87.  -86.  -85.  -84.  -83.  -82.  -81.  -80.  -79.  -78.  -77.  -76.  -75.  -74.  -73.  -72.  -71.  -70.  -69.  -68.  -67.  -66.  -65.  -64.  -63.  -62.  -61.  -60.  -59.  -58.  -57.  -56.  -55.  -54.  -53.  -52.  -51.  -50.  -49.  -48.  -47.  -46.  -45.  -44.  -43.  -42.  -41.  -40.  -39.  -38.  -37.  -36.  -35.  -34.  -33.  -32.  -31.  -30.  -29.  -28.  -27.  -26.  -25.  -24.  -23.  -22.  -21.  -20.  -19.  -18.  -17.  -16.  -15.  -14.  -13.  -12.  -11.  -10.   -9.   -8.   -7.   -6.   -5.   -4.   -3.   -2.   -1.    0.    1.    2.    3.    4.    5.    6.    7.    8.    9.   10.   11.   12.   13.   14.   15.   16.   17.   18.   19.   20.   21.   22.   23.   24.   25.   26.   27.   28.   29.   30.   31.   32.   33.   34.   35.   36.   37.   38.   39.   40.   41.   42.   43.   44.   45.   46.   47.   48.   49.   50.   51.   52.   53.   54.   55.   56.   57.   58.   59.   60.   61.   62.   63.   64.   65.   66.   67.   68.   69.   70.   71.   72.   73.   74.   75.   76.   77.   78.   79.   80.   81.   82.   83.   84.   85.   86.   87.   88.   89.   90.   91.   92.   93.   94.   95.   96.   97.   98.   99.  100.]\n"
          ],
          "name": "stdout"
        }
      ]
    },
    {
      "cell_type": "markdown",
      "metadata": {
        "id": "A70_PHqumGW7"
      },
      "source": [
        "Fill the grid with function values of h_t(x)"
      ]
    },
    {
      "cell_type": "code",
      "metadata": {
        "id": "RK1_xfLamK4R"
      },
      "source": [
        "# our y values will be structure elements = [cur value ; argument that entered that cur value]\n",
        "class h_t_struct:\n",
        "\n",
        "    def __init__(self, h_t_value , arg_value):\n",
        "      self.h_t_value = h_t_value\n",
        "      self.arg_value = arg_value\n",
        "\n",
        "    def get_h_t_value(self):\n",
        "      return self.h_t_value\n",
        "\n",
        "    def get_arg_value(self):\n",
        "      return self.arg_value\n",
        "    \n",
        "    def __str__(self):\n",
        "      return \"[ \"+str(self.h_t_value) + \" || \" + str(self.arg_value) + \" ];\""
      ],
      "execution_count": 17,
      "outputs": []
    },
    {
      "cell_type": "code",
      "metadata": {
        "id": "2Y6tZ-UOmMaC"
      },
      "source": [
        "#uncounted values will be set as np.NaN\n",
        "\n",
        "#fi_u(x) values will be strored as a structure = {grid_value ; x that gave that result}\n",
        "\n",
        "init_array_struct = h_t_struct(0.,0.)\n",
        "\n",
        "h_t_x_values_grid  = np.empty(shape=(h_t_x_grid_length_for_array_implementation,), dtype=object)\n",
        "\n",
        "for j in range(h_t_x_grid_length_for_array_implementation):\n",
        "  arg = h_t_x_grid[j]\n",
        "  h_t_value = h_t_func.compute(arg)\n",
        "\n",
        "  h_t_x_values_grid[j] = h_t_struct(h_t_value , arg)\n",
        "\n",
        "# for j in range(beta_x_grid_length_for_array_implementation):\n",
        "#   print (beta_x_values_grid[j])\n"
      ],
      "execution_count": 18,
      "outputs": []
    },
    {
      "cell_type": "markdown",
      "metadata": {
        "id": "xPp9xcQMmSby"
      },
      "source": [
        "Sorting h_x_values grid by func values in ascending order"
      ]
    },
    {
      "cell_type": "code",
      "metadata": {
        "id": "Cqb3g9QLmQKj"
      },
      "source": [
        "list1 = h_t_x_values_grid.tolist()\n",
        "list1.sort(key = lambda x: x.get_h_t_value(), reverse=False)\n",
        "# for j in range(x_grid_length_for_array_implementation):\n",
        "#   print (list1[j])\n",
        "\n",
        "h_t_x_value_grid=np.array(list1)\n",
        "# for j in range(x_grid_length_for_array_implementation):\n",
        "#   print (fi_u_grid[j])"
      ],
      "execution_count": 19,
      "outputs": []
    },
    {
      "cell_type": "markdown",
      "metadata": {
        "id": "PY3wbi8NmYqx"
      },
      "source": [
        "Compute inverse function for h(t)"
      ]
    },
    {
      "cell_type": "code",
      "metadata": {
        "id": "2YX1MtRcmaHo"
      },
      "source": [
        "def search_left_index_h_t_x_values_grid(value):\n",
        "  for i in range(len(h_t_x_values_grid)):\n",
        "    if (h_t_x_values_grid[i].get_h_t_value() <= value):# [ * | | value | | | |]\n",
        "      if ((i+1)<len(h_t_x_values_grid)):# i not the right side of array\n",
        "        if (h_t_x_values_grid[i+1].get_h_t_value() < value):\n",
        "          continue\n",
        "        else:\n",
        "          return i\n",
        "      else:# i the right side of array --- BAD SITUTION - THROW EXCEPTION(need to compute wider grid_fi_u)\n",
        "        raise ValueError('Need to compute wider grid_h_t_x_values')\n",
        "    else:# i the left side of array bigger than value --- BAD SITUTION - THROW EXCEPTION(need to compute wider grid_fi_u)\n",
        "      raise ValueError('Need to compute wider grid_h_t_x_values LEFT SIDE')\n"
      ],
      "execution_count": 20,
      "outputs": []
    },
    {
      "cell_type": "code",
      "metadata": {
        "id": "raN275oEmf1w"
      },
      "source": [
        "def compute_weight(value, our_point, whole_dist_between_border_points):\n",
        "  return ( (abs(value - our_point)) / whole_dist_between_border_points)"
      ],
      "execution_count": 21,
      "outputs": []
    },
    {
      "cell_type": "code",
      "metadata": {
        "id": "FZ5W2IwDmiPZ"
      },
      "source": [
        "def inverse_h_t(y_0):\n",
        "  left_index = search_left_index_h_t_x_values_grid(y_0)\n",
        "\n",
        "  #search left and right side distance ftom y_0   ---> this will form an impact that left and right points enter\n",
        "  left_point_value = h_t_x_values_grid[left_index].get_h_t_value()\n",
        "  right_point_value = h_t_x_values_grid[left_index + 1].get_h_t_value()\n",
        "\n",
        "  whole_dist_between_border_points = abs(right_point_value - left_point_value)\n",
        "\n",
        "  #compute weights\n",
        "  left_side_weight = compute_weight(y_0,left_point_value,whole_dist_between_border_points)\n",
        "\n",
        "  right_side_weight = compute_weight(y_0,right_point_value,whole_dist_between_border_points)\n",
        "\n",
        "  #compute return value\n",
        "  arg1 = h_t_x_values_grid[left_index].get_arg_value()\n",
        "  weight_arg1 = (1 - left_side_weight)\n",
        "\n",
        "  arg2 = h_t_x_values_grid[left_index + 1].get_arg_value()\n",
        "  weight_arg2 = (1 - right_side_weight)\n",
        "\n",
        "  return weight_arg1 * arg1   +  weight_arg2 * arg2\n"
      ],
      "execution_count": 22,
      "outputs": []
    },
    {
      "cell_type": "code",
      "metadata": {
        "colab": {
          "base_uri": "https://localhost:8080/"
        },
        "id": "Ed8B08jwmlKa",
        "outputId": "e1e1ec4c-504a-4314-f62d-e1c72cdc6f48"
      },
      "source": [
        "print(inverse_h_t(1))"
      ],
      "execution_count": 23,
      "outputs": [
        {
          "output_type": "stream",
          "text": [
            "1.0\n"
          ],
          "name": "stdout"
        }
      ]
    },
    {
      "cell_type": "markdown",
      "metadata": {
        "id": "NWGcKjmnZSc0"
      },
      "source": [
        "**2) Beta derivative  ( beta'(x) )**"
      ]
    },
    {
      "cell_type": "code",
      "metadata": {
        "id": "dOweIVnPZW-X",
        "colab": {
          "base_uri": "https://localhost:8080/"
        },
        "outputId": "a55ed716-bf9a-48fa-c206-fefb7dfacb49"
      },
      "source": [
        "segment_len = beta_x_grid_length\n",
        "start_x = (-1) * beta_x_grid_range\n",
        "h_x=0.01\n",
        "array_len = int(segment_len/h_x) + 1\n",
        "\n",
        "\n",
        "x = np.arange(start_x, start_x + (segment_len) + h_x, h_x)\n",
        "print(x)\n",
        "print(len(x))\n",
        "y=np.zeros(array_len)\n",
        "\n",
        "for i in range(array_len):\n",
        "  y[i]=beta_x.compute(x[i])\n",
        "print(y)\n",
        "print(len(y))"
      ],
      "execution_count": 24,
      "outputs": [
        {
          "output_type": "stream",
          "text": [
            "[-100.    -99.99  -99.98 ...   99.98   99.99  100.  ]\n",
            "20001\n",
            "[-100.    -99.99  -99.98 ...   99.98   99.99  100.  ]\n",
            "20001\n"
          ],
          "name": "stdout"
        }
      ]
    },
    {
      "cell_type": "code",
      "metadata": {
        "id": "Ptd8_5SEbJ4Z"
      },
      "source": [
        "d_dx = FinDiff(0,x,1)"
      ],
      "execution_count": 25,
      "outputs": []
    },
    {
      "cell_type": "code",
      "metadata": {
        "colab": {
          "base_uri": "https://localhost:8080/"
        },
        "id": "jS5ZEwsUbLNx",
        "outputId": "4d6e8a98-bd96-4585-99fe-d4a11a73d6d5"
      },
      "source": [
        "x_derivate_array = deepcopy(x)\n",
        "d_beta_dx = d_dx(y)\n",
        "print(x_derivate_array)\n",
        "print(d_beta_dx)"
      ],
      "execution_count": 26,
      "outputs": [
        {
          "output_type": "stream",
          "text": [
            "[-100.    -99.99  -99.98 ...   99.98   99.99  100.  ]\n",
            "[1. 1. 1. ... 1. 1. 1.]\n"
          ],
          "name": "stdout"
        }
      ]
    },
    {
      "cell_type": "markdown",
      "metadata": {
        "id": "HKPG-u8zbZ_h"
      },
      "source": [
        "Function calculate derivative ( beta'(x) )"
      ]
    },
    {
      "cell_type": "code",
      "metadata": {
        "id": "LZUpWKMUeJ-1"
      },
      "source": [
        "def find_index(x_array,value):\n",
        "  for i in range(len(x_array)):\n",
        "    if (x_array[i] <= value):# [ * | | value | | | |]\n",
        "      if ((i+1)<len(x_array)):# i not the right side of array\n",
        "        if (x_array[i+1] < value):\n",
        "          continue\n",
        "        else:\n",
        "          return i + 1\n",
        "      else:# i the right side of array --- BAD SITUTION - THROW EXCEPTION(need to compute wider grid_fi_u)\n",
        "        raise ValueError('Need to compute wider grid_beta_x_values')\n",
        "    else:# i the left side of array bigger than value --- BAD SITUTION - THROW EXCEPTION(need to compute wider grid_fi_u)\n",
        "      raise ValueError('Need to compute wider grid_beta_x_values LEFT SIDE')"
      ],
      "execution_count": 27,
      "outputs": []
    },
    {
      "cell_type": "code",
      "metadata": {
        "id": "2KNQQkE4cvTS"
      },
      "source": [
        "def round_value(step):\n",
        "  value = int(1/step)\n",
        "  cnt = 0\n",
        "  while (value>1):\n",
        "    cnt +=1\n",
        "    value = value // 10\n",
        "  return cnt"
      ],
      "execution_count": 28,
      "outputs": []
    },
    {
      "cell_type": "code",
      "metadata": {
        "id": "NbdaY5mUbgRk"
      },
      "source": [
        "def beta_derivative(point):\n",
        "  final_point = round(point, round_value(h_x))\n",
        "  index = find_index(x_derivate_array,final_point) \n",
        "  return d_beta_dx[index]\n",
        "  "
      ],
      "execution_count": 29,
      "outputs": []
    },
    {
      "cell_type": "markdown",
      "metadata": {
        "id": "AMnvO3jBblw2"
      },
      "source": [
        "**3.1) h'(t) derivative  ( h'(t) )**"
      ]
    },
    {
      "cell_type": "code",
      "metadata": {
        "id": "tZImvY9EbpZe"
      },
      "source": [
        "grid_range_h_t = 100\n",
        "grid_len_h_t = 2 * grid_range_h_t\n",
        "segment_len_h_t = grid_len_h_t\n",
        "start_t = (-1) * grid_range_h_t\n",
        "h_t_derivative_step = 0.01\n",
        "array_len_h_t_args = int(segment_len_h_t/h_t_derivative_step) + 1"
      ],
      "execution_count": 30,
      "outputs": []
    },
    {
      "cell_type": "code",
      "metadata": {
        "colab": {
          "base_uri": "https://localhost:8080/"
        },
        "id": "Jz2JkPUyd9pN",
        "outputId": "ae37506f-4798-42a3-a084-c7d0b2c601da"
      },
      "source": [
        "t_args = np.arange(start_t, start_t + (segment_len_h_t) + h_t_derivative_step, h_t_derivative_step)\n",
        "print(t_args)\n",
        "print(len(t_args))\n",
        "\n",
        "h_values = np.zeros(array_len_h_t_args)\n",
        "\n",
        "for i in range(array_len_h_t_args):\n",
        "  h_values[i] = h_t_func.compute(t_args[i])\n",
        "\n",
        "print(h_values)\n",
        "print(len(h_values))"
      ],
      "execution_count": 31,
      "outputs": [
        {
          "output_type": "stream",
          "text": [
            "[-100.    -99.99  -99.98 ...   99.98   99.99  100.  ]\n",
            "20001\n",
            "[-100.    -99.99  -99.98 ...   99.98   99.99  100.  ]\n",
            "20001\n"
          ],
          "name": "stdout"
        }
      ]
    },
    {
      "cell_type": "code",
      "metadata": {
        "id": "nQPX3DkHfnpS"
      },
      "source": [
        "d_dt = FinDiff(0,t_args,1)"
      ],
      "execution_count": 32,
      "outputs": []
    },
    {
      "cell_type": "code",
      "metadata": {
        "colab": {
          "base_uri": "https://localhost:8080/"
        },
        "id": "JJ3W1ZnKfxur",
        "outputId": "026962ed-459c-4931-fe52-d82c26d18024"
      },
      "source": [
        "t_derivate_array = deepcopy(t_args)\n",
        "d_h_dt = d_dt(h_values)\n",
        "print(t_derivate_array)\n",
        "print(d_h_dt)"
      ],
      "execution_count": 33,
      "outputs": [
        {
          "output_type": "stream",
          "text": [
            "[-100.    -99.99  -99.98 ...   99.98   99.99  100.  ]\n",
            "[1. 1. 1. ... 1. 1. 1.]\n"
          ],
          "name": "stdout"
        }
      ]
    },
    {
      "cell_type": "markdown",
      "metadata": {
        "id": "Ci1BNJDRgUd2"
      },
      "source": [
        "Function calculate derivative ( h'(t) )"
      ]
    },
    {
      "cell_type": "code",
      "metadata": {
        "id": "HZTl9H5PgbXV"
      },
      "source": [
        "def find_index_h_t(x_array,value):\n",
        "  for i in range(len(x_array)):\n",
        "    if (x_array[i] <= value):# [ * | | value | | | |]\n",
        "      if ((i+1)<len(x_array)):# i not the right side of array\n",
        "        if (x_array[i+1] < value):\n",
        "          continue\n",
        "        else:\n",
        "          return i + 1\n",
        "      else:# i the right side of array --- BAD SITUTION - THROW EXCEPTION(need to compute wider grid_fi_u)\n",
        "        raise ValueError('Need to compute wider grid_beta_x_values')\n",
        "    else:# i the left side of array bigger than value --- BAD SITUTION - THROW EXCEPTION(need to compute wider grid_fi_u)\n",
        "      raise ValueError('Need to compute wider grid_beta_x_values LEFT SIDE')"
      ],
      "execution_count": 34,
      "outputs": []
    },
    {
      "cell_type": "code",
      "metadata": {
        "id": "yXLbvatMgqLF"
      },
      "source": [
        "def round_value_h_t(step):\n",
        "  value = int(1/step)\n",
        "  cnt = 0\n",
        "  while (value>1):\n",
        "    cnt +=1\n",
        "    value = value // 10\n",
        "  return cnt"
      ],
      "execution_count": 35,
      "outputs": []
    },
    {
      "cell_type": "code",
      "metadata": {
        "id": "yngzlfevguRN"
      },
      "source": [
        "def h_derivative(point):\n",
        "  final_point = round(point, round_value(h_t_derivative_step))\n",
        "  index = find_index(t_derivate_array,final_point) \n",
        "  return d_h_dt[index]\n",
        "  "
      ],
      "execution_count": 36,
      "outputs": []
    },
    {
      "cell_type": "code",
      "metadata": {
        "colab": {
          "base_uri": "https://localhost:8080/"
        },
        "id": "HEi10qVdhBqf",
        "outputId": "f704adc3-5390-457f-e31a-c29352549408"
      },
      "source": [
        "print(h_derivative(3))"
      ],
      "execution_count": 37,
      "outputs": [
        {
          "output_type": "stream",
          "text": [
            "1.0\n"
          ],
          "name": "stdout"
        }
      ]
    },
    {
      "cell_type": "markdown",
      "metadata": {
        "id": "i6HRQ3kE12lA"
      },
      "source": [
        "**3.2) a'(t) derivative  ( a'(t) )**"
      ]
    },
    {
      "cell_type": "code",
      "metadata": {
        "id": "CHt3q1qr1468"
      },
      "source": [
        "#calculate a't using previous h'(t)"
      ],
      "execution_count": 38,
      "outputs": []
    },
    {
      "cell_type": "code",
      "metadata": {
        "id": "jlg3Q2GV17w_"
      },
      "source": [
        "grid_range_h_t = 100\n",
        "grid_len_h_t = 2 * grid_range_h_t\n",
        "segment_len_h_t = grid_len_h_t\n",
        "start_t = (-1) * grid_range_h_t\n",
        "h_t_derivative_step = 0.01\n",
        "array_len_h_t_args = int(segment_len_h_t/h_t_derivative_step) + 1"
      ],
      "execution_count": 39,
      "outputs": []
    },
    {
      "cell_type": "code",
      "metadata": {
        "colab": {
          "base_uri": "https://localhost:8080/"
        },
        "id": "7jWPCZ2j1-uF",
        "outputId": "41dc21fc-c189-4abf-f34b-d6d739ca74f8"
      },
      "source": [
        "t_args = np.arange(start_t, start_t + (segment_len_h_t) + h_t_derivative_step, h_t_derivative_step)\n",
        "print(t_args)\n",
        "print(len(t_args))\n",
        "\n",
        "a_values = np.zeros(array_len_h_t_args)\n",
        "\n",
        "for i in range(array_len_h_t_args):\n",
        "  a_values[i] = a_t.compute(t_args[i])\n",
        "\n",
        "print(a_values)\n",
        "print(len(a_values))"
      ],
      "execution_count": 40,
      "outputs": [
        {
          "output_type": "stream",
          "text": [
            "[-100.    -99.99  -99.98 ...   99.98   99.99  100.  ]\n",
            "20001\n",
            "[1. 1. 1. ... 1. 1. 1.]\n",
            "20001\n"
          ],
          "name": "stdout"
        }
      ]
    },
    {
      "cell_type": "code",
      "metadata": {
        "id": "HgWlgl2G2Mgc"
      },
      "source": [
        "d_dt = FinDiff(0,t_args,1)"
      ],
      "execution_count": 41,
      "outputs": []
    },
    {
      "cell_type": "code",
      "metadata": {
        "colab": {
          "base_uri": "https://localhost:8080/"
        },
        "id": "EBHRSGKo2O-x",
        "outputId": "f4fe3665-53f7-4517-d58d-c26cbdee8563"
      },
      "source": [
        "t_derivate_array = deepcopy(t_args)\n",
        "d_a_dt = d_dt(a_values)\n",
        "print(t_derivate_array)\n",
        "print(d_a_dt)"
      ],
      "execution_count": 42,
      "outputs": [
        {
          "output_type": "stream",
          "text": [
            "[-100.    -99.99  -99.98 ...   99.98   99.99  100.  ]\n",
            "[0. 0. 0. ... 0. 0. 0.]\n"
          ],
          "name": "stdout"
        }
      ]
    },
    {
      "cell_type": "markdown",
      "metadata": {
        "id": "NN6-V_5g2YuB"
      },
      "source": [
        "Function calculate derivative ((kci't) )"
      ]
    },
    {
      "cell_type": "code",
      "metadata": {
        "id": "mW4yKfBA2aHp"
      },
      "source": [
        "def find_index_a_t(x_array,value):\n",
        "  for i in range(len(x_array)):\n",
        "    if (x_array[i] <= value):# [ * | | value | | | |]\n",
        "      if ((i+1)<len(x_array)):# i not the right side of array\n",
        "        if (x_array[i+1] < value):\n",
        "          continue\n",
        "        else:\n",
        "          return i + 1\n",
        "      else:# i the right side of array --- BAD SITUTION - THROW EXCEPTION(need to compute wider grid_fi_u)\n",
        "        raise ValueError('Need to compute wider grid_beta_x_values')\n",
        "    else:# i the left side of array bigger than value --- BAD SITUTION - THROW EXCEPTION(need to compute wider grid_fi_u)\n",
        "      raise ValueError('Need to compute wider grid_beta_x_values LEFT SIDE')"
      ],
      "execution_count": 43,
      "outputs": []
    },
    {
      "cell_type": "code",
      "metadata": {
        "id": "XDf3jQcO2dg1"
      },
      "source": [
        "def round_value_a_t(step):\n",
        "  value = int(1/step)\n",
        "  cnt = 0\n",
        "  while (value>1):\n",
        "    cnt +=1\n",
        "    value = value // 10\n",
        "  return cnt"
      ],
      "execution_count": 44,
      "outputs": []
    },
    {
      "cell_type": "code",
      "metadata": {
        "id": "EFP6m34M2fxt"
      },
      "source": [
        "def a_derivative(point):\n",
        "  final_point = round(point, round_value(h_t_derivative_step))\n",
        "  index = find_index(t_derivate_array,final_point) \n",
        "  return d_a_dt[index]\n",
        "  "
      ],
      "execution_count": 45,
      "outputs": []
    },
    {
      "cell_type": "code",
      "metadata": {
        "colab": {
          "base_uri": "https://localhost:8080/"
        },
        "id": "yEiH2q_W2xYN",
        "outputId": "0738d122-78a9-4f83-b990-d65cc12cec79"
      },
      "source": [
        "print(a_derivative(4))"
      ],
      "execution_count": 46,
      "outputs": [
        {
          "output_type": "stream",
          "text": [
            "0.0\n"
          ],
          "name": "stdout"
        }
      ]
    },
    {
      "cell_type": "markdown",
      "metadata": {
        "id": "R5vRZ4Q-owbh"
      },
      "source": [
        "**4.0) getValueFromFi() func**"
      ]
    },
    {
      "cell_type": "code",
      "metadata": {
        "id": "5BYBiU6fq0Gg"
      },
      "source": [
        "def find_index_fi_v(x_array,value):\n",
        "  for i in range(len(x_array)):\n",
        "    if (x_array[i] <= value):# [ * | | value | | | |]\n",
        "      if ((i+1)<len(x_array)):# i not the right side of array\n",
        "        if (x_array[i+1] < value):\n",
        "          continue\n",
        "        else:\n",
        "          return i + 1\n",
        "      else:# i the right side of array --- BAD SITUTION - THROW EXCEPTION(need to compute wider grid_fi_u)\n",
        "        raise ValueError('Need to compute wider grid_fi_v_values')\n",
        "    else:# i the left side of array bigger than value --- BAD SITUTION - THROW EXCEPTION(need to compute wider grid_fi_u)\n",
        "      raise ValueError('Need to compute wider grid_fi_v_values LEFT SIDE')"
      ],
      "execution_count": 47,
      "outputs": []
    },
    {
      "cell_type": "code",
      "metadata": {
        "colab": {
          "base_uri": "https://localhost:8080/"
        },
        "id": "lOb3pQdWpQMB",
        "outputId": "2dc3d475-cf1f-43e8-9729-854284fb47ec"
      },
      "source": [
        "#set function domain (let it be from [-100;100]) -- fi_v_args\n",
        "#set function values range (let it be all null)  -- fi_v_values\n",
        "grid_range_fi_v = 100\n",
        "grid_len_fi_v = 2 * grid_range_fi_v\n",
        "segment_len_fi_v = grid_len_fi_v\n",
        "start_v = (-1) * grid_range_fi_v\n",
        "fi_v_derivative_step = 0.01\n",
        "array_len_fi_v_args = int(segment_len_fi_v/fi_v_derivative_step) + 1\n",
        "fi_v_args = np.arange(start_v, start_v + (segment_len_fi_v) + fi_v_derivative_step, fi_v_derivative_step)\n",
        "fi_v_values =np.zeros(array_len_fi_v_args)\n",
        "\n",
        "print(fi_v_args)\n",
        "print(len(fi_v_args))\n",
        "\n",
        "print(fi_v_values)\n",
        "print(len(fi_v_values))"
      ],
      "execution_count": 48,
      "outputs": [
        {
          "output_type": "stream",
          "text": [
            "[-100.    -99.99  -99.98 ...   99.98   99.99  100.  ]\n",
            "20001\n",
            "[0. 0. 0. ... 0. 0. 0.]\n",
            "20001\n"
          ],
          "name": "stdout"
        }
      ]
    },
    {
      "cell_type": "code",
      "metadata": {
        "id": "9C5PYNYno2p0"
      },
      "source": [
        "#function computes fi value from given array\n",
        "def getValueFromFi(fi_arr,arg):\n",
        "  index = find_index_fi_v(fi_v_args,arg)\n",
        "  return fi_v_values[index]"
      ],
      "execution_count": 49,
      "outputs": []
    },
    {
      "cell_type": "code",
      "metadata": {
        "colab": {
          "base_uri": "https://localhost:8080/"
        },
        "id": "RkzRIkoSrVOv",
        "outputId": "57964fa8-a7a6-4fb1-ae36-0848b3243b32"
      },
      "source": [
        "print(getValueFromFi(fi_v_values,10))"
      ],
      "execution_count": 50,
      "outputs": [
        {
          "output_type": "stream",
          "text": [
            "0.0\n"
          ],
          "name": "stdout"
        }
      ]
    },
    {
      "cell_type": "markdown",
      "metadata": {
        "id": "EqO109Ezvdkq"
      },
      "source": [
        "**4.1) u't derivative ( u't )**"
      ]
    },
    {
      "cell_type": "code",
      "metadata": {
        "id": "2yGY6OADvsWc"
      },
      "source": [
        "#calculate kci't using previous h'(t)"
      ],
      "execution_count": 51,
      "outputs": []
    },
    {
      "cell_type": "code",
      "metadata": {
        "id": "qNYTe7hhvznJ"
      },
      "source": [
        "grid_range_h_t = 100\n",
        "grid_len_h_t = 2 * grid_range_h_t\n",
        "segment_len_h_t = grid_len_h_t\n",
        "start_t = (-1) * grid_range_h_t\n",
        "h_t_derivative_step = 0.01\n",
        "array_len_h_t_args = int(segment_len_h_t/h_t_derivative_step) + 1"
      ],
      "execution_count": 52,
      "outputs": []
    },
    {
      "cell_type": "code",
      "metadata": {
        "colab": {
          "base_uri": "https://localhost:8080/"
        },
        "id": "LghbWMecwapd",
        "outputId": "c04c9592-0713-4c5a-e7ee-c998735f3ac6"
      },
      "source": [
        "t_args = np.arange(start_t, start_t + (segment_len_h_t) + h_t_derivative_step, h_t_derivative_step)\n",
        "print(t_args)\n",
        "print(len(t_args))\n",
        "\n",
        "kci_values = np.zeros(array_len_h_t_args)\n",
        "\n",
        "for i in range(array_len_h_t_args):\n",
        "  kci_values[i] = kci_t.compute(t_args[i])\n",
        "\n",
        "print(kci_values)\n",
        "print(len(kci_values))"
      ],
      "execution_count": 53,
      "outputs": [
        {
          "output_type": "stream",
          "text": [
            "[-100.    -99.99  -99.98 ...   99.98   99.99  100.  ]\n",
            "20001\n",
            "[1. 1. 1. ... 1. 1. 1.]\n",
            "20001\n"
          ],
          "name": "stdout"
        }
      ]
    },
    {
      "cell_type": "code",
      "metadata": {
        "id": "hqDtgZeRwkLu"
      },
      "source": [
        "d_dt = FinDiff(0,t_args,1)"
      ],
      "execution_count": 54,
      "outputs": []
    },
    {
      "cell_type": "code",
      "metadata": {
        "colab": {
          "base_uri": "https://localhost:8080/"
        },
        "id": "SQi35Ogtwnib",
        "outputId": "6ffbc80d-df1d-47ac-9c9f-5d808aa33ddb"
      },
      "source": [
        "t_derivate_array = deepcopy(t_args)\n",
        "d_kci_dt = d_dt(kci_values)\n",
        "print(t_derivate_array)\n",
        "print(d_kci_dt)"
      ],
      "execution_count": 55,
      "outputs": [
        {
          "output_type": "stream",
          "text": [
            "[-100.    -99.99  -99.98 ...   99.98   99.99  100.  ]\n",
            "[0. 0. 0. ... 0. 0. 0.]\n"
          ],
          "name": "stdout"
        }
      ]
    },
    {
      "cell_type": "markdown",
      "metadata": {
        "id": "5LFVqpfKwyt8"
      },
      "source": [
        "Function calculate derivative ((kci't) )"
      ]
    },
    {
      "cell_type": "code",
      "metadata": {
        "id": "dzYl6SemwxQ6"
      },
      "source": [
        "def find_index_kci_t(x_array,value):\n",
        "  for i in range(len(x_array)):\n",
        "    if (x_array[i] <= value):# [ * | | value | | | |]\n",
        "      if ((i+1)<len(x_array)):# i not the right side of array\n",
        "        if (x_array[i+1] < value):\n",
        "          continue\n",
        "        else:\n",
        "          return i + 1\n",
        "      else:# i the right side of array --- BAD SITUTION - THROW EXCEPTION(need to compute wider grid_fi_u)\n",
        "        raise ValueError('Need to compute wider grid_beta_x_values')\n",
        "    else:# i the left side of array bigger than value --- BAD SITUTION - THROW EXCEPTION(need to compute wider grid_fi_u)\n",
        "      raise ValueError('Need to compute wider grid_beta_x_values LEFT SIDE')"
      ],
      "execution_count": 56,
      "outputs": []
    },
    {
      "cell_type": "code",
      "metadata": {
        "id": "8yQ-a3QEw8o0"
      },
      "source": [
        "def round_value_kci_t(step):\n",
        "  value = int(1/step)\n",
        "  cnt = 0\n",
        "  while (value>1):\n",
        "    cnt +=1\n",
        "    value = value // 10\n",
        "  return cnt"
      ],
      "execution_count": 57,
      "outputs": []
    },
    {
      "cell_type": "code",
      "metadata": {
        "id": "rHDJESYPw_3Y"
      },
      "source": [
        "def kci_derivative(point):\n",
        "  final_point = round(point, round_value(h_t_derivative_step))\n",
        "  index = find_index(t_derivate_array,final_point) \n",
        "  return d_kci_dt[index]\n",
        "  "
      ],
      "execution_count": 58,
      "outputs": []
    },
    {
      "cell_type": "code",
      "metadata": {
        "colab": {
          "base_uri": "https://localhost:8080/"
        },
        "id": "WHi1PZ1kxM-G",
        "outputId": "12a3ecf8-4f16-412c-c255-56c1b327d45c"
      },
      "source": [
        "print(kci_derivative(3))"
      ],
      "execution_count": 59,
      "outputs": [
        {
          "output_type": "stream",
          "text": [
            "0.0\n"
          ],
          "name": "stdout"
        }
      ]
    },
    {
      "cell_type": "markdown",
      "metadata": {
        "id": "dzuIYGSyxUNA"
      },
      "source": [
        "Function calculate u't(0,point)"
      ]
    },
    {
      "cell_type": "code",
      "metadata": {
        "id": "EQTtrn3sxaA5"
      },
      "source": [
        "def u_derivate_t_0_point (x_val,t_val):\n",
        "  if(x_val != 0):\n",
        "    raise ValueError('x_val must be equal to zero!')\n",
        "  return kci_derivative(t_val)"
      ],
      "execution_count": 60,
      "outputs": []
    },
    {
      "cell_type": "code",
      "metadata": {
        "colab": {
          "base_uri": "https://localhost:8080/"
        },
        "id": "NdALtt7Kx7Hv",
        "outputId": "2b79fd27-9aa5-4157-d61f-8b3899f902f6"
      },
      "source": [
        "print(u_derivate_t_0_point(0,10))"
      ],
      "execution_count": 61,
      "outputs": [
        {
          "output_type": "stream",
          "text": [
            "0.0\n"
          ],
          "name": "stdout"
        }
      ]
    },
    {
      "cell_type": "markdown",
      "metadata": {
        "id": "3U6lcdPdyQWz"
      },
      "source": [
        "**4.2) u'x derivative ( u'x )**"
      ]
    },
    {
      "cell_type": "code",
      "metadata": {
        "id": "3w27etedyS8o"
      },
      "source": [
        "def u_derivate_x_L_point(x_val,t_val,v,fi_arr):\n",
        "  if(x_val != L):\n",
        "    raise ValueError('x_val must be equal to L (end of segment)!')\n",
        "  return (-1) * h_derivative(t_val) - a_t.compute(t_val) * getValueFromFi(fi_arr, v )\n"
      ],
      "execution_count": 62,
      "outputs": []
    },
    {
      "cell_type": "markdown",
      "metadata": {
        "id": "-dxNeFzEziaM"
      },
      "source": [
        "**5) u'xt + u'tt derivatives**"
      ]
    },
    {
      "cell_type": "code",
      "metadata": {
        "id": "Dh2hO4CbzlV_"
      },
      "source": [
        "def u_sum_derivate_t_double(x_val,t_val, v, fi_arr):\n",
        "  return (-1) * a_derivative(t_val) * getValueFromFi(fi_arr,v)"
      ],
      "execution_count": 63,
      "outputs": []
    },
    {
      "cell_type": "markdown",
      "metadata": {
        "id": "1LxKDM_A3k5e"
      },
      "source": [
        "**6) (u'x + u't)^2 derivatives**"
      ]
    },
    {
      "cell_type": "code",
      "metadata": {
        "id": "bRZLZ_7l3rJ6"
      },
      "source": [
        "def u_sum_derivate_square(x_val,t_val, v, fi_arr):\n",
        "  ret_val = 1\n",
        "  ret_val = (-1)*a_t.compute(t_val) * getValueFromFi(fi_arr, v)\n",
        "  ret_val = ret_val * ret_val\n",
        "  if (ret_val == 0):\n",
        "    return 0.01\n",
        "    # raise ValueError('u_x + u_t  = 0 . It is very bad case( !')\n",
        "  return ret_val"
      ],
      "execution_count": 64,
      "outputs": []
    },
    {
      "cell_type": "markdown",
      "metadata": {
        "id": "bY5kCPuz4jc2"
      },
      "source": [
        "**7) Calculate integral**"
      ]
    },
    {
      "cell_type": "code",
      "metadata": {
        "id": "s4VQayUk7M3x"
      },
      "source": [
        "def quotient_under_integral(v_intern,v_extern,fi_arr,flag):\n",
        "  #flag: =0 for fi(beta(L-t))\n",
        "  #flag: =1 for fi(h(t))\n",
        "  if (flag==0):\n",
        "    x_mapped = v_intern\n",
        "    t_mapped = v_intern - inverse_beta(v_extern)\n",
        "  elif (flag == 1):\n",
        "    x_mapped = v_intern\n",
        "    t_mapped = v_intern - (L - inverse_h_t(v_extern))\n",
        "  else:\n",
        "    raise ValueError('Incorrect flag. It can take only 0 and 1 values !')\n",
        "  # x_mapped = #todo\n",
        "  # t_mapped = #todo\n",
        "  return (u_sum_derivate_t_double(x_mapped,t_mapped,v_intern,fi_arr)) / (u_sum_derivate_square(x_mapped,t_mapped,v_intern,fi_arr))"
      ],
      "execution_count": 65,
      "outputs": []
    },
    {
      "cell_type": "code",
      "metadata": {
        "id": "w118iqRe4o-n"
      },
      "source": [
        "#calculate integral on simple segment\n",
        "def integral_on_simple_segment_test(c,d,h, fi_arr, v_extern,flag):\n",
        "  middle_point = (c+d)/2\n",
        "  return h*( quotient_under_integral(middle_point,v_extern,fi_arr,flag) * getValueFromFi(fi_arr,middle_point) )\n",
        "  "
      ],
      "execution_count": 66,
      "outputs": []
    },
    {
      "cell_type": "code",
      "metadata": {
        "id": "FpASMZHu5XV4"
      },
      "source": [
        "def Is_need_to_next_index_step(left,right,cur) :\n",
        "  d1 = abs(left - cur)\n",
        "  d2 = abs(right - cur)\n",
        "  if (d1 < d2):\n",
        "    return 0\n",
        "  else:\n",
        "    return 1"
      ],
      "execution_count": 67,
      "outputs": []
    },
    {
      "cell_type": "markdown",
      "metadata": {
        "id": "SJdkMbbOMPXy"
      },
      "source": [
        "flag: =0 for fi(beta(L-t))\n",
        "\n",
        "flag: =1 for fi(h(t))"
      ]
    },
    {
      "cell_type": "code",
      "metadata": {
        "id": "BIDkCQqF5cWd"
      },
      "source": [
        "def integral_A_to_B_test(a,b, fi_arr,v_extern,flag):\n",
        "  #flag: =0 for fi(beta(L-t))\n",
        "  #flag: =1 for fi(h(t))\n",
        "\n",
        "  #for x\n",
        "  # j_start = int(round( (a - x_0)/h_x, 0))\n",
        "  # j_finish = int(round( (b - x_0)/h_x, 0))\n",
        "\n",
        "  #for t\n",
        "  # i_start = int(round( (a - x_i + t_j - t_0)/h_t , 0))\n",
        "  # i_finish = int(round( (b - x_i + t_j - t_0)/h_t , 0))\n",
        "  \n",
        "\n",
        "  #NEW BLOCK FOR MORE ACCURACY\n",
        "  # flag = Is_need_to_next_index_step(f[i_start][j_start],f[i_start][j_start+1],x_i)\n",
        "  # j_start = j_start + 1* flag\n",
        "  # j_finish = j_finish + 1*flag\n",
        "\n",
        "\n",
        "  \n",
        "  #define num of steps for calculating integral on segment\n",
        "  # num_of_steps = j_finish - j_start\n",
        "\n",
        "  #difference in h_x and h_t step\n",
        "  # diff = int(round(h_x/h_t,0))\n",
        "  \n",
        "  step = 0.1\n",
        "  num_of_steps = int((b-a)/step)\n",
        "  if (num_of_steps<1):\n",
        "    return integral_on_simple_segment_test(a,b,step,fi_arr,v_extern,flag)\n",
        "  ret_value = 0.0\n",
        "  # h=(b-a)/num_of_steps\n",
        "\n",
        "  for j in range(num_of_steps):\n",
        "    ret_value+=integral_on_simple_segment_test(a+j*step, a+(j+1)*step, step, fi_arr,v_extern,flag)\n",
        "    \n",
        "    \n",
        "  return ret_value\n"
      ],
      "execution_count": 68,
      "outputs": []
    },
    {
      "cell_type": "markdown",
      "metadata": {
        "id": "eXipRlZiMpxj"
      },
      "source": [
        "**8) Two formulas**"
      ]
    },
    {
      "cell_type": "code",
      "metadata": {
        "id": "AdnluvzKM1wE"
      },
      "source": [
        "def calculate_fi_flag_0(v_0, fi_arr_previous):\n",
        "  retValue = 0\n",
        "  beta_inverse_from_v = inverse_beta(v_0)\n",
        "  beta_derivative_from_beta_inverse = beta_derivative(beta_inverse_from_v)\n",
        "\n",
        "\n",
        "  multiplier = ( beta_derivative_from_beta_inverse + u_derivate_t_0_point(0,beta_inverse_from_v) ) / ( beta_derivative_from_beta_inverse * a_t.compute(beta_inverse_from_v) )\n",
        "\n",
        "  third_addendum_numerator = ( a_t.compute(L) * h_derivative(L-beta_inverse_from_v) * getValueFromFi(fi_arr_previous, h_t_func.compute(L - beta_inverse_from_v) ) )\n",
        "  third_addendum_denominator = ( u_derivate_x_L_point(L,L-beta_inverse_from_v,v_0,fi_arr_previous) + h_derivative(L - beta_inverse_from_v) )\n",
        "  # print(third_addendum_numerator)\n",
        "  # print(third_addendum_denominator)\n",
        "  if (third_addendum_denominator==0.0):\n",
        "    third_addendum_denominator=1\n",
        "    \n",
        "  third_addendum = third_addendum_numerator / third_addendum_denominator\n",
        "\n",
        "  first_addendum = (-1) * h_derivative(L - beta_inverse_from_v)\n",
        "  \n",
        "  second_addendum = beta_derivative_from_beta_inverse\n",
        "\n",
        "  forth_addendum = integral_A_to_B_test(v_0, h_t_func.compute(L - beta_inverse_from_v), fi_arr_previous, v_0, 0)\n",
        "\n",
        "  retValue = first_addendum - second_addendum - third_addendum - forth_addendum\n",
        "\n",
        "  retValue = retValue * multiplier\n",
        "\n",
        "  return retValue\n"
      ],
      "execution_count": 69,
      "outputs": []
    },
    {
      "cell_type": "code",
      "metadata": {
        "id": "nSFup_muR2dr"
      },
      "source": [
        "def calculate_fi_flag_1(v_0, fi_arr_previous):\n",
        "  retValue = 0\n",
        "  h_inverse_from_v = inverse_h_t(v_0)\n",
        "  h_derivative_from_h_inverse = h_derivative(h_inverse_from_v)\n",
        "\n",
        "\n",
        "  multiplier = ( h_derivative_from_h_inverse + u_derivate_x_L_point(L,h_inverse_from_v,v_0,fi_arr_previous) ) / ( h_derivative_from_h_inverse * a_t.compute(L) )\n",
        "\n",
        "  third_addendum_numerator = ( beta_derivative(L-h_inverse_from_v) * a_t.compute(L-h_inverse_from_v) * getValueFromFi(fi_arr_previous,beta_x.compute(L - h_inverse_from_v)) )\n",
        "  third_addendum_denominator = ( beta_derivative(L-h_inverse_from_v) + u_derivate_t_0_point(0,L-h_inverse_from_v) )\n",
        "  if (third_addendum_denominator==0.0):\n",
        "    third_addendum_denominator=1\n",
        "  third_addendum = third_addendum_numerator / third_addendum_denominator\n",
        "\n",
        "  first_addendum = (-1) * h_derivative(h_inverse_from_v)\n",
        "  \n",
        "  second_addendum = beta_derivative(L-h_inverse_from_v)\n",
        "\n",
        "  forth_addendum = integral_A_to_B_test(v_0, h_t_func.compute(h_inverse_from_v), fi_arr_previous, v_0, 1 )\n",
        "\n",
        "  retValue = first_addendum - second_addendum - third_addendum - forth_addendum\n",
        "\n",
        "  retValue = retValue * multiplier\n",
        "\n",
        "  return retValue"
      ],
      "execution_count": 70,
      "outputs": []
    },
    {
      "cell_type": "markdown",
      "metadata": {
        "id": "4kesRYjYYrSO"
      },
      "source": [
        "Calculating fi(v)"
      ]
    },
    {
      "cell_type": "code",
      "metadata": {
        "id": "mmsUIxBzgCTC"
      },
      "source": [
        "np.seterr('raise')\n",
        "def check_is_in_segment(segment_start,segment_finish,value):\n",
        "  retVal = 0\n",
        "  value=np.float64(value).item()\n",
        "  if (segment_start<=value):\n",
        "    if (value<=segment_finish):\n",
        "      retVal = 1 # true (in segment)\n",
        "  return retVal"
      ],
      "execution_count": 71,
      "outputs": []
    },
    {
      "cell_type": "code",
      "metadata": {
        "id": "F1agJ9fGYwDl",
        "colab": {
          "base_uri": "https://localhost:8080/"
        },
        "outputId": "bd8c621a-16f3-4235-a551-9bf351aee8c6"
      },
      "source": [
        "#flag: =0 for fi(beta(L-t))\n",
        "#flag: =1 for fi(h(t))\n",
        "\n",
        "num_of_iterations = 1\n",
        "\n",
        "print(fi_v_values)\n",
        "array_prev = np.ones(len(fi_v_values)) #deepcopy(fi_v_values)\n",
        "array_cur = deepcopy(array_prev)\n",
        "print(array_prev)\n",
        "print(len(array_prev))\n",
        "step = fi_v_derivative_step\n",
        "\n",
        "array_v_args = np.zeros(int(1/step)+1)\n",
        "print(len(array_v_args)) \n",
        "for i in range(len(array_v_args)):\n",
        "  array_v_args[i] = i*step\n",
        "print(array_v_args)\n",
        "\n",
        "#Suppose we know fi(v) on all line[from 0 to 0.5] and all fi(v) wanna be on [0; 1]\n",
        "for steps in range(num_of_iterations):\n",
        "  v_start = 0\n",
        "  array_cur = deepcopy(array_prev)\n",
        "  print(array_cur)\n",
        "  for i in range(0,int(1/step) + 1):#now i from 0 to 100 => values from 0.00 to 1.00\n",
        "\n",
        "#!!!\n",
        "    # i=0\n",
        "    v_cur_point = array_v_args[i]\n",
        "\n",
        "    print(\"v_cur_point = \" + str(v_cur_point))\n",
        "\n",
        "    t_for_beta = L - inverse_beta(v_cur_point)\n",
        "    t_for_h = inverse_h_t(v_cur_point)\n",
        "    flag = -1\n",
        "    if (check_is_in_segment(0,0.5,h_t_func.compute(t_for_h)) == 1):# if true => take fi n+1 from beta(L - t) --> flag = 0\n",
        "      array_cur[i] = round(calculate_fi_flag_0(v_cur_point,array_prev) , 3)\n",
        "    else:\n",
        "      array_cur[i] = round(calculate_fi_flag_1(v_cur_point,array_prev), 3)\n",
        "    print(i)\n",
        "    print(array_cur[i])\n",
        "\n",
        "#!!!\n",
        "    # break\n",
        "print(\"Final\")\n",
        "print(array_cur)\n",
        "    \n"
      ],
      "execution_count": 72,
      "outputs": [
        {
          "output_type": "stream",
          "text": [
            "[0. 0. 0. ... 0. 0. 0.]\n",
            "[1. 1. 1. ... 1. 1. 1.]\n",
            "20001\n",
            "101\n",
            "[0.   0.01 0.02 0.03 0.04 0.05 0.06 0.07 0.08 0.09 0.1  0.11 0.12 0.13 0.14 0.15 0.16 0.17 0.18 0.19 0.2  0.21 0.22 0.23 0.24 0.25 0.26 0.27 0.28 0.29 0.3  0.31 0.32 0.33 0.34 0.35 0.36 0.37 0.38 0.39 0.4  0.41 0.42 0.43 0.44 0.45 0.46 0.47 0.48 0.49 0.5  0.51 0.52 0.53 0.54 0.55 0.56 0.57 0.58 0.59 0.6  0.61 0.62 0.63 0.64 0.65 0.66 0.67 0.68 0.69 0.7  0.71 0.72 0.73 0.74 0.75 0.76 0.77 0.78 0.79 0.8  0.81 0.82 0.83 0.84 0.85 0.86 0.87 0.88 0.89 0.9  0.91 0.92 0.93 0.94 0.95 0.96 0.97 0.98 0.99 1.  ]\n",
            "[1. 1. 1. ... 1. 1. 1.]\n",
            "v_cur_point = 0.0\n",
            "0\n",
            "-2.0\n",
            "v_cur_point = 0.01\n",
            "1\n",
            "-2.0\n",
            "v_cur_point = 0.02\n",
            "2\n",
            "-2.0\n",
            "v_cur_point = 0.03\n",
            "3\n",
            "-2.0\n",
            "v_cur_point = 0.04\n",
            "4\n",
            "-2.0\n",
            "v_cur_point = 0.05\n",
            "5\n",
            "-2.0\n",
            "v_cur_point = 0.06\n",
            "6\n",
            "-2.0\n",
            "v_cur_point = 0.07\n",
            "7\n",
            "-2.0\n",
            "v_cur_point = 0.08\n",
            "8\n",
            "-2.0\n",
            "v_cur_point = 0.09\n",
            "9\n",
            "-2.0\n",
            "v_cur_point = 0.1\n",
            "10\n",
            "-2.0\n",
            "v_cur_point = 0.11\n",
            "11\n",
            "-2.0\n",
            "v_cur_point = 0.12\n",
            "12\n",
            "-2.0\n",
            "v_cur_point = 0.13\n",
            "13\n",
            "-2.0\n",
            "v_cur_point = 0.14\n",
            "14\n",
            "-2.0\n",
            "v_cur_point = 0.15\n",
            "15\n",
            "-2.0\n",
            "v_cur_point = 0.16\n",
            "16\n",
            "-2.0\n",
            "v_cur_point = 0.17\n",
            "17\n",
            "-2.0\n",
            "v_cur_point = 0.18\n",
            "18\n",
            "-2.0\n",
            "v_cur_point = 0.19\n",
            "19\n",
            "-2.0\n",
            "v_cur_point = 0.2\n",
            "20\n",
            "-2.0\n",
            "v_cur_point = 0.21\n",
            "21\n",
            "-2.0\n",
            "v_cur_point = 0.22\n",
            "22\n",
            "-2.0\n",
            "v_cur_point = 0.23\n",
            "23\n",
            "-2.0\n",
            "v_cur_point = 0.24\n",
            "24\n",
            "-2.0\n",
            "v_cur_point = 0.25\n",
            "25\n",
            "-2.0\n",
            "v_cur_point = 0.26\n",
            "26\n",
            "-2.0\n",
            "v_cur_point = 0.27\n",
            "27\n",
            "-2.0\n",
            "v_cur_point = 0.28\n",
            "28\n",
            "-2.0\n",
            "v_cur_point = 0.29\n",
            "29\n",
            "-2.0\n",
            "v_cur_point = 0.3\n",
            "30\n",
            "-2.0\n",
            "v_cur_point = 0.31\n",
            "31\n",
            "-2.0\n",
            "v_cur_point = 0.32\n",
            "32\n",
            "-2.0\n",
            "v_cur_point = 0.33\n",
            "33\n",
            "-2.0\n",
            "v_cur_point = 0.34\n",
            "34\n",
            "-2.0\n",
            "v_cur_point = 0.35000000000000003\n",
            "35\n",
            "-2.0\n",
            "v_cur_point = 0.36\n",
            "36\n",
            "-2.0\n",
            "v_cur_point = 0.37\n",
            "37\n",
            "-2.0\n",
            "v_cur_point = 0.38\n",
            "38\n",
            "-2.0\n",
            "v_cur_point = 0.39\n",
            "39\n",
            "-2.0\n",
            "v_cur_point = 0.4\n",
            "40\n",
            "-2.0\n",
            "v_cur_point = 0.41000000000000003\n",
            "41\n",
            "-2.0\n",
            "v_cur_point = 0.42\n",
            "42\n",
            "-2.0\n",
            "v_cur_point = 0.43\n",
            "43\n",
            "-2.0\n",
            "v_cur_point = 0.44\n",
            "44\n",
            "-2.0\n",
            "v_cur_point = 0.45\n",
            "45\n",
            "-2.0\n",
            "v_cur_point = 0.46\n",
            "46\n",
            "-2.0\n",
            "v_cur_point = 0.47000000000000003\n",
            "47\n",
            "-2.0\n",
            "v_cur_point = 0.48\n",
            "48\n",
            "-2.0\n",
            "v_cur_point = 0.49\n",
            "49\n",
            "-2.0\n",
            "v_cur_point = 0.5\n",
            "50\n",
            "-2.0\n",
            "v_cur_point = 0.51\n",
            "51\n",
            "-0.0\n",
            "v_cur_point = 0.52\n",
            "52\n",
            "-0.0\n",
            "v_cur_point = 0.53\n",
            "53\n",
            "-0.0\n",
            "v_cur_point = 0.54\n",
            "54\n",
            "-0.0\n",
            "v_cur_point = 0.55\n",
            "55\n",
            "-0.0\n",
            "v_cur_point = 0.56\n",
            "56\n",
            "-0.0\n",
            "v_cur_point = 0.5700000000000001\n",
            "57\n",
            "-0.0\n",
            "v_cur_point = 0.58\n",
            "58\n",
            "-0.0\n",
            "v_cur_point = 0.59\n",
            "59\n",
            "-0.0\n",
            "v_cur_point = 0.6\n",
            "60\n",
            "-0.0\n",
            "v_cur_point = 0.61\n",
            "61\n",
            "-0.0\n",
            "v_cur_point = 0.62\n",
            "62\n",
            "-0.0\n",
            "v_cur_point = 0.63\n",
            "63\n",
            "-0.0\n",
            "v_cur_point = 0.64\n",
            "64\n",
            "-0.0\n",
            "v_cur_point = 0.65\n",
            "65\n",
            "-0.0\n",
            "v_cur_point = 0.66\n",
            "66\n",
            "-0.0\n",
            "v_cur_point = 0.67\n",
            "67\n",
            "-0.0\n",
            "v_cur_point = 0.68\n",
            "68\n",
            "-0.0\n",
            "v_cur_point = 0.6900000000000001\n",
            "69\n",
            "-0.0\n",
            "v_cur_point = 0.7000000000000001\n",
            "70\n",
            "-0.0\n",
            "v_cur_point = 0.71\n",
            "71\n",
            "-0.0\n",
            "v_cur_point = 0.72\n",
            "72\n",
            "-0.0\n",
            "v_cur_point = 0.73\n",
            "73\n",
            "-0.0\n",
            "v_cur_point = 0.74\n",
            "74\n",
            "-0.0\n",
            "v_cur_point = 0.75\n",
            "75\n",
            "-0.0\n",
            "v_cur_point = 0.76\n",
            "76\n",
            "-0.0\n",
            "v_cur_point = 0.77\n",
            "77\n",
            "-0.0\n",
            "v_cur_point = 0.78\n",
            "78\n",
            "-0.0\n",
            "v_cur_point = 0.79\n",
            "79\n",
            "-0.0\n",
            "v_cur_point = 0.8\n",
            "80\n",
            "-0.0\n",
            "v_cur_point = 0.81\n",
            "81\n",
            "-0.0\n",
            "v_cur_point = 0.8200000000000001\n",
            "82\n",
            "-0.0\n",
            "v_cur_point = 0.8300000000000001\n",
            "83\n",
            "-0.0\n",
            "v_cur_point = 0.84\n",
            "84\n",
            "-0.0\n",
            "v_cur_point = 0.85\n",
            "85\n",
            "-0.0\n",
            "v_cur_point = 0.86\n",
            "86\n",
            "-0.0\n",
            "v_cur_point = 0.87\n",
            "87\n",
            "-0.0\n",
            "v_cur_point = 0.88\n",
            "88\n",
            "-0.0\n",
            "v_cur_point = 0.89\n",
            "89\n",
            "-0.0\n",
            "v_cur_point = 0.9\n",
            "90\n",
            "-0.0\n",
            "v_cur_point = 0.91\n",
            "91\n",
            "-0.0\n",
            "v_cur_point = 0.92\n",
            "92\n",
            "-0.0\n",
            "v_cur_point = 0.93\n",
            "93\n",
            "-0.0\n",
            "v_cur_point = 0.9400000000000001\n",
            "94\n",
            "-0.0\n",
            "v_cur_point = 0.9500000000000001\n",
            "95\n",
            "-0.0\n",
            "v_cur_point = 0.96\n",
            "96\n",
            "-0.0\n",
            "v_cur_point = 0.97\n",
            "97\n",
            "-0.0\n",
            "v_cur_point = 0.98\n",
            "98\n",
            "-0.0\n",
            "v_cur_point = 0.99\n",
            "99\n",
            "-0.0\n",
            "v_cur_point = 1.0\n",
            "100\n",
            "-0.0\n",
            "Final\n",
            "[-2. -2. -2. ...  1.  1.  1.]\n"
          ],
          "name": "stdout"
        }
      ]
    },
    {
      "cell_type": "code",
      "metadata": {
        "id": "SNSd4S8XrO99"
      },
      "source": [
        "# #drawing\n",
        "# #data to be plotted\n",
        "# t = array_v_args\n",
        "\n",
        "# #set starting iteration ( j ) for x_j\n",
        "# #(selecting colomns)\n",
        "# startIterationFor_x_j = 0\n",
        "# #set what num of first from x_j you want to display\n",
        "# # num_of_graphs_coloms = 5\n",
        "\n",
        "\n",
        "# u = array_cur\n",
        "# #plotting\n",
        "# plt.title(\"U(x_\"+str(startIterationFor_x_j)+\", t)\")\n",
        "# plt.xlabel(\"T axis\")\n",
        "# plt.ylabel(\"U(x_\" +str(startIterationFor_x_j)+\", t) axis\")\n",
        "# #show all x values\n",
        "# plt.xticks(t)\n",
        "# #set y axis fixed size\n",
        "# axes = plt.axes()\n",
        "# # axes.set_ylim([0, 2.5])\n",
        "# #draw\n",
        "# plt.plot(x,u, linestyle='--', marker='o', color = \"blue\")\n",
        "# plt.show()"
      ],
      "execution_count": 75,
      "outputs": []
    },
    {
      "cell_type": "code",
      "metadata": {
        "id": "J00nb6N3RCkF"
      },
      "source": [
        "t = array_v_args\n",
        "u = array_cur"
      ],
      "execution_count": 77,
      "outputs": []
    },
    {
      "cell_type": "code",
      "metadata": {
        "colab": {
          "base_uri": "https://localhost:8080/",
          "height": 591
        },
        "id": "iccK0HyRsGC6",
        "outputId": "fb60251d-2a39-47b5-8dca-0060ae23b379"
      },
      "source": [
        "# y_d1 = np.diff(y,n=1)\n",
        "# y_d1 = np.true_divide(y_d1,h_x)\n",
        "yy=np.zeros(len(t))\n",
        "for i in range(len(t)):\n",
        "  yy[i]=u[i]\n",
        "\n",
        "my_fig_size = 10\n",
        "fig = plt.figure(figsize=(my_fig_size+5,my_fig_size))\n",
        "\n",
        "ax=fig.add_subplot(111)\n",
        "\n",
        "ax.set_title('  ')\n",
        "ax.plot(t, yy)\n",
        "ax.spines['left'].set_position('zero')\n",
        "ax.spines['right'].set_color('none')\n",
        "ax.spines['bottom'].set_position('zero')\n",
        "ax.spines['top'].set_color('none')\n",
        "\n",
        "# remove the ticks from the top and right edges\n",
        "ax.xaxis.set_ticks_position('bottom')\n",
        "ax.yaxis.set_ticks_position('left')"
      ],
      "execution_count": 78,
      "outputs": [
        {
          "output_type": "display_data",
          "data": {
            "image/png": "[encoded data removed]",
            "text/plain": [
              "<Figure size 1080x720 with 1 Axes>"
            ]
          },
          "metadata": {
            "tags": [],
            "needs_background": "light"
          }
        }
      ]
    }
  ]
}