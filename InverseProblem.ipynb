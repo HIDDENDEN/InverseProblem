{
  "nbformat": 4,
  "nbformat_minor": 0,
  "metadata": {
    "colab": {
      "name": "InverseProblem.ipynb",
      "provenance": [],
      "collapsed_sections": [],
      "mount_file_id": "1dIWbh4nRcZFD-Kdg5ILL17OrLxrxI7to",
      "authorship_tag": "ABX9TyPfhz5slj6SAv8ppFAKWHsx",
      "include_colab_link": true
    },
    "kernelspec": {
      "name": "python3",
      "display_name": "Python 3"
    }
  },
  "cells": [
    {
      "cell_type": "markdown",
      "metadata": {
        "id": "view-in-github",
        "colab_type": "text"
      },
      "source": [
        "<a href=\"https://colab.research.google.com/github/HIDDENDEN/InverseProblem/blob/main/InverseProblem.ipynb\" target=\"_parent\"><img src=\"https://colab.research.google.com/assets/colab-badge.svg\" alt=\"Open In Colab\"/></a>"
      ]
    },
    {
      "cell_type": "markdown",
      "metadata": {
        "id": "n1wqfoPDQ8oj"
      },
      "source": [
        "Importing functions\n"
      ]
    },
    {
      "cell_type": "code",
      "metadata": {
        "id": "fR0hLGrNQ-gJ"
      },
      "source": [
        "!cp \"drive/My Drive/Science_res/InverseProblem/At.py\" .\n",
        "import At\n",
        "\n",
        "!cp \"drive/My Drive/Science_res/InverseProblem/Betax.py\" .\n",
        "import Betax\n",
        "\n",
        "!cp \"drive/My Drive/Science_res/InverseProblem/Ht.py\" .\n",
        "import Ht\n",
        "\n",
        "!cp \"drive/My Drive/Science_res/InverseProblem/Kcit.py\" .\n",
        "import Kcit"
      ],
      "execution_count": null,
      "outputs": []
    },
    {
      "cell_type": "code",
      "metadata": {
        "colab": {
          "base_uri": "https://localhost:8080/"
        },
        "id": "FaN7CzcDZwbh",
        "outputId": "0e02cfef-ad8a-43cf-d8d6-185b2fa77f62"
      },
      "source": [
        "pip install findiff"
      ],
      "execution_count": null,
      "outputs": [
        {
          "output_type": "stream",
          "text": [
            "Requirement already satisfied: findiff in /usr/local/lib/python3.6/dist-packages (0.8.5)\n",
            "Requirement already satisfied: scipy in /usr/local/lib/python3.6/dist-packages (from findiff) (1.4.1)\n",
            "Requirement already satisfied: numpy in /usr/local/lib/python3.6/dist-packages (from findiff) (1.18.5)\n"
          ],
          "name": "stdout"
        }
      ]
    },
    {
      "cell_type": "markdown",
      "metadata": {
        "id": "2EFC2aeYTq_c"
      },
      "source": [
        "Importing libs"
      ]
    },
    {
      "cell_type": "code",
      "metadata": {
        "id": "YLZMLIcOTp6L"
      },
      "source": [
        "import numpy as np\n",
        "np.set_printoptions(linewidth=np.inf)# no extra newlines in output\n",
        "\n",
        "import math\n",
        "\n",
        "\n",
        "# define operator\n",
        "from findiff import FinDiff\n",
        "\n",
        "from copy import deepcopy\n",
        "\n",
        "# We'll draw using matplot lib\n",
        "# importing the library \n",
        "import matplotlib.pyplot as plt  "
      ],
      "execution_count": null,
      "outputs": []
    },
    {
      "cell_type": "markdown",
      "metadata": {
        "id": "khFWXstSRpCz"
      },
      "source": [
        "Initialize functions"
      ]
    },
    {
      "cell_type": "code",
      "metadata": {
        "id": "iqPgqecERrrg"
      },
      "source": [
        "a_t = At.A_t()\n",
        "kci_t = Kcit.Kci_t()\n",
        "beta_x = Betax.Beta_x()\n",
        "h_t_func = Ht.H_t()"
      ],
      "execution_count": null,
      "outputs": []
    },
    {
      "cell_type": "markdown",
      "metadata": {
        "id": "xwsX2832cFwO"
      },
      "source": [
        "Set steps size of X axys and T axys\n",
        "And x_0 , t_0"
      ]
    },
    {
      "cell_type": "code",
      "metadata": {
        "id": "dcMlI5-mcOVf"
      },
      "source": [
        "# Test L = 1 and T = 1\n",
        "# Test num_of_steps N_x = 10 , N_t = 10\n",
        "L = 1\n",
        "T = 1\n",
        "N_x = 100\n",
        "N_t = 100\n",
        "\n",
        "h_x_axys = L/N_x\n",
        "h_t_axys = T/N_t\n",
        "\n",
        "#Test segment 0 <= x <= 1\n",
        "#Test segment 0 <= t <= 1\n",
        "\n",
        "x_0 = 0\n",
        "t_0 = 0"
      ],
      "execution_count": null,
      "outputs": []
    },
    {
      "cell_type": "markdown",
      "metadata": {
        "id": "6NIaqq9DShmr"
      },
      "source": [
        "### *Tools*"
      ]
    },
    {
      "cell_type": "markdown",
      "metadata": {
        "id": "9dfyjEtKSoa1"
      },
      "source": [
        "**1.1) Inverse beta(x)**"
      ]
    },
    {
      "cell_type": "markdown",
      "metadata": {
        "id": "nGAyqIDvTLFF"
      },
      "source": [
        "Setting grids"
      ]
    },
    {
      "cell_type": "markdown",
      "metadata": {
        "id": "Ls_9eLzrTMqA"
      },
      "source": [
        "beta_x_grid\n"
      ]
    },
    {
      "cell_type": "code",
      "metadata": {
        "colab": {
          "base_uri": "https://localhost:8080/"
        },
        "id": "rvxvPVYWSmfF",
        "outputId": "c2c03db7-9b3e-4a39-99a3-027aec4b0105"
      },
      "source": [
        "# x_grid range = x_grid_length   x_grid = [-1/2 * x_grid_length ; 1/2 * x_grid_length]\n",
        "beta_x_grid_range = 100\n",
        "\n",
        "beta_x_grid_length = beta_x_grid_range * 2 #for minus values\n",
        "\n",
        "beta_x_grid_length_for_array_implementation = beta_x_grid_length + 1\n",
        "beta_x_grid = np.zeros(beta_x_grid_length_for_array_implementation)\n",
        "for j in range(beta_x_grid_length_for_array_implementation):\n",
        "\n",
        "  beta_x_grid[j] = j - (1/2) * beta_x_grid_length\n",
        "\n",
        "print (beta_x_grid)"
      ],
      "execution_count": null,
      "outputs": [
        {
          "output_type": "stream",
          "text": [
            "[-100.  -99.  -98.  -97.  -96.  -95.  -94.  -93.  -92.  -91.  -90.  -89.  -88.  -87.  -86.  -85.  -84.  -83.  -82.  -81.  -80.  -79.  -78.  -77.  -76.  -75.  -74.  -73.  -72.  -71.  -70.  -69.  -68.  -67.  -66.  -65.  -64.  -63.  -62.  -61.  -60.  -59.  -58.  -57.  -56.  -55.  -54.  -53.  -52.  -51.  -50.  -49.  -48.  -47.  -46.  -45.  -44.  -43.  -42.  -41.  -40.  -39.  -38.  -37.  -36.  -35.  -34.  -33.  -32.  -31.  -30.  -29.  -28.  -27.  -26.  -25.  -24.  -23.  -22.  -21.  -20.  -19.  -18.  -17.  -16.  -15.  -14.  -13.  -12.  -11.  -10.   -9.   -8.   -7.   -6.   -5.   -4.   -3.   -2.   -1.    0.    1.    2.    3.    4.    5.    6.    7.    8.    9.   10.   11.   12.   13.   14.   15.   16.   17.   18.   19.   20.   21.   22.   23.   24.   25.   26.   27.   28.   29.   30.   31.   32.   33.   34.   35.   36.   37.   38.   39.   40.   41.   42.   43.   44.   45.   46.   47.   48.   49.   50.   51.   52.   53.   54.   55.   56.   57.   58.   59.   60.   61.   62.   63.   64.   65.   66.   67.   68.   69.   70.   71.   72.   73.   74.   75.   76.   77.   78.   79.   80.   81.   82.   83.   84.   85.   86.   87.   88.   89.   90.   91.   92.   93.   94.   95.   96.   97.   98.   99.  100.]\n"
          ],
          "name": "stdout"
        }
      ]
    },
    {
      "cell_type": "markdown",
      "metadata": {
        "id": "2QN2DWTTT325"
      },
      "source": [
        "beta_y_grid"
      ]
    },
    {
      "cell_type": "code",
      "metadata": {
        "colab": {
          "base_uri": "https://localhost:8080/"
        },
        "id": "6S5fmpCHT6Ah",
        "outputId": "ced4c15b-8328-4bd4-b4c0-52709083a206"
      },
      "source": [
        "# y_grid range = y_grid_length   y_grid = [-1/2 * y_grid_length ; 1/2 * y_grid_length]\n",
        "beta_y_grid_range = 100\n",
        "\n",
        "beta_y_grid_length = beta_y_grid_range * 2\n",
        "\n",
        "beta_y_grid_length_for_array_implementation = beta_y_grid_length + 1\n",
        "beta_y_grid = np.zeros(beta_y_grid_length_for_array_implementation)\n",
        "for j in range(beta_y_grid_length_for_array_implementation):\n",
        "\n",
        "  beta_y_grid[j] = j - (1/2) * beta_y_grid_length\n",
        "\n",
        "print (beta_y_grid)"
      ],
      "execution_count": null,
      "outputs": [
        {
          "output_type": "stream",
          "text": [
            "[-100.  -99.  -98.  -97.  -96.  -95.  -94.  -93.  -92.  -91.  -90.  -89.  -88.  -87.  -86.  -85.  -84.  -83.  -82.  -81.  -80.  -79.  -78.  -77.  -76.  -75.  -74.  -73.  -72.  -71.  -70.  -69.  -68.  -67.  -66.  -65.  -64.  -63.  -62.  -61.  -60.  -59.  -58.  -57.  -56.  -55.  -54.  -53.  -52.  -51.  -50.  -49.  -48.  -47.  -46.  -45.  -44.  -43.  -42.  -41.  -40.  -39.  -38.  -37.  -36.  -35.  -34.  -33.  -32.  -31.  -30.  -29.  -28.  -27.  -26.  -25.  -24.  -23.  -22.  -21.  -20.  -19.  -18.  -17.  -16.  -15.  -14.  -13.  -12.  -11.  -10.   -9.   -8.   -7.   -6.   -5.   -4.   -3.   -2.   -1.    0.    1.    2.    3.    4.    5.    6.    7.    8.    9.   10.   11.   12.   13.   14.   15.   16.   17.   18.   19.   20.   21.   22.   23.   24.   25.   26.   27.   28.   29.   30.   31.   32.   33.   34.   35.   36.   37.   38.   39.   40.   41.   42.   43.   44.   45.   46.   47.   48.   49.   50.   51.   52.   53.   54.   55.   56.   57.   58.   59.   60.   61.   62.   63.   64.   65.   66.   67.   68.   69.   70.   71.   72.   73.   74.   75.   76.   77.   78.   79.   80.   81.   82.   83.   84.   85.   86.   87.   88.   89.   90.   91.   92.   93.   94.   95.   96.   97.   98.   99.  100.]\n"
          ],
          "name": "stdout"
        }
      ]
    },
    {
      "cell_type": "markdown",
      "metadata": {
        "id": "C6guMvcGUFP2"
      },
      "source": [
        "Fill the grid with function values of Beta(x)"
      ]
    },
    {
      "cell_type": "code",
      "metadata": {
        "id": "YYh9V8cIUK80"
      },
      "source": [
        "# our y values will be structure elements = [cur value ; argument that entered that cur value]\n",
        "class beta_x_struct:\n",
        "\n",
        "    def __init__(self, beta_value , arg_value):\n",
        "      self.beta_value = beta_value\n",
        "      self.arg_value = arg_value\n",
        "\n",
        "    def get_beta_value(self):\n",
        "      return self.beta_value\n",
        "\n",
        "    def get_arg_value(self):\n",
        "      return self.arg_value\n",
        "    \n",
        "    def __str__(self):\n",
        "      return \"[ \"+str(self.beta_value) + \" || \" + str(self.arg_value) + \" ];\""
      ],
      "execution_count": null,
      "outputs": []
    },
    {
      "cell_type": "code",
      "metadata": {
        "id": "4y3Ejg-FUdQO"
      },
      "source": [
        "#uncounted values will be set as np.NaN\n",
        "\n",
        "#fi_u(x) values will be strored as a structure = {grid_value ; x that gave that result}\n",
        "\n",
        "init_array_struct = beta_x_struct(0.,0.)\n",
        "\n",
        "beta_x_values_grid  = np.empty(shape=(beta_x_grid_length_for_array_implementation,), dtype=object)\n",
        "\n",
        "for j in range(beta_x_grid_length_for_array_implementation):\n",
        "  arg = beta_x_grid[j]\n",
        "  beta_value = beta_x.compute(arg)\n",
        "\n",
        "  beta_x_values_grid[j] = beta_x_struct(beta_value , arg)\n",
        "\n",
        "# for j in range(beta_x_grid_length_for_array_implementation):\n",
        "#   print (beta_x_values_grid[j])\n"
      ],
      "execution_count": null,
      "outputs": []
    },
    {
      "cell_type": "markdown",
      "metadata": {
        "id": "0O90su-5Wc9U"
      },
      "source": [
        "Sorting beta_x_values grid by func values in ascending order"
      ]
    },
    {
      "cell_type": "code",
      "metadata": {
        "id": "ue2_NpjwWk6m"
      },
      "source": [
        "list1 = beta_x_values_grid.tolist()\n",
        "list1.sort(key = lambda x: x.get_beta_value(), reverse=False)\n",
        "# for j in range(x_grid_length_for_array_implementation):\n",
        "#   print (list1[j])\n",
        "\n",
        "beta_x_value_grid=np.array(list1)\n",
        "# for j in range(x_grid_length_for_array_implementation):\n",
        "#   print (fi_u_grid[j])"
      ],
      "execution_count": null,
      "outputs": []
    },
    {
      "cell_type": "markdown",
      "metadata": {
        "id": "moWuvp68WzW7"
      },
      "source": [
        "Compute inverse function for beta(x)"
      ]
    },
    {
      "cell_type": "code",
      "metadata": {
        "id": "g09czUEXW9hP"
      },
      "source": [
        "def search_left_index_beta_x_values_grid(value):\n",
        "  for i in range(len(beta_x_value_grid)):\n",
        "    if (beta_x_value_grid[i].get_beta_value() <= value):# [ * | | value | | | |]\n",
        "      if ((i+1)<len(beta_x_value_grid)):# i not the right side of array\n",
        "        if (beta_x_value_grid[i+1].get_beta_value() < value):\n",
        "          continue\n",
        "        else:\n",
        "          return i\n",
        "      else:# i the right side of array --- BAD SITUTION - THROW EXCEPTION(need to compute wider grid_fi_u)\n",
        "        raise ValueError('Need to compute wider grid_beta_x_values')\n",
        "    else:# i the left side of array bigger than value --- BAD SITUTION - THROW EXCEPTION(need to compute wider grid_fi_u)\n",
        "      raise ValueError('Need to compute wider grid_beta_x_values LEFT SIDE')\n"
      ],
      "execution_count": null,
      "outputs": []
    },
    {
      "cell_type": "code",
      "metadata": {
        "id": "sRyVGZoyXTkU"
      },
      "source": [
        "def compute_weight(value, our_point, whole_dist_between_border_points):\n",
        "  return ( (abs(value - our_point)) / whole_dist_between_border_points)"
      ],
      "execution_count": null,
      "outputs": []
    },
    {
      "cell_type": "code",
      "metadata": {
        "id": "agBEmzerXXqk"
      },
      "source": [
        "def inverse_beta(y_0):\n",
        "  left_index = search_left_index_beta_x_values_grid(y_0)\n",
        "\n",
        "  #search left and right side distance ftom y_0   ---> this will form an impact that left and right points enter\n",
        "  left_point_value = beta_x_value_grid[left_index].get_beta_value()\n",
        "  right_point_value = beta_x_value_grid[left_index + 1].get_beta_value()\n",
        "\n",
        "  whole_dist_between_border_points = abs(right_point_value - left_point_value)\n",
        "\n",
        "  #compute weights\n",
        "  left_side_weight = compute_weight(y_0,left_point_value,whole_dist_between_border_points)\n",
        "\n",
        "  right_side_weight = compute_weight(y_0,right_point_value,whole_dist_between_border_points)\n",
        "\n",
        "  #compute return value\n",
        "  arg1 = beta_x_value_grid[left_index].get_arg_value()\n",
        "  weight_arg1 = (1 - left_side_weight)\n",
        "\n",
        "  arg2 = beta_x_value_grid[left_index + 1].get_arg_value()\n",
        "  weight_arg2 = (1 - right_side_weight)\n",
        "\n",
        "  return weight_arg1 * arg1   +  weight_arg2 * arg2\n"
      ],
      "execution_count": null,
      "outputs": []
    },
    {
      "cell_type": "code",
      "metadata": {
        "colab": {
          "base_uri": "https://localhost:8080/"
        },
        "id": "xnE2jRtgYml2",
        "outputId": "f83e19f1-c0ac-455b-802d-0f03f98205b7"
      },
      "source": [
        "print(inverse_beta(5))"
      ],
      "execution_count": null,
      "outputs": [
        {
          "output_type": "stream",
          "text": [
            "-3.0\n"
          ],
          "name": "stdout"
        }
      ]
    },
    {
      "cell_type": "markdown",
      "metadata": {
        "id": "Mpe1QdP5lc8U"
      },
      "source": [
        "**1.2) Inverse h(t)**"
      ]
    },
    {
      "cell_type": "markdown",
      "metadata": {
        "id": "KkFAs5UHl5jI"
      },
      "source": [
        "h(t)_x_grid"
      ]
    },
    {
      "cell_type": "code",
      "metadata": {
        "colab": {
          "base_uri": "https://localhost:8080/"
        },
        "id": "_PYJuGfpleBs",
        "outputId": "05421b78-6ffc-42bb-e0c4-2d10351a2b97"
      },
      "source": [
        "# x_grid range = x_grid_length   x_grid = [-1/2 * x_grid_length ; 1/2 * x_grid_length]\n",
        "h_t_x_grid_range = 100\n",
        "\n",
        "h_t_x_grid_length = h_t_x_grid_range * 2 #for minus values\n",
        "\n",
        "h_t_x_grid_length_for_array_implementation = h_t_x_grid_length + 1\n",
        "h_t_x_grid = np.zeros(h_t_x_grid_length_for_array_implementation)\n",
        "for j in range(h_t_x_grid_length_for_array_implementation):\n",
        "\n",
        "  h_t_x_grid[j] = j - (1/2) * h_t_x_grid_length\n",
        "\n",
        "print (h_t_x_grid)"
      ],
      "execution_count": null,
      "outputs": [
        {
          "output_type": "stream",
          "text": [
            "[-100.  -99.  -98.  -97.  -96.  -95.  -94.  -93.  -92.  -91.  -90.  -89.  -88.  -87.  -86.  -85.  -84.  -83.  -82.  -81.  -80.  -79.  -78.  -77.  -76.  -75.  -74.  -73.  -72.  -71.  -70.  -69.  -68.  -67.  -66.  -65.  -64.  -63.  -62.  -61.  -60.  -59.  -58.  -57.  -56.  -55.  -54.  -53.  -52.  -51.  -50.  -49.  -48.  -47.  -46.  -45.  -44.  -43.  -42.  -41.  -40.  -39.  -38.  -37.  -36.  -35.  -34.  -33.  -32.  -31.  -30.  -29.  -28.  -27.  -26.  -25.  -24.  -23.  -22.  -21.  -20.  -19.  -18.  -17.  -16.  -15.  -14.  -13.  -12.  -11.  -10.   -9.   -8.   -7.   -6.   -5.   -4.   -3.   -2.   -1.    0.    1.    2.    3.    4.    5.    6.    7.    8.    9.   10.   11.   12.   13.   14.   15.   16.   17.   18.   19.   20.   21.   22.   23.   24.   25.   26.   27.   28.   29.   30.   31.   32.   33.   34.   35.   36.   37.   38.   39.   40.   41.   42.   43.   44.   45.   46.   47.   48.   49.   50.   51.   52.   53.   54.   55.   56.   57.   58.   59.   60.   61.   62.   63.   64.   65.   66.   67.   68.   69.   70.   71.   72.   73.   74.   75.   76.   77.   78.   79.   80.   81.   82.   83.   84.   85.   86.   87.   88.   89.   90.   91.   92.   93.   94.   95.   96.   97.   98.   99.  100.]\n"
          ],
          "name": "stdout"
        }
      ]
    },
    {
      "cell_type": "markdown",
      "metadata": {
        "id": "0R9eEoLcl8C0"
      },
      "source": [
        "h(t)_y_grid"
      ]
    },
    {
      "cell_type": "code",
      "metadata": {
        "colab": {
          "base_uri": "https://localhost:8080/"
        },
        "id": "qCiQWtuMl9vP",
        "outputId": "55688023-0939-4f51-d29a-2de724758a82"
      },
      "source": [
        "# y_grid range = y_grid_length   y_grid = [-1/2 * y_grid_length ; 1/2 * y_grid_length]\n",
        "h_t_y_grid_range = 100\n",
        "\n",
        "h_t_y_grid_length = h_t_y_grid_range * 2\n",
        "\n",
        "h_t_y_grid_length_for_array_implementation = h_t_y_grid_length + 1\n",
        "h_t_y_grid = np.zeros(h_t_y_grid_length_for_array_implementation)\n",
        "for j in range(h_t_y_grid_length_for_array_implementation):\n",
        "\n",
        "  h_t_y_grid[j] = j - (1/2) * h_t_y_grid_length\n",
        "\n",
        "print (h_t_y_grid)"
      ],
      "execution_count": null,
      "outputs": [
        {
          "output_type": "stream",
          "text": [
            "[-100.  -99.  -98.  -97.  -96.  -95.  -94.  -93.  -92.  -91.  -90.  -89.  -88.  -87.  -86.  -85.  -84.  -83.  -82.  -81.  -80.  -79.  -78.  -77.  -76.  -75.  -74.  -73.  -72.  -71.  -70.  -69.  -68.  -67.  -66.  -65.  -64.  -63.  -62.  -61.  -60.  -59.  -58.  -57.  -56.  -55.  -54.  -53.  -52.  -51.  -50.  -49.  -48.  -47.  -46.  -45.  -44.  -43.  -42.  -41.  -40.  -39.  -38.  -37.  -36.  -35.  -34.  -33.  -32.  -31.  -30.  -29.  -28.  -27.  -26.  -25.  -24.  -23.  -22.  -21.  -20.  -19.  -18.  -17.  -16.  -15.  -14.  -13.  -12.  -11.  -10.   -9.   -8.   -7.   -6.   -5.   -4.   -3.   -2.   -1.    0.    1.    2.    3.    4.    5.    6.    7.    8.    9.   10.   11.   12.   13.   14.   15.   16.   17.   18.   19.   20.   21.   22.   23.   24.   25.   26.   27.   28.   29.   30.   31.   32.   33.   34.   35.   36.   37.   38.   39.   40.   41.   42.   43.   44.   45.   46.   47.   48.   49.   50.   51.   52.   53.   54.   55.   56.   57.   58.   59.   60.   61.   62.   63.   64.   65.   66.   67.   68.   69.   70.   71.   72.   73.   74.   75.   76.   77.   78.   79.   80.   81.   82.   83.   84.   85.   86.   87.   88.   89.   90.   91.   92.   93.   94.   95.   96.   97.   98.   99.  100.]\n"
          ],
          "name": "stdout"
        }
      ]
    },
    {
      "cell_type": "markdown",
      "metadata": {
        "id": "A70_PHqumGW7"
      },
      "source": [
        "Fill the grid with function values of h_t(x)"
      ]
    },
    {
      "cell_type": "code",
      "metadata": {
        "id": "RK1_xfLamK4R"
      },
      "source": [
        "# our y values will be structure elements = [cur value ; argument that entered that cur value]\n",
        "class h_t_struct:\n",
        "\n",
        "    def __init__(self, h_t_value , arg_value):\n",
        "      self.h_t_value = h_t_value\n",
        "      self.arg_value = arg_value\n",
        "\n",
        "    def get_h_t_value(self):\n",
        "      return self.h_t_value\n",
        "\n",
        "    def get_arg_value(self):\n",
        "      return self.arg_value\n",
        "    \n",
        "    def __str__(self):\n",
        "      return \"[ \"+str(self.h_t_value) + \" || \" + str(self.arg_value) + \" ];\""
      ],
      "execution_count": null,
      "outputs": []
    },
    {
      "cell_type": "code",
      "metadata": {
        "id": "2Y6tZ-UOmMaC"
      },
      "source": [
        "#uncounted values will be set as np.NaN\n",
        "\n",
        "#fi_u(x) values will be strored as a structure = {grid_value ; x that gave that result}\n",
        "\n",
        "init_array_struct = h_t_struct(0.,0.)\n",
        "\n",
        "h_t_x_values_grid  = np.empty(shape=(h_t_x_grid_length_for_array_implementation,), dtype=object)\n",
        "\n",
        "for j in range(h_t_x_grid_length_for_array_implementation):\n",
        "  arg = h_t_x_grid[j]\n",
        "  h_t_value = h_t_func.compute(arg)\n",
        "\n",
        "  h_t_x_values_grid[j] = h_t_struct(h_t_value , arg)\n",
        "\n",
        "# for j in range(beta_x_grid_length_for_array_implementation):\n",
        "#   print (beta_x_values_grid[j])\n"
      ],
      "execution_count": null,
      "outputs": []
    },
    {
      "cell_type": "markdown",
      "metadata": {
        "id": "xPp9xcQMmSby"
      },
      "source": [
        "Sorting h_x_values grid by func values in ascending order"
      ]
    },
    {
      "cell_type": "code",
      "metadata": {
        "id": "Cqb3g9QLmQKj"
      },
      "source": [
        "list1 = h_t_x_values_grid.tolist()\n",
        "list1.sort(key = lambda x: x.get_h_t_value(), reverse=False)\n",
        "# for j in range(x_grid_length_for_array_implementation):\n",
        "#   print (list1[j])\n",
        "\n",
        "h_t_x_value_grid=np.array(list1)\n",
        "# for j in range(h_t_x_grid_length_for_array_implementation):\n",
        "#   print(j)\n",
        "#   print(h_t_x_value_grid[j].get_h_t_value())\n",
        "#   print (h_t_x_value_grid[j])\n"
      ],
      "execution_count": null,
      "outputs": []
    },
    {
      "cell_type": "markdown",
      "metadata": {
        "id": "PY3wbi8NmYqx"
      },
      "source": [
        "Compute inverse function for h(t)"
      ]
    },
    {
      "cell_type": "code",
      "metadata": {
        "id": "2YX1MtRcmaHo"
      },
      "source": [
        "def search_left_index_h_t_x_values_grid(value):\n",
        "  for i in range(len(h_t_x_value_grid)):\n",
        "    # print(\"i= \"+str(i)+\" ; \"+str(h_t_x_value_grid[i].get_h_t_value()) + \"  ;value = \" + str(value))\n",
        "    # if (h_t_x_value_grid[i].get_h_t_value() > value):\n",
        "      # print(\"what?\")\n",
        "    if (h_t_x_value_grid[i].get_h_t_value() <= value):# [ * | | value | | | |]\n",
        "      if ((i+1)<len(h_t_x_value_grid)):# i not the right side of array\n",
        "        if (h_t_x_value_grid[i+1].get_h_t_value() < value):\n",
        "          continue\n",
        "        else:\n",
        "          return i\n",
        "      else:# i the right side of array --- BAD SITUTION - THROW EXCEPTION(need to compute wider grid_fi_u)\n",
        "        raise ValueError('Need to compute wider grid_h_t_x_values')\n",
        "    else:# i the left side of array bigger than value --- BAD SITUTION - THROW EXCEPTION(need to compute wider grid_fi_u)\n",
        "      raise ValueError('Need to compute wider grid_h_t_x_values LEFT SIDE')\n"
      ],
      "execution_count": null,
      "outputs": []
    },
    {
      "cell_type": "code",
      "metadata": {
        "id": "raN275oEmf1w"
      },
      "source": [
        "def compute_weight(value, our_point, whole_dist_between_border_points):\n",
        "  return ( (abs(value - our_point)) / whole_dist_between_border_points)"
      ],
      "execution_count": null,
      "outputs": []
    },
    {
      "cell_type": "code",
      "metadata": {
        "id": "FZ5W2IwDmiPZ"
      },
      "source": [
        "def inverse_h_t(y_0):\n",
        "  left_index = search_left_index_h_t_x_values_grid(y_0)\n",
        "\n",
        "  #search left and right side distance ftom y_0   ---> this will form an impact that left and right points enter\n",
        "  left_point_value = h_t_x_value_grid[left_index].get_h_t_value()\n",
        "  right_point_value = h_t_x_value_grid[left_index + 1].get_h_t_value()\n",
        "\n",
        "  whole_dist_between_border_points = abs(right_point_value - left_point_value)\n",
        "\n",
        "  #compute weights\n",
        "  left_side_weight = compute_weight(y_0,left_point_value,whole_dist_between_border_points)\n",
        "\n",
        "  right_side_weight = compute_weight(y_0,right_point_value,whole_dist_between_border_points)\n",
        "\n",
        "  #compute return value\n",
        "  arg1 = h_t_x_value_grid[left_index].get_arg_value()\n",
        "  weight_arg1 = (1 - left_side_weight)\n",
        "\n",
        "  arg2 = h_t_x_value_grid[left_index + 1].get_arg_value()\n",
        "  weight_arg2 = (1 - right_side_weight)\n",
        "\n",
        "  return weight_arg1 * arg1   +  weight_arg2 * arg2\n"
      ],
      "execution_count": null,
      "outputs": []
    },
    {
      "cell_type": "code",
      "metadata": {
        "colab": {
          "base_uri": "https://localhost:8080/"
        },
        "id": "Ed8B08jwmlKa",
        "outputId": "a7e7d528-02d1-4545-8384-00a54c1acea5"
      },
      "source": [
        "print(inverse_h_t(1))"
      ],
      "execution_count": null,
      "outputs": [
        {
          "output_type": "stream",
          "text": [
            "0.0\n"
          ],
          "name": "stdout"
        }
      ]
    },
    {
      "cell_type": "markdown",
      "metadata": {
        "id": "NWGcKjmnZSc0"
      },
      "source": [
        "**2) Beta derivative  ( beta'(x) )**"
      ]
    },
    {
      "cell_type": "code",
      "metadata": {
        "id": "dOweIVnPZW-X",
        "colab": {
          "base_uri": "https://localhost:8080/"
        },
        "outputId": "62d1a1ff-8ca4-415b-e7f9-889166b04d65"
      },
      "source": [
        "segment_len = beta_x_grid_length\n",
        "start_x = (-1) * beta_x_grid_range\n",
        "h_x=0.01\n",
        "array_len = int(segment_len/h_x) + 1\n",
        "\n",
        "\n",
        "x = np.arange(start_x, start_x + (segment_len) + h_x, h_x)\n",
        "print(x)\n",
        "print(len(x))\n",
        "y=np.zeros(array_len)\n",
        "\n",
        "for i in range(array_len):\n",
        "  y[i]=beta_x.compute(x[i])\n",
        "print(y)\n",
        "print(len(y))"
      ],
      "execution_count": null,
      "outputs": [
        {
          "output_type": "stream",
          "text": [
            "[-100.    -99.99  -99.98 ...   99.98   99.99  100.  ]\n",
            "20001\n",
            "[102.   101.99 101.98 ... -97.98 -97.99 -98.  ]\n",
            "20001\n"
          ],
          "name": "stdout"
        }
      ]
    },
    {
      "cell_type": "code",
      "metadata": {
        "id": "Ptd8_5SEbJ4Z"
      },
      "source": [
        "d_dx = FinDiff(0,x,1)"
      ],
      "execution_count": null,
      "outputs": []
    },
    {
      "cell_type": "code",
      "metadata": {
        "colab": {
          "base_uri": "https://localhost:8080/"
        },
        "id": "jS5ZEwsUbLNx",
        "outputId": "f1961f41-3268-4a84-ff02-7c7a8d127b19"
      },
      "source": [
        "x_derivate_array = deepcopy(x)\n",
        "d_beta_dx = d_dx(y)\n",
        "print(x_derivate_array)\n",
        "print(d_beta_dx)"
      ],
      "execution_count": null,
      "outputs": [
        {
          "output_type": "stream",
          "text": [
            "[-100.    -99.99  -99.98 ...   99.98   99.99  100.  ]\n",
            "[-1. -1. -1. ... -1. -1. -1.]\n"
          ],
          "name": "stdout"
        }
      ]
    },
    {
      "cell_type": "markdown",
      "metadata": {
        "id": "HKPG-u8zbZ_h"
      },
      "source": [
        "Function calculate derivative ( beta'(x) )"
      ]
    },
    {
      "cell_type": "code",
      "metadata": {
        "id": "LZUpWKMUeJ-1"
      },
      "source": [
        "def find_index(x_array,value):\n",
        "  for i in range(len(x_array)):\n",
        "    if (x_array[i] <= value):# [ * | | value | | | |]\n",
        "      if ((i+1)<len(x_array)):# i not the right side of array\n",
        "        if (x_array[i+1] < value):\n",
        "          continue\n",
        "        else:\n",
        "          return i + 1\n",
        "      else:# i the right side of array --- BAD SITUTION - THROW EXCEPTION(need to compute wider grid_fi_u)\n",
        "        raise ValueError('Need to compute wider grid_beta_x_values')\n",
        "    else:# i the left side of array bigger than value --- BAD SITUTION - THROW EXCEPTION(need to compute wider grid_fi_u)\n",
        "      raise ValueError('Need to compute wider grid_beta_x_values LEFT SIDE')"
      ],
      "execution_count": null,
      "outputs": []
    },
    {
      "cell_type": "code",
      "metadata": {
        "id": "2KNQQkE4cvTS"
      },
      "source": [
        "def round_value(step):\n",
        "  value = int(1/step)\n",
        "  cnt = 0\n",
        "  while (value>1):\n",
        "    cnt +=1\n",
        "    value = value // 10\n",
        "  return cnt"
      ],
      "execution_count": null,
      "outputs": []
    },
    {
      "cell_type": "code",
      "metadata": {
        "id": "NbdaY5mUbgRk"
      },
      "source": [
        "def beta_derivative(point):\n",
        "  final_point = round(point, round_value(h_x))\n",
        "  index = find_index(x_derivate_array,final_point) \n",
        "  return d_beta_dx[index]\n",
        "  "
      ],
      "execution_count": null,
      "outputs": []
    },
    {
      "cell_type": "code",
      "metadata": {
        "colab": {
          "base_uri": "https://localhost:8080/"
        },
        "id": "K4r3aeeBWwEb",
        "outputId": "252b9d4d-2adc-4709-df31-2adae5f10bb6"
      },
      "source": [
        "print(beta_derivative(3))"
      ],
      "execution_count": null,
      "outputs": [
        {
          "output_type": "stream",
          "text": [
            "-1.0\n"
          ],
          "name": "stdout"
        }
      ]
    },
    {
      "cell_type": "markdown",
      "metadata": {
        "id": "AMnvO3jBblw2"
      },
      "source": [
        "**3.1) h'(t) derivative  ( h'(t) )**"
      ]
    },
    {
      "cell_type": "code",
      "metadata": {
        "id": "tZImvY9EbpZe"
      },
      "source": [
        "grid_range_h_t = 100\n",
        "grid_len_h_t = 2 * grid_range_h_t\n",
        "segment_len_h_t = grid_len_h_t\n",
        "start_t = (-1) * grid_range_h_t\n",
        "h_t_derivative_step = 0.01\n",
        "array_len_h_t_args = int(segment_len_h_t/h_t_derivative_step) + 1"
      ],
      "execution_count": null,
      "outputs": []
    },
    {
      "cell_type": "code",
      "metadata": {
        "colab": {
          "base_uri": "https://localhost:8080/"
        },
        "id": "Jz2JkPUyd9pN",
        "outputId": "3c78a4a6-31de-439a-c2b6-21bd6801df9b"
      },
      "source": [
        "t_args = np.arange(start_t, start_t + (segment_len_h_t) + h_t_derivative_step, h_t_derivative_step)\n",
        "print(t_args)\n",
        "print(len(t_args))\n",
        "\n",
        "h_values = np.zeros(array_len_h_t_args)\n",
        "\n",
        "for i in range(array_len_h_t_args):\n",
        "  h_values[i] = h_t_func.compute(t_args[i])\n",
        "\n",
        "print(h_values)\n",
        "print(len(h_values))"
      ],
      "execution_count": null,
      "outputs": [
        {
          "output_type": "stream",
          "text": [
            "[-100.    -99.99  -99.98 ...   99.98   99.99  100.  ]\n",
            "20001\n",
            "[ 41.     40.996  40.992 ... -38.992 -38.996 -39.   ]\n",
            "20001\n"
          ],
          "name": "stdout"
        }
      ]
    },
    {
      "cell_type": "code",
      "metadata": {
        "id": "nQPX3DkHfnpS"
      },
      "source": [
        "d_dt = FinDiff(0,t_args,1)"
      ],
      "execution_count": null,
      "outputs": []
    },
    {
      "cell_type": "code",
      "metadata": {
        "colab": {
          "base_uri": "https://localhost:8080/"
        },
        "id": "JJ3W1ZnKfxur",
        "outputId": "97dc9938-3294-4006-b384-43b28a628c71"
      },
      "source": [
        "t_derivate_array = deepcopy(t_args)\n",
        "d_h_dt = d_dt(h_values)\n",
        "print(t_derivate_array)\n",
        "print(d_h_dt)"
      ],
      "execution_count": null,
      "outputs": [
        {
          "output_type": "stream",
          "text": [
            "[-100.    -99.99  -99.98 ...   99.98   99.99  100.  ]\n",
            "[-0.4 -0.4 -0.4 ... -0.4 -0.4 -0.4]\n"
          ],
          "name": "stdout"
        }
      ]
    },
    {
      "cell_type": "markdown",
      "metadata": {
        "id": "Ci1BNJDRgUd2"
      },
      "source": [
        "Function calculate derivative ( h'(t) )"
      ]
    },
    {
      "cell_type": "code",
      "metadata": {
        "id": "HZTl9H5PgbXV"
      },
      "source": [
        "def find_index_h_t(x_array,value):\n",
        "  for i in range(len(x_array)):\n",
        "    if (x_array[i] <= value):# [ * | | value | | | |]\n",
        "      if ((i+1)<len(x_array)):# i not the right side of array\n",
        "        if (x_array[i+1] < value):\n",
        "          continue\n",
        "        else:\n",
        "          return i + 1\n",
        "      else:# i the right side of array --- BAD SITUTION - THROW EXCEPTION(need to compute wider grid_fi_u)\n",
        "        raise ValueError('Need to compute wider grid_beta_x_values')\n",
        "    else:# i the left side of array bigger than value --- BAD SITUTION - THROW EXCEPTION(need to compute wider grid_fi_u)\n",
        "      raise ValueError('Need to compute wider grid_beta_x_values LEFT SIDE')"
      ],
      "execution_count": null,
      "outputs": []
    },
    {
      "cell_type": "code",
      "metadata": {
        "id": "yXLbvatMgqLF"
      },
      "source": [
        "def round_value_h_t(step):\n",
        "  value = int(1/step)\n",
        "  cnt = 0\n",
        "  while (value>1):\n",
        "    cnt +=1\n",
        "    value = value // 10\n",
        "  return cnt"
      ],
      "execution_count": null,
      "outputs": []
    },
    {
      "cell_type": "code",
      "metadata": {
        "id": "yngzlfevguRN"
      },
      "source": [
        "def h_derivative(point):\n",
        "  final_point = round(point, round_value(h_t_derivative_step))\n",
        "  index = find_index(t_derivate_array,final_point) \n",
        "  return d_h_dt[index]\n",
        "  "
      ],
      "execution_count": null,
      "outputs": []
    },
    {
      "cell_type": "code",
      "metadata": {
        "colab": {
          "base_uri": "https://localhost:8080/"
        },
        "id": "HEi10qVdhBqf",
        "outputId": "9122b5ce-0e16-46b9-9c3b-e2dabf0bc32d"
      },
      "source": [
        "print(h_derivative(3))"
      ],
      "execution_count": null,
      "outputs": [
        {
          "output_type": "stream",
          "text": [
            "-0.4000000000000057\n"
          ],
          "name": "stdout"
        }
      ]
    },
    {
      "cell_type": "markdown",
      "metadata": {
        "id": "i6HRQ3kE12lA"
      },
      "source": [
        "**3.2) a'(t) derivative  ( a'(t) )**"
      ]
    },
    {
      "cell_type": "code",
      "metadata": {
        "id": "CHt3q1qr1468"
      },
      "source": [
        "#calculate a't using previous h'(t)"
      ],
      "execution_count": null,
      "outputs": []
    },
    {
      "cell_type": "code",
      "metadata": {
        "id": "jlg3Q2GV17w_"
      },
      "source": [
        "grid_range_h_t = 100\n",
        "grid_len_h_t = 2 * grid_range_h_t\n",
        "segment_len_h_t = grid_len_h_t\n",
        "start_t = (-1) * grid_range_h_t\n",
        "h_t_derivative_step = 0.01\n",
        "array_len_h_t_args = int(segment_len_h_t/h_t_derivative_step) + 1"
      ],
      "execution_count": null,
      "outputs": []
    },
    {
      "cell_type": "code",
      "metadata": {
        "colab": {
          "base_uri": "https://localhost:8080/"
        },
        "id": "7jWPCZ2j1-uF",
        "outputId": "49bb373e-7c3d-49ad-d7ee-e1bba9272cdb"
      },
      "source": [
        "t_args = np.arange(start_t, start_t + (segment_len_h_t) + h_t_derivative_step, h_t_derivative_step)\n",
        "print(t_args)\n",
        "print(len(t_args))\n",
        "\n",
        "a_values = np.zeros(array_len_h_t_args)\n",
        "\n",
        "for i in range(array_len_h_t_args):\n",
        "  a_values[i] = a_t.compute(t_args[i])\n",
        "\n",
        "print(a_values)\n",
        "print(len(a_values))"
      ],
      "execution_count": null,
      "outputs": [
        {
          "output_type": "stream",
          "text": [
            "[-100.    -99.99  -99.98 ...   99.98   99.99  100.  ]\n",
            "20001\n",
            "[-100.    -99.99  -99.98 ...   99.98   99.99  100.  ]\n",
            "20001\n"
          ],
          "name": "stdout"
        }
      ]
    },
    {
      "cell_type": "code",
      "metadata": {
        "id": "HgWlgl2G2Mgc"
      },
      "source": [
        "d_dt = FinDiff(0,t_args,1)"
      ],
      "execution_count": null,
      "outputs": []
    },
    {
      "cell_type": "code",
      "metadata": {
        "colab": {
          "base_uri": "https://localhost:8080/"
        },
        "id": "EBHRSGKo2O-x",
        "outputId": "43ca5d6e-df35-4485-e3b6-4371d559d7a2"
      },
      "source": [
        "t_derivate_array = deepcopy(t_args)\n",
        "d_a_dt = d_dt(a_values)\n",
        "print(t_derivate_array)\n",
        "print(d_a_dt)"
      ],
      "execution_count": null,
      "outputs": [
        {
          "output_type": "stream",
          "text": [
            "[-100.    -99.99  -99.98 ...   99.98   99.99  100.  ]\n",
            "[1. 1. 1. ... 1. 1. 1.]\n"
          ],
          "name": "stdout"
        }
      ]
    },
    {
      "cell_type": "markdown",
      "metadata": {
        "id": "NN6-V_5g2YuB"
      },
      "source": [
        "Function calculate derivative ((kci't) )"
      ]
    },
    {
      "cell_type": "code",
      "metadata": {
        "id": "mW4yKfBA2aHp"
      },
      "source": [
        "def find_index_a_t(x_array,value):\n",
        "  for i in range(len(x_array)):\n",
        "    if (x_array[i] <= value):# [ * | | value | | | |]\n",
        "      if ((i+1)<len(x_array)):# i not the right side of array\n",
        "        if (x_array[i+1] < value):\n",
        "          continue\n",
        "        else:\n",
        "          return i + 1\n",
        "      else:# i the right side of array --- BAD SITUTION - THROW EXCEPTION(need to compute wider grid_fi_u)\n",
        "        raise ValueError('Need to compute wider grid_beta_x_values')\n",
        "    else:# i the left side of array bigger than value --- BAD SITUTION - THROW EXCEPTION(need to compute wider grid_fi_u)\n",
        "      raise ValueError('Need to compute wider grid_beta_x_values LEFT SIDE')"
      ],
      "execution_count": null,
      "outputs": []
    },
    {
      "cell_type": "code",
      "metadata": {
        "id": "XDf3jQcO2dg1"
      },
      "source": [
        "def round_value_a_t(step):\n",
        "  value = int(1/step)\n",
        "  cnt = 0\n",
        "  while (value>1):\n",
        "    cnt +=1\n",
        "    value = value // 10\n",
        "  return cnt"
      ],
      "execution_count": null,
      "outputs": []
    },
    {
      "cell_type": "code",
      "metadata": {
        "id": "EFP6m34M2fxt"
      },
      "source": [
        "def a_derivative(point):\n",
        "  final_point = round(point, round_value(h_t_derivative_step))\n",
        "  index = find_index(t_derivate_array,final_point) \n",
        "  return d_a_dt[index]\n",
        "  "
      ],
      "execution_count": null,
      "outputs": []
    },
    {
      "cell_type": "code",
      "metadata": {
        "colab": {
          "base_uri": "https://localhost:8080/"
        },
        "id": "yEiH2q_W2xYN",
        "outputId": "5c69ae9e-8a38-4844-f98a-f70075bd20d6"
      },
      "source": [
        "print(a_derivative(4))"
      ],
      "execution_count": null,
      "outputs": [
        {
          "output_type": "stream",
          "text": [
            "1.0\n"
          ],
          "name": "stdout"
        }
      ]
    },
    {
      "cell_type": "markdown",
      "metadata": {
        "id": "R5vRZ4Q-owbh"
      },
      "source": [
        "**4.0) getValueFromFi() func**"
      ]
    },
    {
      "cell_type": "code",
      "metadata": {
        "id": "5BYBiU6fq0Gg"
      },
      "source": [
        "def find_index_fi_v(x_array,value):\n",
        "  for i in range(len(x_array)):\n",
        "    if (x_array[i] <= value):# [ * | | value | | | |]\n",
        "      if ((i+1)<len(x_array)):# i not the right side of array\n",
        "        if (x_array[i+1] < value):\n",
        "          continue\n",
        "        else:\n",
        "          return i + 1\n",
        "      else:# i the right side of array --- BAD SITUTION - THROW EXCEPTION(need to compute wider grid_fi_u)\n",
        "        raise ValueError('Need to compute wider grid_fi_v_values')\n",
        "    else:# i the left side of array bigger than value --- BAD SITUTION - THROW EXCEPTION(need to compute wider grid_fi_u)\n",
        "      raise ValueError('Need to compute wider grid_fi_v_values LEFT SIDE')"
      ],
      "execution_count": null,
      "outputs": []
    },
    {
      "cell_type": "code",
      "metadata": {
        "colab": {
          "base_uri": "https://localhost:8080/"
        },
        "id": "lOb3pQdWpQMB",
        "outputId": "b96e5e03-0c4a-431a-97ac-ec44ce860b70"
      },
      "source": [
        "#set function domain (let it be from [-100;100]) -- fi_v_args\n",
        "#set function values range (let it be all null)  -- fi_v_values\n",
        "grid_range_fi_v = 100\n",
        "grid_len_fi_v = 2 * grid_range_fi_v\n",
        "segment_len_fi_v = grid_len_fi_v\n",
        "start_v = (-1) * grid_range_fi_v\n",
        "fi_v_derivative_step = 0.01\n",
        "array_len_fi_v_args = int(segment_len_fi_v/fi_v_derivative_step) + 1\n",
        "fi_v_args = np.arange(start_v, start_v + (segment_len_fi_v) + fi_v_derivative_step, fi_v_derivative_step)\n",
        "fi_v_values =np.zeros(array_len_fi_v_args)\n",
        "\n",
        "print(fi_v_args)\n",
        "print(len(fi_v_args))\n",
        "\n",
        "print(fi_v_values)\n",
        "print(len(fi_v_values))"
      ],
      "execution_count": null,
      "outputs": [
        {
          "output_type": "stream",
          "text": [
            "[-100.    -99.99  -99.98 ...   99.98   99.99  100.  ]\n",
            "20001\n",
            "[0. 0. 0. ... 0. 0. 0.]\n",
            "20001\n"
          ],
          "name": "stdout"
        }
      ]
    },
    {
      "cell_type": "code",
      "metadata": {
        "id": "9C5PYNYno2p0"
      },
      "source": [
        "#function computes fi value from given array\n",
        "def getValueFromFi(fi_arr,arg):\n",
        "  index = find_index_fi_v(fi_v_args,arg)\n",
        "  return fi_arr[index]"
      ],
      "execution_count": null,
      "outputs": []
    },
    {
      "cell_type": "code",
      "metadata": {
        "colab": {
          "base_uri": "https://localhost:8080/"
        },
        "id": "RkzRIkoSrVOv",
        "outputId": "fea30914-62d0-4486-dd80-55fe07426454"
      },
      "source": [
        "print(getValueFromFi(fi_v_values,10))"
      ],
      "execution_count": null,
      "outputs": [
        {
          "output_type": "stream",
          "text": [
            "0.0\n"
          ],
          "name": "stdout"
        }
      ]
    },
    {
      "cell_type": "markdown",
      "metadata": {
        "id": "EqO109Ezvdkq"
      },
      "source": [
        "**4.1) u't derivative ( u't )**"
      ]
    },
    {
      "cell_type": "code",
      "metadata": {
        "id": "2yGY6OADvsWc"
      },
      "source": [
        "#calculate kci't using previous h'(t)"
      ],
      "execution_count": null,
      "outputs": []
    },
    {
      "cell_type": "code",
      "metadata": {
        "id": "qNYTe7hhvznJ"
      },
      "source": [
        "grid_range_h_t = 100\n",
        "grid_len_h_t = 2 * grid_range_h_t\n",
        "segment_len_h_t = grid_len_h_t\n",
        "start_t = (-1) * grid_range_h_t\n",
        "h_t_derivative_step = 0.01\n",
        "array_len_h_t_args = int(segment_len_h_t/h_t_derivative_step) + 1"
      ],
      "execution_count": null,
      "outputs": []
    },
    {
      "cell_type": "code",
      "metadata": {
        "colab": {
          "base_uri": "https://localhost:8080/"
        },
        "id": "LghbWMecwapd",
        "outputId": "7586b79c-ddb4-412e-aa4c-0ad6a6c164df"
      },
      "source": [
        "t_args = np.arange(start_t, start_t + (segment_len_h_t) + h_t_derivative_step, h_t_derivative_step)\n",
        "print(t_args)\n",
        "print(len(t_args))\n",
        "\n",
        "kci_values = np.zeros(array_len_h_t_args)\n",
        "\n",
        "for i in range(array_len_h_t_args):\n",
        "  kci_values[i] = kci_t.compute(t_args[i])\n",
        "\n",
        "print(kci_values)\n",
        "print(len(kci_values))"
      ],
      "execution_count": null,
      "outputs": [
        {
          "output_type": "stream",
          "text": [
            "[-100.    -99.99  -99.98 ...   99.98   99.99  100.  ]\n",
            "20001\n",
            "[102.   101.99 101.98 ... -97.98 -97.99 -98.  ]\n",
            "20001\n"
          ],
          "name": "stdout"
        }
      ]
    },
    {
      "cell_type": "code",
      "metadata": {
        "id": "hqDtgZeRwkLu"
      },
      "source": [
        "d_dt = FinDiff(0,t_args,1)"
      ],
      "execution_count": null,
      "outputs": []
    },
    {
      "cell_type": "code",
      "metadata": {
        "colab": {
          "base_uri": "https://localhost:8080/"
        },
        "id": "SQi35Ogtwnib",
        "outputId": "5352d00c-b403-4b98-bdae-c7767356160f"
      },
      "source": [
        "t_derivate_array = deepcopy(t_args)\n",
        "d_kci_dt = d_dt(kci_values)\n",
        "print(t_derivate_array)\n",
        "print(d_kci_dt)"
      ],
      "execution_count": null,
      "outputs": [
        {
          "output_type": "stream",
          "text": [
            "[-100.    -99.99  -99.98 ...   99.98   99.99  100.  ]\n",
            "[-1. -1. -1. ... -1. -1. -1.]\n"
          ],
          "name": "stdout"
        }
      ]
    },
    {
      "cell_type": "markdown",
      "metadata": {
        "id": "5LFVqpfKwyt8"
      },
      "source": [
        "Function calculate derivative ((kci't) )"
      ]
    },
    {
      "cell_type": "code",
      "metadata": {
        "id": "dzYl6SemwxQ6"
      },
      "source": [
        "def find_index_kci_t(x_array,value):\n",
        "  for i in range(len(x_array)):\n",
        "    if (x_array[i] <= value):# [ * | | value | | | |]\n",
        "      if ((i+1)<len(x_array)):# i not the right side of array\n",
        "        if (x_array[i+1] < value):\n",
        "          continue\n",
        "        else:\n",
        "          return i + 1\n",
        "      else:# i the right side of array --- BAD SITUTION - THROW EXCEPTION(need to compute wider grid_fi_u)\n",
        "        raise ValueError('Need to compute wider grid_beta_x_values')\n",
        "    else:# i the left side of array bigger than value --- BAD SITUTION - THROW EXCEPTION(need to compute wider grid_fi_u)\n",
        "      raise ValueError('Need to compute wider grid_beta_x_values LEFT SIDE')"
      ],
      "execution_count": null,
      "outputs": []
    },
    {
      "cell_type": "code",
      "metadata": {
        "id": "8yQ-a3QEw8o0"
      },
      "source": [
        "def round_value_kci_t(step):\n",
        "  value = int(1/step)\n",
        "  cnt = 0\n",
        "  while (value>1):\n",
        "    cnt +=1\n",
        "    value = value // 10\n",
        "  return cnt"
      ],
      "execution_count": null,
      "outputs": []
    },
    {
      "cell_type": "code",
      "metadata": {
        "id": "rHDJESYPw_3Y"
      },
      "source": [
        "def kci_derivative(point):\n",
        "  final_point = round(point, round_value(h_t_derivative_step))\n",
        "  index = find_index(t_derivate_array,final_point) \n",
        "  return d_kci_dt[index]\n",
        "  "
      ],
      "execution_count": null,
      "outputs": []
    },
    {
      "cell_type": "code",
      "metadata": {
        "colab": {
          "base_uri": "https://localhost:8080/"
        },
        "id": "WHi1PZ1kxM-G",
        "outputId": "7b77773f-7c57-41d6-bd83-8ecfa16bf405"
      },
      "source": [
        "print(kci_derivative(3))"
      ],
      "execution_count": null,
      "outputs": [
        {
          "output_type": "stream",
          "text": [
            "-1.0\n"
          ],
          "name": "stdout"
        }
      ]
    },
    {
      "cell_type": "markdown",
      "metadata": {
        "id": "dzuIYGSyxUNA"
      },
      "source": [
        "Function calculate u't(0,point)"
      ]
    },
    {
      "cell_type": "code",
      "metadata": {
        "id": "EQTtrn3sxaA5"
      },
      "source": [
        "def u_derivate_t_0_point (x_val,t_val):\n",
        "  if(x_val != 0):\n",
        "    raise ValueError('x_val must be equal to zero!')\n",
        "  return kci_derivative(t_val)"
      ],
      "execution_count": null,
      "outputs": []
    },
    {
      "cell_type": "code",
      "metadata": {
        "colab": {
          "base_uri": "https://localhost:8080/"
        },
        "id": "NdALtt7Kx7Hv",
        "outputId": "ec8c8e81-4c2a-40d9-c867-9dec3c9283b3"
      },
      "source": [
        "print(u_derivate_t_0_point(0,10))"
      ],
      "execution_count": null,
      "outputs": [
        {
          "output_type": "stream",
          "text": [
            "-1.0\n"
          ],
          "name": "stdout"
        }
      ]
    },
    {
      "cell_type": "markdown",
      "metadata": {
        "id": "3U6lcdPdyQWz"
      },
      "source": [
        "**4.2) u'x derivative ( u'x )**"
      ]
    },
    {
      "cell_type": "code",
      "metadata": {
        "id": "3w27etedyS8o"
      },
      "source": [
        "def u_derivate_x_L_point(x_val,t_val,v,fi_arr):\n",
        "  if(x_val != L):\n",
        "    raise ValueError('x_val must be equal to L (end of segment)!')\n",
        "  print()\n",
        "  print(\"u'x-------------\")\n",
        "  print(\"a_t(t_val)= \"+str(a_t.compute(t_val)))\n",
        "  print(\"getValueFromFi(fi_arr, v)= \"+str(getValueFromFi(fi_arr, v )))\n",
        "  print(\"u'x-------------\")\n",
        "  print()\n",
        "  return (-1) * h_derivative(t_val) - a_t.compute(t_val) * getValueFromFi(fi_arr, v )\n"
      ],
      "execution_count": null,
      "outputs": []
    },
    {
      "cell_type": "markdown",
      "metadata": {
        "id": "-dxNeFzEziaM"
      },
      "source": [
        "**5) u'xt + u'tt derivatives**"
      ]
    },
    {
      "cell_type": "code",
      "metadata": {
        "id": "Dh2hO4CbzlV_"
      },
      "source": [
        "def u_sum_derivate_t_double(x_val,t_val, v, fi_arr):\n",
        "  return (-1) * a_derivative(t_val) * getValueFromFi(fi_arr,v)"
      ],
      "execution_count": null,
      "outputs": []
    },
    {
      "cell_type": "markdown",
      "metadata": {
        "id": "1LxKDM_A3k5e"
      },
      "source": [
        "**6) (u'x + u't)^2 derivatives**"
      ]
    },
    {
      "cell_type": "code",
      "metadata": {
        "id": "bRZLZ_7l3rJ6"
      },
      "source": [
        "def u_sum_derivate_square(x_val,t_val, v, fi_arr):\n",
        "  ret_val = 1\n",
        "  ret_val = (-1)*a_t.compute(t_val) * getValueFromFi(fi_arr, v)\n",
        "  ret_val = ret_val * ret_val\n",
        "  if (ret_val == 0):\n",
        "    return 0.01\n",
        "    # raise ValueError('u_x + u_t  = 0 . It is very bad case( !')\n",
        "  return ret_val"
      ],
      "execution_count": null,
      "outputs": []
    },
    {
      "cell_type": "markdown",
      "metadata": {
        "id": "bY5kCPuz4jc2"
      },
      "source": [
        "**7) Calculate integral**"
      ]
    },
    {
      "cell_type": "code",
      "metadata": {
        "id": "s4VQayUk7M3x"
      },
      "source": [
        "def quotient_under_integral(v_intern,v_extern,fi_arr,flag):\n",
        "  #flag: =0 for fi(beta(L-t))\n",
        "  #flag: =1 for fi(h(t))\n",
        "  if (flag==0):\n",
        "    x_mapped = v_intern\n",
        "    t_mapped = v_intern - inverse_beta(v_extern)\n",
        "  elif (flag == 1):\n",
        "    x_mapped = v_intern\n",
        "    t_mapped = v_intern - (L - inverse_h_t(v_extern))\n",
        "  else:\n",
        "    raise ValueError('Incorrect flag. It can take only 0 and 1 values !')\n",
        "  # x_mapped = #todo\n",
        "  # t_mapped = #todo\n",
        "  return (u_sum_derivate_t_double(x_mapped,t_mapped,v_intern,fi_arr)) / (u_sum_derivate_square(x_mapped,t_mapped,v_intern,fi_arr))"
      ],
      "execution_count": null,
      "outputs": []
    },
    {
      "cell_type": "code",
      "metadata": {
        "id": "w118iqRe4o-n"
      },
      "source": [
        "#calculate integral on simple segment\n",
        "def integral_on_simple_segment_test(c,d,h, fi_arr, v_extern,flag):\n",
        "  middle_point = (c+d)/2\n",
        "  return h*( quotient_under_integral(middle_point,v_extern,fi_arr,flag) * getValueFromFi(fi_arr,middle_point) )\n",
        "  "
      ],
      "execution_count": null,
      "outputs": []
    },
    {
      "cell_type": "code",
      "metadata": {
        "id": "FpASMZHu5XV4"
      },
      "source": [
        "def Is_need_to_next_index_step(left,right,cur) :\n",
        "  d1 = abs(left - cur)\n",
        "  d2 = abs(right - cur)\n",
        "  if (d1 < d2):\n",
        "    return 0\n",
        "  else:\n",
        "    return 1"
      ],
      "execution_count": null,
      "outputs": []
    },
    {
      "cell_type": "markdown",
      "metadata": {
        "id": "SJdkMbbOMPXy"
      },
      "source": [
        "flag: =0 for fi(beta(L-t))\n",
        "\n",
        "flag: =1 for fi(h(t))"
      ]
    },
    {
      "cell_type": "code",
      "metadata": {
        "id": "BIDkCQqF5cWd"
      },
      "source": [
        "def integral_A_to_B_test(a,b, fi_arr,v_extern,flag):\n",
        "  #flag: =0 for fi(beta(L-t))\n",
        "  #flag: =1 for fi(h(t))\n",
        "\n",
        "  #for x\n",
        "  # j_start = int(round( (a - x_0)/h_x, 0))\n",
        "  # j_finish = int(round( (b - x_0)/h_x, 0))\n",
        "\n",
        "  #for t\n",
        "  # i_start = int(round( (a - x_i + t_j - t_0)/h_t , 0))\n",
        "  # i_finish = int(round( (b - x_i + t_j - t_0)/h_t , 0))\n",
        "  \n",
        "\n",
        "  #NEW BLOCK FOR MORE ACCURACY\n",
        "  # flag = Is_need_to_next_index_step(f[i_start][j_start],f[i_start][j_start+1],x_i)\n",
        "  # j_start = j_start + 1* flag\n",
        "  # j_finish = j_finish + 1*flag\n",
        "\n",
        "\n",
        "  \n",
        "  #define num of steps for calculating integral on segment\n",
        "  # num_of_steps = j_finish - j_start\n",
        "\n",
        "  #difference in h_x and h_t step\n",
        "  # diff = int(round(h_x/h_t,0))\n",
        "  \n",
        "  step = 0.1\n",
        "  num_of_steps = int((b-a)/step)\n",
        "  if (num_of_steps<1):\n",
        "    return integral_on_simple_segment_test(a,b,step,fi_arr,v_extern,flag)\n",
        "  ret_value = 0.0\n",
        "  # h=(b-a)/num_of_steps\n",
        "\n",
        "  for j in range(num_of_steps):\n",
        "    ret_value+=integral_on_simple_segment_test(a+j*step, a+(j+1)*step, step, fi_arr,v_extern,flag)\n",
        "    \n",
        "    \n",
        "  return ret_value\n"
      ],
      "execution_count": null,
      "outputs": []
    },
    {
      "cell_type": "markdown",
      "metadata": {
        "id": "eXipRlZiMpxj"
      },
      "source": [
        "**8) Two formulas**"
      ]
    },
    {
      "cell_type": "code",
      "metadata": {
        "id": "AdnluvzKM1wE"
      },
      "source": [
        "def calculate_fi_flag_0(v_0, fi_arr_previous):\n",
        "  retValue = 0\n",
        "  beta_inverse_from_v = inverse_beta(v_0)\n",
        "  beta_derivative_from_beta_inverse = beta_derivative(beta_inverse_from_v)\n",
        "\n",
        "\n",
        "  multiplier = ( beta_derivative_from_beta_inverse + u_derivate_t_0_point(0,beta_inverse_from_v) ) / ( beta_derivative_from_beta_inverse * a_t.compute(beta_inverse_from_v) )\n",
        "\n",
        "  third_addendum_numerator = ( a_t.compute(L) * h_derivative(L-beta_inverse_from_v) * getValueFromFi(fi_arr_previous, h_t_func.compute(L - beta_inverse_from_v) ) )\n",
        "  third_addendum_denominator = ( u_derivate_x_L_point(L,L-beta_inverse_from_v,v_0,fi_arr_previous) + h_derivative(L - beta_inverse_from_v) )\n",
        "  # print(third_addendum_numerator)\n",
        "  # print(third_addendum_denominator)\n",
        "  if (third_addendum_denominator==0.0):\n",
        "    third_addendum_denominator=1\n",
        "    \n",
        "  third_addendum = third_addendum_numerator / third_addendum_denominator\n",
        "\n",
        "  first_addendum = (-1) * h_derivative(L - beta_inverse_from_v)\n",
        "  \n",
        "  second_addendum = beta_derivative_from_beta_inverse\n",
        "\n",
        "  forth_addendum = integral_A_to_B_test(v_0, h_t_func.compute(L - beta_inverse_from_v), fi_arr_previous, v_0, 0)\n",
        "\n",
        "  retValue = first_addendum - second_addendum - third_addendum + forth_addendum\n",
        "\n",
        "  retValue = retValue * multiplier\n",
        "  print(\"multiplier flag=0 :\" +str(multiplier))\n",
        "\n",
        "  return retValue\n"
      ],
      "execution_count": null,
      "outputs": []
    },
    {
      "cell_type": "code",
      "metadata": {
        "id": "nSFup_muR2dr"
      },
      "source": [
        "def calculate_fi_flag_1(v_0, fi_arr_previous):\n",
        "  retValue = 0\n",
        "  h_inverse_from_v = inverse_h_t(v_0)\n",
        "  print(\"h_inverse(v_0) = \" + str(h_inverse_from_v))\n",
        "  h_derivative_from_h_inverse = h_derivative(h_inverse_from_v)\n",
        "  print(\"h_derivative_from_h_inverse = \" + str(h_derivative_from_h_inverse))\n",
        "  print(\"u_derivate_x_L_point\" + str(u_derivate_x_L_point(L,h_inverse_from_v,v_0,fi_arr_previous)))\n",
        "\n",
        "  multiplier = ( h_derivative_from_h_inverse + u_derivate_x_L_point(L,h_inverse_from_v,v_0,fi_arr_previous) ) / ( h_derivative_from_h_inverse * a_t.compute(L) )\n",
        "\n",
        "  third_addendum_numerator = ( beta_derivative(L-h_inverse_from_v) * a_t.compute(L-h_inverse_from_v) * getValueFromFi(fi_arr_previous,beta_x.compute(L - h_inverse_from_v)) )\n",
        "  third_addendum_denominator = ( beta_derivative(L-h_inverse_from_v) + u_derivate_t_0_point(0,L-h_inverse_from_v) )\n",
        "  if (third_addendum_denominator==0.0):\n",
        "    third_addendum_denominator=1\n",
        "  third_addendum = third_addendum_numerator / third_addendum_denominator\n",
        "\n",
        "  first_addendum = (-1) * h_derivative(h_inverse_from_v)\n",
        "  \n",
        "  second_addendum = beta_derivative(L-h_inverse_from_v)\n",
        "\n",
        "  forth_addendum = integral_A_to_B_test(beta_x.compute(L-inverse_h_t(v_0)), h_t_func.compute(h_inverse_from_v), fi_arr_previous, v_0, 1 )\n",
        "\n",
        "  retValue = first_addendum - second_addendum - third_addendum + forth_addendum\n",
        "\n",
        "  retValue = retValue * multiplier\n",
        "  print(\"multiplier flag=1 :\" +str(multiplier))\n",
        "\n",
        "  return retValue"
      ],
      "execution_count": null,
      "outputs": []
    },
    {
      "cell_type": "markdown",
      "metadata": {
        "id": "4kesRYjYYrSO"
      },
      "source": [
        "Calculating fi(v)"
      ]
    },
    {
      "cell_type": "code",
      "metadata": {
        "id": "mmsUIxBzgCTC"
      },
      "source": [
        "np.seterr('raise')\n",
        "\n",
        "def check_is_in_segment(segment_start,segment_finish,value):\n",
        "  retVal = 0\n",
        "  value=np.float64(value).item()\n",
        "  if (segment_start<=value):\n",
        "    if (value<=segment_finish):\n",
        "      retVal = 1 # true (in segment)\n",
        "  return retVal"
      ],
      "execution_count": null,
      "outputs": []
    },
    {
      "cell_type": "code",
      "metadata": {
        "id": "F1agJ9fGYwDl",
        "colab": {
          "base_uri": "https://localhost:8080/"
        },
        "outputId": "99c9a9d1-ba21-4d04-bf5f-11e7f1115a07"
      },
      "source": [
        "#flag: =0 for fi(beta(L-t))\n",
        "#flag: =1 for fi(h(t))\n",
        "\n",
        "num_of_iterations = 1\n",
        "\n",
        "print(fi_v_values)\n",
        "array_prev = np.ones(len(fi_v_values)) #deepcopy(fi_v_values)\n",
        "array_cur = deepcopy(array_prev)\n",
        "print(array_prev)\n",
        "print(len(array_prev))\n",
        "step = fi_v_derivative_step\n",
        "\n",
        "array_v_args = np.zeros(int(1/step)+1)\n",
        "print(len(array_v_args)) \n",
        "for i in range(len(array_v_args)):\n",
        "  array_v_args[i] = i*step\n",
        "print(array_v_args)\n",
        "\n",
        "#Suppose we know fi(v) on all line[from 0 to 0.5] and all fi(v) wanna be on [0; 1]\n",
        "for steps in range(num_of_iterations):\n",
        "  v_start = 0\n",
        "  # array_cur = deepcopy(array_prev)\n",
        "  array_prev = deepcopy(array_cur)\n",
        "  print(array_cur)\n",
        "  for i in range(0,int(1/step) + 1):#now i from 0 to 100 => values from 0.00 to 1.00\n",
        "\n",
        "#!!!\n",
        "    # i=0\n",
        "    v_cur_point = array_v_args[i]\n",
        "\n",
        "    # print(\"v_cur_point = \" + str(v_cur_point))\n",
        "\n",
        "    t_for_beta = L - inverse_beta(v_cur_point)\n",
        "    t_for_h = inverse_h_t(v_cur_point)\n",
        "    flag = -1\n",
        "    if (check_is_in_segment(0,0.5,h_t_func.compute(t_for_h)) == 1):# if true => take fi n+1 from beta(L - t) --> flag = 0\n",
        "      array_cur[i] = round(calculate_fi_flag_0(v_cur_point,array_prev) , 3)\n",
        "      flag = 0\n",
        "    else:\n",
        "      array_cur[i] = round(calculate_fi_flag_1(v_cur_point,array_prev), 3)\n",
        "      flag = 1\n",
        "    print(\"i= \"+str(i) + \" ; v_cur_point= \" +str(v_cur_point)   +\" ; flag= \" +str(flag) + \" ;  array_cur[i]= \"+str(array_cur[i]))\n",
        "    # print(i)\n",
        "    # print(array_cur[i])\n",
        "\n",
        "#!!!\n",
        "    # break\n",
        "print(\"Final\")\n",
        "print(array_cur)\n",
        "    \n"
      ],
      "execution_count": null,
      "outputs": [
        {
          "output_type": "stream",
          "text": [
            "[0. 0. 0. ... 0. 0. 0.]\n",
            "[1. 1. 1. ... 1. 1. 1.]\n",
            "20001\n",
            "101\n",
            "[0.   0.01 0.02 0.03 0.04 0.05 0.06 0.07 0.08 0.09 0.1  0.11 0.12 0.13 0.14 0.15 0.16 0.17 0.18 0.19 0.2  0.21 0.22 0.23 0.24 0.25 0.26 0.27 0.28 0.29 0.3  0.31 0.32 0.33 0.34 0.35 0.36 0.37 0.38 0.39 0.4  0.41 0.42 0.43 0.44 0.45 0.46 0.47 0.48 0.49 0.5  0.51 0.52 0.53 0.54 0.55 0.56 0.57 0.58 0.59 0.6  0.61 0.62 0.63 0.64 0.65 0.66 0.67 0.68 0.69 0.7  0.71 0.72 0.73 0.74 0.75 0.76 0.77 0.78 0.79 0.8  0.81 0.82 0.83 0.84 0.85 0.86 0.87 0.88 0.89 0.9  0.91 0.92 0.93 0.94 0.95 0.96 0.97 0.98 0.99 1.  ]\n",
            "[1. 1. 1. ... 1. 1. 1.]\n",
            "\n",
            "u'x-------------\n",
            "a_t(t_val)= -1.0\n",
            "getValueFromFi(fi_arr, v)= 1.0\n",
            "u'x-------------\n",
            "\n",
            "multiplier flag=0 :1.0\n",
            "i= 0 ; v_cur_point= 0.0 ; flag= 0 ;  array_cur[i]= 0.874\n",
            "\n",
            "u'x-------------\n",
            "a_t(t_val)= -0.99\n",
            "getValueFromFi(fi_arr, v)= 1.0\n",
            "u'x-------------\n",
            "\n",
            "multiplier flag=0 :1.0050251256281406\n",
            "i= 1 ; v_cur_point= 0.01 ; flag= 0 ;  array_cur[i]= 0.845\n",
            "\n",
            "u'x-------------\n",
            "a_t(t_val)= -0.98\n",
            "getValueFromFi(fi_arr, v)= 1.0\n",
            "u'x-------------\n",
            "\n",
            "multiplier flag=0 :1.0101010101010102\n",
            "i= 2 ; v_cur_point= 0.02 ; flag= 0 ;  array_cur[i]= 0.814\n",
            "\n",
            "u'x-------------\n",
            "a_t(t_val)= -0.97\n",
            "getValueFromFi(fi_arr, v)= 1.0\n",
            "u'x-------------\n",
            "\n",
            "multiplier flag=0 :1.015228426395939\n",
            "i= 3 ; v_cur_point= 0.03 ; flag= 0 ;  array_cur[i]= 0.78\n",
            "\n",
            "u'x-------------\n",
            "a_t(t_val)= -0.96\n",
            "getValueFromFi(fi_arr, v)= 1.0\n",
            "u'x-------------\n",
            "\n",
            "multiplier flag=0 :1.0204081632653061\n",
            "i= 4 ; v_cur_point= 0.04 ; flag= 0 ;  array_cur[i]= 0.743\n",
            "\n",
            "u'x-------------\n",
            "a_t(t_val)= -0.95\n",
            "getValueFromFi(fi_arr, v)= 1.0\n",
            "u'x-------------\n",
            "\n",
            "multiplier flag=0 :1.0256410256410258\n",
            "i= 5 ; v_cur_point= 0.05 ; flag= 0 ;  array_cur[i]= 0.702\n",
            "\n",
            "u'x-------------\n",
            "a_t(t_val)= -0.94\n",
            "getValueFromFi(fi_arr, v)= 1.0\n",
            "u'x-------------\n",
            "\n",
            "multiplier flag=0 :1.0309278350515465\n",
            "i= 6 ; v_cur_point= 0.06 ; flag= 0 ;  array_cur[i]= 0.657\n",
            "\n",
            "u'x-------------\n",
            "a_t(t_val)= -0.9299999999999999\n",
            "getValueFromFi(fi_arr, v)= 1.0\n",
            "u'x-------------\n",
            "\n",
            "multiplier flag=0 :1.0362694300518136\n",
            "i= 7 ; v_cur_point= 0.07 ; flag= 0 ;  array_cur[i]= 0.608\n",
            "\n",
            "u'x-------------\n",
            "a_t(t_val)= -0.9199999999999999\n",
            "getValueFromFi(fi_arr, v)= 1.0\n",
            "u'x-------------\n",
            "\n",
            "multiplier flag=0 :1.0416666666666667\n",
            "i= 8 ; v_cur_point= 0.08 ; flag= 0 ;  array_cur[i]= 0.853\n",
            "\n",
            "u'x-------------\n",
            "a_t(t_val)= -0.9100000000000001\n",
            "getValueFromFi(fi_arr, v)= 1.0\n",
            "u'x-------------\n",
            "\n",
            "multiplier flag=0 :1.0471204188481675\n",
            "i= 9 ; v_cur_point= 0.09 ; flag= 0 ;  array_cur[i]= 0.816\n",
            "\n",
            "u'x-------------\n",
            "a_t(t_val)= -0.8999999999999999\n",
            "getValueFromFi(fi_arr, v)= 1.0\n",
            "u'x-------------\n",
            "\n",
            "multiplier flag=0 :1.0526315789473684\n",
            "i= 10 ; v_cur_point= 0.1 ; flag= 0 ;  array_cur[i]= 0.776\n",
            "\n",
            "u'x-------------\n",
            "a_t(t_val)= -0.8900000000000001\n",
            "getValueFromFi(fi_arr, v)= 1.0\n",
            "u'x-------------\n",
            "\n",
            "multiplier flag=0 :1.0582010582010581\n",
            "i= 11 ; v_cur_point= 0.11 ; flag= 0 ;  array_cur[i]= 0.731\n",
            "\n",
            "u'x-------------\n",
            "a_t(t_val)= -0.8799999999999999\n",
            "getValueFromFi(fi_arr, v)= 1.0\n",
            "u'x-------------\n",
            "\n",
            "multiplier flag=0 :1.0638297872340425\n",
            "i= 12 ; v_cur_point= 0.12 ; flag= 0 ;  array_cur[i]= 0.683\n",
            "\n",
            "u'x-------------\n",
            "a_t(t_val)= -0.8700000000000001\n",
            "getValueFromFi(fi_arr, v)= 1.0\n",
            "u'x-------------\n",
            "\n",
            "multiplier flag=0 :1.06951871657754\n",
            "i= 13 ; v_cur_point= 0.13 ; flag= 0 ;  array_cur[i]= 0.629\n",
            "\n",
            "u'x-------------\n",
            "a_t(t_val)= -0.8599999999999999\n",
            "getValueFromFi(fi_arr, v)= 1.0\n",
            "u'x-------------\n",
            "\n",
            "multiplier flag=0 :1.0752688172043012\n",
            "i= 14 ; v_cur_point= 0.14 ; flag= 0 ;  array_cur[i]= 0.569\n",
            "\n",
            "u'x-------------\n",
            "a_t(t_val)= -0.8500000000000001\n",
            "getValueFromFi(fi_arr, v)= 1.0\n",
            "u'x-------------\n",
            "\n",
            "multiplier flag=0 :1.081081081081081\n",
            "i= 15 ; v_cur_point= 0.15 ; flag= 0 ;  array_cur[i]= 0.86\n",
            "\n",
            "u'x-------------\n",
            "a_t(t_val)= -0.8399999999999999\n",
            "getValueFromFi(fi_arr, v)= 1.0\n",
            "u'x-------------\n",
            "\n",
            "multiplier flag=0 :1.0869565217391306\n",
            "i= 16 ; v_cur_point= 0.16 ; flag= 0 ;  array_cur[i]= 0.817\n",
            "\n",
            "u'x-------------\n",
            "a_t(t_val)= -0.8300000000000001\n",
            "getValueFromFi(fi_arr, v)= 1.0\n",
            "u'x-------------\n",
            "\n",
            "multiplier flag=0 :1.0928961748633879\n",
            "i= 17 ; v_cur_point= 0.17 ; flag= 0 ;  array_cur[i]= 0.768\n",
            "\n",
            "u'x-------------\n",
            "a_t(t_val)= -0.8200000000000001\n",
            "getValueFromFi(fi_arr, v)= 1.0\n",
            "u'x-------------\n",
            "\n",
            "multiplier flag=0 :1.0989010989010988\n",
            "i= 18 ; v_cur_point= 0.18 ; flag= 0 ;  array_cur[i]= 0.715\n",
            "\n",
            "u'x-------------\n",
            "a_t(t_val)= -0.81\n",
            "getValueFromFi(fi_arr, v)= 1.0\n",
            "u'x-------------\n",
            "\n",
            "multiplier flag=0 :1.1049723756906078\n",
            "i= 19 ; v_cur_point= 0.19 ; flag= 0 ;  array_cur[i]= 0.656\n",
            "\n",
            "u'x-------------\n",
            "a_t(t_val)= -0.8\n",
            "getValueFromFi(fi_arr, v)= 1.0\n",
            "u'x-------------\n",
            "\n",
            "multiplier flag=0 :1.1111111111111112\n",
            "i= 20 ; v_cur_point= 0.2 ; flag= 0 ;  array_cur[i]= 0.59\n",
            "\n",
            "u'x-------------\n",
            "a_t(t_val)= -0.79\n",
            "getValueFromFi(fi_arr, v)= 1.0\n",
            "u'x-------------\n",
            "\n",
            "multiplier flag=0 :1.1173184357541899\n",
            "i= 21 ; v_cur_point= 0.21 ; flag= 0 ;  array_cur[i]= 0.517\n",
            "\n",
            "u'x-------------\n",
            "a_t(t_val)= -0.78\n",
            "getValueFromFi(fi_arr, v)= 1.0\n",
            "u'x-------------\n",
            "\n",
            "multiplier flag=0 :1.1235955056179776\n",
            "i= 22 ; v_cur_point= 0.22 ; flag= 0 ;  array_cur[i]= 0.868\n",
            "\n",
            "u'x-------------\n",
            "a_t(t_val)= -0.77\n",
            "getValueFromFi(fi_arr, v)= 1.0\n",
            "u'x-------------\n",
            "\n",
            "multiplier flag=0 :1.1299435028248588\n",
            "i= 23 ; v_cur_point= 0.23 ; flag= 0 ;  array_cur[i]= 0.816\n",
            "\n",
            "u'x-------------\n",
            "a_t(t_val)= -0.76\n",
            "getValueFromFi(fi_arr, v)= 1.0\n",
            "u'x-------------\n",
            "\n",
            "multiplier flag=0 :1.1363636363636365\n",
            "i= 24 ; v_cur_point= 0.24 ; flag= 0 ;  array_cur[i]= 0.758\n",
            "\n",
            "u'x-------------\n",
            "a_t(t_val)= -0.75\n",
            "getValueFromFi(fi_arr, v)= 1.0\n",
            "u'x-------------\n",
            "\n",
            "multiplier flag=0 :1.1428571428571428\n",
            "i= 25 ; v_cur_point= 0.25 ; flag= 0 ;  array_cur[i]= 0.693\n",
            "\n",
            "u'x-------------\n",
            "a_t(t_val)= -0.74\n",
            "getValueFromFi(fi_arr, v)= 1.0\n",
            "u'x-------------\n",
            "\n",
            "multiplier flag=0 :1.1494252873563218\n",
            "i= 26 ; v_cur_point= 0.26 ; flag= 0 ;  array_cur[i]= 0.621\n",
            "\n",
            "u'x-------------\n",
            "a_t(t_val)= -0.73\n",
            "getValueFromFi(fi_arr, v)= 1.0\n",
            "u'x-------------\n",
            "\n",
            "multiplier flag=0 :1.1560693641618498\n",
            "i= 27 ; v_cur_point= 0.27 ; flag= 0 ;  array_cur[i]= 0.54\n",
            "\n",
            "u'x-------------\n",
            "a_t(t_val)= -0.72\n",
            "getValueFromFi(fi_arr, v)= 1.0\n",
            "u'x-------------\n",
            "\n",
            "multiplier flag=0 :1.1627906976744187\n",
            "i= 28 ; v_cur_point= 0.28 ; flag= 0 ;  array_cur[i]= 0.45\n",
            "\n",
            "u'x-------------\n",
            "a_t(t_val)= -0.71\n",
            "getValueFromFi(fi_arr, v)= 1.0\n",
            "u'x-------------\n",
            "\n",
            "multiplier flag=0 :1.1695906432748537\n",
            "i= 29 ; v_cur_point= 0.29 ; flag= 0 ;  array_cur[i]= 0.877\n",
            "\n",
            "u'x-------------\n",
            "a_t(t_val)= -0.7\n",
            "getValueFromFi(fi_arr, v)= 1.0\n",
            "u'x-------------\n",
            "\n",
            "multiplier flag=0 :1.1764705882352942\n",
            "i= 30 ; v_cur_point= 0.3 ; flag= 0 ;  array_cur[i]= 0.814\n",
            "\n",
            "u'x-------------\n",
            "a_t(t_val)= -0.69\n",
            "getValueFromFi(fi_arr, v)= 1.0\n",
            "u'x-------------\n",
            "\n",
            "multiplier flag=0 :1.183431952662722\n",
            "i= 31 ; v_cur_point= 0.31 ; flag= 0 ;  array_cur[i]= 0.743\n",
            "\n",
            "u'x-------------\n",
            "a_t(t_val)= -0.6799999999999999\n",
            "getValueFromFi(fi_arr, v)= 1.0\n",
            "u'x-------------\n",
            "\n",
            "multiplier flag=0 :1.1904761904761905\n",
            "i= 32 ; v_cur_point= 0.32 ; flag= 0 ;  array_cur[i]= 0.664\n",
            "\n",
            "u'x-------------\n",
            "a_t(t_val)= -0.6699999999999999\n",
            "getValueFromFi(fi_arr, v)= 1.0\n",
            "u'x-------------\n",
            "\n",
            "multiplier flag=0 :1.1976047904191618\n",
            "i= 33 ; v_cur_point= 0.33 ; flag= 0 ;  array_cur[i]= 0.575\n",
            "\n",
            "u'x-------------\n",
            "a_t(t_val)= -0.6599999999999999\n",
            "getValueFromFi(fi_arr, v)= 1.0\n",
            "u'x-------------\n",
            "\n",
            "multiplier flag=0 :1.2048192771084338\n",
            "i= 34 ; v_cur_point= 0.34 ; flag= 0 ;  array_cur[i]= 0.474\n",
            "\n",
            "u'x-------------\n",
            "a_t(t_val)= -0.6499999999999999\n",
            "getValueFromFi(fi_arr, v)= 1.0\n",
            "u'x-------------\n",
            "\n",
            "multiplier flag=0 :1.2121212121212122\n",
            "i= 35 ; v_cur_point= 0.35000000000000003 ; flag= 0 ;  array_cur[i]= 0.36\n",
            "\n",
            "u'x-------------\n",
            "a_t(t_val)= -0.6400000000000001\n",
            "getValueFromFi(fi_arr, v)= 1.0\n",
            "u'x-------------\n",
            "\n",
            "multiplier flag=0 :1.2195121951219512\n",
            "i= 36 ; v_cur_point= 0.36 ; flag= 0 ;  array_cur[i]= 0.89\n",
            "\n",
            "u'x-------------\n",
            "a_t(t_val)= -0.6299999999999999\n",
            "getValueFromFi(fi_arr, v)= 1.0\n",
            "u'x-------------\n",
            "\n",
            "multiplier flag=0 :1.2269938650306749\n",
            "i= 37 ; v_cur_point= 0.37 ; flag= 0 ;  array_cur[i]= 0.813\n",
            "\n",
            "u'x-------------\n",
            "a_t(t_val)= -0.6200000000000001\n",
            "getValueFromFi(fi_arr, v)= 1.0\n",
            "u'x-------------\n",
            "\n",
            "multiplier flag=0 :1.2345679012345678\n",
            "i= 38 ; v_cur_point= 0.38 ; flag= 0 ;  array_cur[i]= 0.726\n",
            "\n",
            "u'x-------------\n",
            "a_t(t_val)= -0.6099999999999999\n",
            "getValueFromFi(fi_arr, v)= 1.0\n",
            "u'x-------------\n",
            "\n",
            "multiplier flag=0 :1.2422360248447206\n",
            "i= 39 ; v_cur_point= 0.39 ; flag= 0 ;  array_cur[i]= 0.627\n",
            "\n",
            "u'x-------------\n",
            "a_t(t_val)= -0.6000000000000001\n",
            "getValueFromFi(fi_arr, v)= 1.0\n",
            "u'x-------------\n",
            "\n",
            "multiplier flag=0 :1.25\n",
            "i= 40 ; v_cur_point= 0.4 ; flag= 0 ;  array_cur[i]= 0.515\n",
            "\n",
            "u'x-------------\n",
            "a_t(t_val)= -0.5899999999999999\n",
            "getValueFromFi(fi_arr, v)= 1.0\n",
            "u'x-------------\n",
            "\n",
            "multiplier flag=0 :1.257861635220126\n",
            "i= 41 ; v_cur_point= 0.41000000000000003 ; flag= 0 ;  array_cur[i]= 0.388\n",
            "\n",
            "u'x-------------\n",
            "a_t(t_val)= -0.5800000000000001\n",
            "getValueFromFi(fi_arr, v)= 1.0\n",
            "u'x-------------\n",
            "\n",
            "multiplier flag=0 :1.2658227848101264\n",
            "i= 42 ; v_cur_point= 0.42 ; flag= 0 ;  array_cur[i]= 0.242\n",
            "\n",
            "u'x-------------\n",
            "a_t(t_val)= -0.5700000000000001\n",
            "getValueFromFi(fi_arr, v)= 1.0\n",
            "u'x-------------\n",
            "\n",
            "multiplier flag=0 :1.2738853503184713\n",
            "i= 43 ; v_cur_point= 0.43 ; flag= 0 ;  array_cur[i]= 0.911\n",
            "\n",
            "u'x-------------\n",
            "a_t(t_val)= -0.56\n",
            "getValueFromFi(fi_arr, v)= 1.0\n",
            "u'x-------------\n",
            "\n",
            "multiplier flag=0 :1.282051282051282\n",
            "i= 44 ; v_cur_point= 0.44 ; flag= 0 ;  array_cur[i]= 0.816\n",
            "\n",
            "u'x-------------\n",
            "a_t(t_val)= -0.55\n",
            "getValueFromFi(fi_arr, v)= 1.0\n",
            "u'x-------------\n",
            "\n",
            "multiplier flag=0 :1.2903225806451613\n",
            "i= 45 ; v_cur_point= 0.45 ; flag= 0 ;  array_cur[i]= 0.708\n",
            "\n",
            "u'x-------------\n",
            "a_t(t_val)= -0.54\n",
            "getValueFromFi(fi_arr, v)= 1.0\n",
            "u'x-------------\n",
            "\n",
            "multiplier flag=0 :1.2987012987012987\n",
            "i= 46 ; v_cur_point= 0.46 ; flag= 0 ;  array_cur[i]= 0.583\n",
            "\n",
            "u'x-------------\n",
            "a_t(t_val)= -0.53\n",
            "getValueFromFi(fi_arr, v)= 1.0\n",
            "u'x-------------\n",
            "\n",
            "multiplier flag=0 :1.3071895424836601\n",
            "i= 47 ; v_cur_point= 0.47000000000000003 ; flag= 0 ;  array_cur[i]= 0.441\n",
            "\n",
            "u'x-------------\n",
            "a_t(t_val)= -0.52\n",
            "getValueFromFi(fi_arr, v)= 1.0\n",
            "u'x-------------\n",
            "\n",
            "multiplier flag=0 :1.3157894736842106\n",
            "i= 48 ; v_cur_point= 0.48 ; flag= 0 ;  array_cur[i]= 0.276\n",
            "\n",
            "u'x-------------\n",
            "a_t(t_val)= -0.51\n",
            "getValueFromFi(fi_arr, v)= 1.0\n",
            "u'x-------------\n",
            "\n",
            "multiplier flag=0 :1.3245033112582782\n",
            "i= 49 ; v_cur_point= 0.49 ; flag= 0 ;  array_cur[i]= 0.084\n",
            "\n",
            "u'x-------------\n",
            "a_t(t_val)= -0.5\n",
            "getValueFromFi(fi_arr, v)= 1.0\n",
            "u'x-------------\n",
            "\n",
            "multiplier flag=0 :1.3333333333333333\n",
            "i= 50 ; v_cur_point= 0.5 ; flag= 0 ;  array_cur[i]= -0.139\n",
            "h_inverse(v_0) = 1.225\n",
            "h_derivative_from_h_inverse = -0.4000000000000057\n",
            "\n",
            "u'x-------------\n",
            "a_t(t_val)= 1.225\n",
            "getValueFromFi(fi_arr, v)= 1.0\n",
            "u'x-------------\n",
            "\n",
            "u_derivate_x_L_point-0.8249999999999944\n",
            "\n",
            "u'x-------------\n",
            "a_t(t_val)= 1.225\n",
            "getValueFromFi(fi_arr, v)= 1.0\n",
            "u'x-------------\n",
            "\n",
            "multiplier flag=1 :3.062499999999957\n",
            "i= 51 ; v_cur_point= 0.51 ; flag= 1 ;  array_cur[i]= 4.511\n",
            "h_inverse(v_0) = 1.2\n",
            "h_derivative_from_h_inverse = -0.3999999999999986\n",
            "\n",
            "u'x-------------\n",
            "a_t(t_val)= 1.2\n",
            "getValueFromFi(fi_arr, v)= 1.0\n",
            "u'x-------------\n",
            "\n",
            "u_derivate_x_L_point-0.8000000000000014\n",
            "\n",
            "u'x-------------\n",
            "a_t(t_val)= 1.2\n",
            "getValueFromFi(fi_arr, v)= 1.0\n",
            "u'x-------------\n",
            "\n",
            "multiplier flag=1 :3.0000000000000107\n",
            "i= 52 ; v_cur_point= 0.52 ; flag= 1 ;  array_cur[i]= 4.377\n",
            "h_inverse(v_0) = 1.175\n",
            "h_derivative_from_h_inverse = -0.4000000000000057\n",
            "\n",
            "u'x-------------\n",
            "a_t(t_val)= 1.175\n",
            "getValueFromFi(fi_arr, v)= 1.0\n",
            "u'x-------------\n",
            "\n",
            "u_derivate_x_L_point-0.7749999999999944\n",
            "\n",
            "u'x-------------\n",
            "a_t(t_val)= 1.175\n",
            "getValueFromFi(fi_arr, v)= 1.0\n",
            "u'x-------------\n",
            "\n",
            "multiplier flag=1 :2.9374999999999583\n",
            "i= 53 ; v_cur_point= 0.53 ; flag= 1 ;  array_cur[i]= 4.244\n",
            "h_inverse(v_0) = 1.1500000000000001\n",
            "h_derivative_from_h_inverse = -0.3999999999999986\n",
            "\n",
            "u'x-------------\n",
            "a_t(t_val)= 1.1500000000000001\n",
            "getValueFromFi(fi_arr, v)= 1.0\n",
            "u'x-------------\n",
            "\n",
            "u_derivate_x_L_point-0.7500000000000016\n",
            "\n",
            "u'x-------------\n",
            "a_t(t_val)= 1.1500000000000001\n",
            "getValueFromFi(fi_arr, v)= 1.0\n",
            "u'x-------------\n",
            "\n",
            "multiplier flag=1 :2.8750000000000107\n",
            "i= 54 ; v_cur_point= 0.54 ; flag= 1 ;  array_cur[i]= 4.112\n",
            "h_inverse(v_0) = 1.1250000000000002\n",
            "h_derivative_from_h_inverse = -0.4000000000000057\n",
            "\n",
            "u'x-------------\n",
            "a_t(t_val)= 1.1250000000000002\n",
            "getValueFromFi(fi_arr, v)= 1.0\n",
            "u'x-------------\n",
            "\n",
            "u_derivate_x_L_point-0.7249999999999945\n",
            "\n",
            "u'x-------------\n",
            "a_t(t_val)= 1.1250000000000002\n",
            "getValueFromFi(fi_arr, v)= 1.0\n",
            "u'x-------------\n",
            "\n",
            "multiplier flag=1 :2.8124999999999605\n",
            "i= 55 ; v_cur_point= 0.55 ; flag= 1 ;  array_cur[i]= 3.982\n",
            "h_inverse(v_0) = 1.1\n",
            "h_derivative_from_h_inverse = -0.3999999999999986\n",
            "\n",
            "u'x-------------\n",
            "a_t(t_val)= 1.1\n",
            "getValueFromFi(fi_arr, v)= 1.0\n",
            "u'x-------------\n",
            "\n",
            "u_derivate_x_L_point-0.7000000000000015\n",
            "\n",
            "u'x-------------\n",
            "a_t(t_val)= 1.1\n",
            "getValueFromFi(fi_arr, v)= 1.0\n",
            "u'x-------------\n",
            "\n",
            "multiplier flag=1 :2.75000000000001\n",
            "i= 56 ; v_cur_point= 0.56 ; flag= 1 ;  array_cur[i]= 3.853\n",
            "h_inverse(v_0) = 1.0750000000000002\n",
            "h_derivative_from_h_inverse = -0.4000000000000057\n",
            "\n",
            "u'x-------------\n",
            "a_t(t_val)= 1.0750000000000002\n",
            "getValueFromFi(fi_arr, v)= 1.0\n",
            "u'x-------------\n",
            "\n",
            "u_derivate_x_L_point-0.6749999999999945\n",
            "\n",
            "u'x-------------\n",
            "a_t(t_val)= 1.0750000000000002\n",
            "getValueFromFi(fi_arr, v)= 1.0\n",
            "u'x-------------\n",
            "\n",
            "multiplier flag=1 :2.6874999999999623\n",
            "i= 57 ; v_cur_point= 0.5700000000000001 ; flag= 1 ;  array_cur[i]= 3.726\n",
            "h_inverse(v_0) = 1.0500000000000003\n",
            "h_derivative_from_h_inverse = -0.3999999999999986\n",
            "\n",
            "u'x-------------\n",
            "a_t(t_val)= 1.0500000000000003\n",
            "getValueFromFi(fi_arr, v)= 1.0\n",
            "u'x-------------\n",
            "\n",
            "u_derivate_x_L_point-0.6500000000000017\n",
            "\n",
            "u'x-------------\n",
            "a_t(t_val)= 1.0500000000000003\n",
            "getValueFromFi(fi_arr, v)= 1.0\n",
            "u'x-------------\n",
            "\n",
            "multiplier flag=1 :2.62500000000001\n",
            "i= 58 ; v_cur_point= 0.58 ; flag= 1 ;  array_cur[i]= 3.6\n",
            "h_inverse(v_0) = 1.0250000000000004\n",
            "h_derivative_from_h_inverse = -0.4000000000000057\n",
            "\n",
            "u'x-------------\n",
            "a_t(t_val)= 1.0250000000000004\n",
            "getValueFromFi(fi_arr, v)= 1.0\n",
            "u'x-------------\n",
            "\n",
            "u_derivate_x_L_point-0.6249999999999947\n",
            "\n",
            "u'x-------------\n",
            "a_t(t_val)= 1.0250000000000004\n",
            "getValueFromFi(fi_arr, v)= 1.0\n",
            "u'x-------------\n",
            "\n",
            "multiplier flag=1 :2.5624999999999645\n",
            "i= 59 ; v_cur_point= 0.59 ; flag= 1 ;  array_cur[i]= 3.475\n",
            "h_inverse(v_0) = 1.0000000000000002\n",
            "h_derivative_from_h_inverse = -0.3999999999999986\n",
            "\n",
            "u'x-------------\n",
            "a_t(t_val)= 1.0000000000000002\n",
            "getValueFromFi(fi_arr, v)= 1.0\n",
            "u'x-------------\n",
            "\n",
            "u_derivate_x_L_point-0.6000000000000016\n",
            "\n",
            "u'x-------------\n",
            "a_t(t_val)= 1.0000000000000002\n",
            "getValueFromFi(fi_arr, v)= 1.0\n",
            "u'x-------------\n",
            "\n",
            "multiplier flag=1 :2.5000000000000093\n",
            "i= 60 ; v_cur_point= 0.6 ; flag= 1 ;  array_cur[i]= 3.352\n",
            "h_inverse(v_0) = 0.9750000000000002\n",
            "h_derivative_from_h_inverse = -0.4000000000000057\n",
            "\n",
            "u'x-------------\n",
            "a_t(t_val)= 0.9750000000000002\n",
            "getValueFromFi(fi_arr, v)= 1.0\n",
            "u'x-------------\n",
            "\n",
            "u_derivate_x_L_point-0.5749999999999945\n",
            "\n",
            "u'x-------------\n",
            "a_t(t_val)= 0.9750000000000002\n",
            "getValueFromFi(fi_arr, v)= 1.0\n",
            "u'x-------------\n",
            "\n",
            "multiplier flag=1 :2.437499999999966\n",
            "i= 61 ; v_cur_point= 0.61 ; flag= 1 ;  array_cur[i]= 3.23\n",
            "h_inverse(v_0) = 0.9500000000000002\n",
            "h_derivative_from_h_inverse = -0.3999999999999986\n",
            "\n",
            "u'x-------------\n",
            "a_t(t_val)= 0.9500000000000002\n",
            "getValueFromFi(fi_arr, v)= 1.0\n",
            "u'x-------------\n",
            "\n",
            "u_derivate_x_L_point-0.5500000000000016\n",
            "\n",
            "u'x-------------\n",
            "a_t(t_val)= 0.9500000000000002\n",
            "getValueFromFi(fi_arr, v)= 1.0\n",
            "u'x-------------\n",
            "\n",
            "multiplier flag=1 :2.375000000000009\n",
            "i= 62 ; v_cur_point= 0.62 ; flag= 1 ;  array_cur[i]= 3.11\n",
            "h_inverse(v_0) = 0.9250000000000002\n",
            "h_derivative_from_h_inverse = -0.4000000000000057\n",
            "\n",
            "u'x-------------\n",
            "a_t(t_val)= 0.9250000000000002\n",
            "getValueFromFi(fi_arr, v)= 1.0\n",
            "u'x-------------\n",
            "\n",
            "u_derivate_x_L_point-0.5249999999999945\n",
            "\n",
            "u'x-------------\n",
            "a_t(t_val)= 0.9250000000000002\n",
            "getValueFromFi(fi_arr, v)= 1.0\n",
            "u'x-------------\n",
            "\n",
            "multiplier flag=1 :2.3124999999999676\n",
            "i= 63 ; v_cur_point= 0.63 ; flag= 1 ;  array_cur[i]= 2.991\n",
            "h_inverse(v_0) = 0.9000000000000001\n",
            "h_derivative_from_h_inverse = -0.399999999999995\n",
            "\n",
            "u'x-------------\n",
            "a_t(t_val)= 0.9000000000000001\n",
            "getValueFromFi(fi_arr, v)= 1.0\n",
            "u'x-------------\n",
            "\n",
            "u_derivate_x_L_point-0.5000000000000051\n",
            "\n",
            "u'x-------------\n",
            "a_t(t_val)= 0.9000000000000001\n",
            "getValueFromFi(fi_arr, v)= 1.0\n",
            "u'x-------------\n",
            "\n",
            "multiplier flag=1 :2.2500000000000284\n",
            "i= 64 ; v_cur_point= 0.64 ; flag= 1 ;  array_cur[i]= 2.873\n",
            "h_inverse(v_0) = 0.8750000000000001\n",
            "h_derivative_from_h_inverse = -0.4000000000000057\n",
            "\n",
            "u'x-------------\n",
            "a_t(t_val)= 0.8750000000000001\n",
            "getValueFromFi(fi_arr, v)= 1.0\n",
            "u'x-------------\n",
            "\n",
            "u_derivate_x_L_point-0.4749999999999944\n",
            "\n",
            "u'x-------------\n",
            "a_t(t_val)= 0.8750000000000001\n",
            "getValueFromFi(fi_arr, v)= 1.0\n",
            "u'x-------------\n",
            "\n",
            "multiplier flag=1 :2.1874999999999694\n",
            "i= 65 ; v_cur_point= 0.65 ; flag= 1 ;  array_cur[i]= 2.757\n",
            "h_inverse(v_0) = 0.8500000000000001\n",
            "h_derivative_from_h_inverse = -0.3999999999999915\n",
            "\n",
            "u'x-------------\n",
            "a_t(t_val)= 0.8500000000000001\n",
            "getValueFromFi(fi_arr, v)= 1.0\n",
            "u'x-------------\n",
            "\n",
            "u_derivate_x_L_point-0.4500000000000086\n",
            "\n",
            "u'x-------------\n",
            "a_t(t_val)= 0.8500000000000001\n",
            "getValueFromFi(fi_arr, v)= 1.0\n",
            "u'x-------------\n",
            "\n",
            "multiplier flag=1 :2.1250000000000457\n",
            "i= 66 ; v_cur_point= 0.66 ; flag= 1 ;  array_cur[i]= 2.642\n",
            "h_inverse(v_0) = 0.8250000000000001\n",
            "h_derivative_from_h_inverse = -0.4000000000000057\n",
            "\n",
            "u'x-------------\n",
            "a_t(t_val)= 0.8250000000000001\n",
            "getValueFromFi(fi_arr, v)= 1.0\n",
            "u'x-------------\n",
            "\n",
            "u_derivate_x_L_point-0.4249999999999944\n",
            "\n",
            "u'x-------------\n",
            "a_t(t_val)= 0.8250000000000001\n",
            "getValueFromFi(fi_arr, v)= 1.0\n",
            "u'x-------------\n",
            "\n",
            "multiplier flag=1 :2.0624999999999707\n",
            "i= 67 ; v_cur_point= 0.67 ; flag= 1 ;  array_cur[i]= 2.528\n",
            "h_inverse(v_0) = 0.8\n",
            "h_derivative_from_h_inverse = -0.3999999999999915\n",
            "\n",
            "u'x-------------\n",
            "a_t(t_val)= 0.8\n",
            "getValueFromFi(fi_arr, v)= 1.0\n",
            "u'x-------------\n",
            "\n",
            "u_derivate_x_L_point-0.40000000000000857\n",
            "\n",
            "u'x-------------\n",
            "a_t(t_val)= 0.8\n",
            "getValueFromFi(fi_arr, v)= 1.0\n",
            "u'x-------------\n",
            "\n",
            "multiplier flag=1 :2.0000000000000426\n",
            "i= 68 ; v_cur_point= 0.68 ; flag= 1 ;  array_cur[i]= 2.415\n",
            "h_inverse(v_0) = 0.775\n",
            "h_derivative_from_h_inverse = -0.4000000000000057\n",
            "\n",
            "u'x-------------\n",
            "a_t(t_val)= 0.775\n",
            "getValueFromFi(fi_arr, v)= 1.0\n",
            "u'x-------------\n",
            "\n",
            "u_derivate_x_L_point-0.37499999999999434\n",
            "\n",
            "u'x-------------\n",
            "a_t(t_val)= 0.775\n",
            "getValueFromFi(fi_arr, v)= 1.0\n",
            "u'x-------------\n",
            "\n",
            "multiplier flag=1 :1.9374999999999725\n",
            "i= 69 ; v_cur_point= 0.6900000000000001 ; flag= 1 ;  array_cur[i]= 2.304\n",
            "h_inverse(v_0) = 0.75\n",
            "h_derivative_from_h_inverse = -0.3999999999999915\n",
            "\n",
            "u'x-------------\n",
            "a_t(t_val)= 0.75\n",
            "getValueFromFi(fi_arr, v)= 1.0\n",
            "u'x-------------\n",
            "\n",
            "u_derivate_x_L_point-0.3500000000000085\n",
            "\n",
            "u'x-------------\n",
            "a_t(t_val)= 0.75\n",
            "getValueFromFi(fi_arr, v)= 1.0\n",
            "u'x-------------\n",
            "\n",
            "multiplier flag=1 :1.87500000000004\n",
            "i= 70 ; v_cur_point= 0.7000000000000001 ; flag= 1 ;  array_cur[i]= 2.193\n",
            "h_inverse(v_0) = 0.7250000000000003\n",
            "h_derivative_from_h_inverse = -0.4000000000000057\n",
            "\n",
            "u'x-------------\n",
            "a_t(t_val)= 0.7250000000000003\n",
            "getValueFromFi(fi_arr, v)= 1.0\n",
            "u'x-------------\n",
            "\n",
            "u_derivate_x_L_point-0.3249999999999946\n",
            "\n",
            "u'x-------------\n",
            "a_t(t_val)= 0.7250000000000003\n",
            "getValueFromFi(fi_arr, v)= 1.0\n",
            "u'x-------------\n",
            "\n",
            "multiplier flag=1 :1.8124999999999751\n",
            "i= 71 ; v_cur_point= 0.71 ; flag= 1 ;  array_cur[i]= 2.084\n",
            "h_inverse(v_0) = 0.7000000000000002\n",
            "h_derivative_from_h_inverse = -0.3999999999999915\n",
            "\n",
            "u'x-------------\n",
            "a_t(t_val)= 0.7000000000000002\n",
            "getValueFromFi(fi_arr, v)= 1.0\n",
            "u'x-------------\n",
            "\n",
            "u_derivate_x_L_point-0.3000000000000087\n",
            "\n",
            "u'x-------------\n",
            "a_t(t_val)= 0.7000000000000002\n",
            "getValueFromFi(fi_arr, v)= 1.0\n",
            "u'x-------------\n",
            "\n",
            "multiplier flag=1 :1.7500000000000377\n",
            "i= 72 ; v_cur_point= 0.72 ; flag= 1 ;  array_cur[i]= 1.976\n",
            "h_inverse(v_0) = 0.6750000000000003\n",
            "h_derivative_from_h_inverse = -0.4000000000000057\n",
            "\n",
            "u'x-------------\n",
            "a_t(t_val)= 0.6750000000000003\n",
            "getValueFromFi(fi_arr, v)= 1.0\n",
            "u'x-------------\n",
            "\n",
            "u_derivate_x_L_point-0.2749999999999946\n",
            "\n",
            "u'x-------------\n",
            "a_t(t_val)= 0.6750000000000003\n",
            "getValueFromFi(fi_arr, v)= 1.0\n",
            "u'x-------------\n",
            "\n",
            "multiplier flag=1 :1.6874999999999767\n",
            "i= 73 ; v_cur_point= 0.73 ; flag= 1 ;  array_cur[i]= 1.869\n",
            "h_inverse(v_0) = 0.6500000000000001\n",
            "h_derivative_from_h_inverse = -0.3999999999999915\n",
            "\n",
            "u'x-------------\n",
            "a_t(t_val)= 0.6500000000000001\n",
            "getValueFromFi(fi_arr, v)= 1.0\n",
            "u'x-------------\n",
            "\n",
            "u_derivate_x_L_point-0.25000000000000866\n",
            "\n",
            "u'x-------------\n",
            "a_t(t_val)= 0.6500000000000001\n",
            "getValueFromFi(fi_arr, v)= 1.0\n",
            "u'x-------------\n",
            "\n",
            "multiplier flag=1 :1.625000000000035\n",
            "i= 74 ; v_cur_point= 0.74 ; flag= 1 ;  array_cur[i]= 1.763\n",
            "h_inverse(v_0) = 0.6250000000000002\n",
            "h_derivative_from_h_inverse = -0.4000000000000057\n",
            "\n",
            "u'x-------------\n",
            "a_t(t_val)= 0.6250000000000002\n",
            "getValueFromFi(fi_arr, v)= 1.0\n",
            "u'x-------------\n",
            "\n",
            "u_derivate_x_L_point-0.22499999999999454\n",
            "\n",
            "u'x-------------\n",
            "a_t(t_val)= 0.6250000000000002\n",
            "getValueFromFi(fi_arr, v)= 1.0\n",
            "u'x-------------\n",
            "\n",
            "multiplier flag=1 :1.5624999999999785\n",
            "i= 75 ; v_cur_point= 0.75 ; flag= 1 ;  array_cur[i]= 1.658\n",
            "h_inverse(v_0) = 0.6000000000000001\n",
            "h_derivative_from_h_inverse = -0.3999999999999915\n",
            "\n",
            "u'x-------------\n",
            "a_t(t_val)= 0.6000000000000001\n",
            "getValueFromFi(fi_arr, v)= 1.0\n",
            "u'x-------------\n",
            "\n",
            "u_derivate_x_L_point-0.20000000000000862\n",
            "\n",
            "u'x-------------\n",
            "a_t(t_val)= 0.6000000000000001\n",
            "getValueFromFi(fi_arr, v)= 1.0\n",
            "u'x-------------\n",
            "\n",
            "multiplier flag=1 :1.5000000000000322\n",
            "i= 76 ; v_cur_point= 0.76 ; flag= 1 ;  array_cur[i]= 1.553\n",
            "h_inverse(v_0) = 0.5750000000000001\n",
            "h_derivative_from_h_inverse = -0.4000000000000057\n",
            "\n",
            "u'x-------------\n",
            "a_t(t_val)= 0.5750000000000001\n",
            "getValueFromFi(fi_arr, v)= 1.0\n",
            "u'x-------------\n",
            "\n",
            "u_derivate_x_L_point-0.17499999999999438\n",
            "\n",
            "u'x-------------\n",
            "a_t(t_val)= 0.5750000000000001\n",
            "getValueFromFi(fi_arr, v)= 1.0\n",
            "u'x-------------\n",
            "\n",
            "multiplier flag=1 :1.4374999999999798\n",
            "i= 77 ; v_cur_point= 0.77 ; flag= 1 ;  array_cur[i]= 1.45\n",
            "h_inverse(v_0) = 0.55\n",
            "h_derivative_from_h_inverse = -0.3999999999999915\n",
            "\n",
            "u'x-------------\n",
            "a_t(t_val)= 0.55\n",
            "getValueFromFi(fi_arr, v)= 1.0\n",
            "u'x-------------\n",
            "\n",
            "u_derivate_x_L_point-0.15000000000000857\n",
            "\n",
            "u'x-------------\n",
            "a_t(t_val)= 0.55\n",
            "getValueFromFi(fi_arr, v)= 1.0\n",
            "u'x-------------\n",
            "\n",
            "multiplier flag=1 :1.3750000000000295\n",
            "i= 78 ; v_cur_point= 0.78 ; flag= 1 ;  array_cur[i]= 1.347\n",
            "h_inverse(v_0) = 0.525\n",
            "h_derivative_from_h_inverse = -0.4000000000000057\n",
            "\n",
            "u'x-------------\n",
            "a_t(t_val)= 0.525\n",
            "getValueFromFi(fi_arr, v)= 1.0\n",
            "u'x-------------\n",
            "\n",
            "u_derivate_x_L_point-0.12499999999999434\n",
            "\n",
            "u'x-------------\n",
            "a_t(t_val)= 0.525\n",
            "getValueFromFi(fi_arr, v)= 1.0\n",
            "u'x-------------\n",
            "\n",
            "multiplier flag=1 :1.3124999999999813\n",
            "i= 79 ; v_cur_point= 0.79 ; flag= 1 ;  array_cur[i]= 1.244\n",
            "h_inverse(v_0) = 0.5\n",
            "h_derivative_from_h_inverse = -0.3999999999999915\n",
            "\n",
            "u'x-------------\n",
            "a_t(t_val)= 0.5\n",
            "getValueFromFi(fi_arr, v)= 1.0\n",
            "u'x-------------\n",
            "\n",
            "u_derivate_x_L_point-0.10000000000000853\n",
            "\n",
            "u'x-------------\n",
            "a_t(t_val)= 0.5\n",
            "getValueFromFi(fi_arr, v)= 1.0\n",
            "u'x-------------\n",
            "\n",
            "multiplier flag=1 :1.2500000000000266\n",
            "i= 80 ; v_cur_point= 0.8 ; flag= 1 ;  array_cur[i]= 1.142\n",
            "h_inverse(v_0) = 0.475\n",
            "h_derivative_from_h_inverse = -0.4000000000000057\n",
            "\n",
            "u'x-------------\n",
            "a_t(t_val)= 0.475\n",
            "getValueFromFi(fi_arr, v)= 1.0\n",
            "u'x-------------\n",
            "\n",
            "u_derivate_x_L_point-0.0749999999999943\n",
            "\n",
            "u'x-------------\n",
            "a_t(t_val)= 0.475\n",
            "getValueFromFi(fi_arr, v)= 1.0\n",
            "u'x-------------\n",
            "\n",
            "multiplier flag=1 :1.1874999999999831\n",
            "i= 81 ; v_cur_point= 0.81 ; flag= 1 ;  array_cur[i]= 1.039\n",
            "h_inverse(v_0) = 0.44999999999999996\n",
            "h_derivative_from_h_inverse = -0.3999999999999915\n",
            "\n",
            "u'x-------------\n",
            "a_t(t_val)= 0.44999999999999996\n",
            "getValueFromFi(fi_arr, v)= 1.0\n",
            "u'x-------------\n",
            "\n",
            "u_derivate_x_L_point-0.05000000000000848\n",
            "\n",
            "u'x-------------\n",
            "a_t(t_val)= 0.44999999999999996\n",
            "getValueFromFi(fi_arr, v)= 1.0\n",
            "u'x-------------\n",
            "\n",
            "multiplier flag=1 :1.125000000000024\n",
            "i= 82 ; v_cur_point= 0.8200000000000001 ; flag= 1 ;  array_cur[i]= 0.937\n",
            "h_inverse(v_0) = 0.42499999999999993\n",
            "h_derivative_from_h_inverse = -0.4000000000000057\n",
            "\n",
            "u'x-------------\n",
            "a_t(t_val)= 0.42499999999999993\n",
            "getValueFromFi(fi_arr, v)= 1.0\n",
            "u'x-------------\n",
            "\n",
            "u_derivate_x_L_point-0.02499999999999425\n",
            "\n",
            "u'x-------------\n",
            "a_t(t_val)= 0.42499999999999993\n",
            "getValueFromFi(fi_arr, v)= 1.0\n",
            "u'x-------------\n",
            "\n",
            "multiplier flag=1 :1.0624999999999847\n",
            "i= 83 ; v_cur_point= 0.8300000000000001 ; flag= 1 ;  array_cur[i]= 0.834\n",
            "h_inverse(v_0) = 0.40000000000000013\n",
            "h_derivative_from_h_inverse = -0.3999999999999915\n",
            "\n",
            "u'x-------------\n",
            "a_t(t_val)= 0.40000000000000013\n",
            "getValueFromFi(fi_arr, v)= 1.0\n",
            "u'x-------------\n",
            "\n",
            "u_derivate_x_L_point-8.659739592076221e-15\n",
            "\n",
            "u'x-------------\n",
            "a_t(t_val)= 0.40000000000000013\n",
            "getValueFromFi(fi_arr, v)= 1.0\n",
            "u'x-------------\n",
            "\n",
            "multiplier flag=1 :1.0000000000000218\n",
            "i= 84 ; v_cur_point= 0.84 ; flag= 1 ;  array_cur[i]= 0.73\n",
            "h_inverse(v_0) = 0.3750000000000001\n",
            "h_derivative_from_h_inverse = -0.4000000000000057\n",
            "\n",
            "u'x-------------\n",
            "a_t(t_val)= 0.3750000000000001\n",
            "getValueFromFi(fi_arr, v)= 1.0\n",
            "u'x-------------\n",
            "\n",
            "u_derivate_x_L_point0.025000000000005573\n",
            "\n",
            "u'x-------------\n",
            "a_t(t_val)= 0.3750000000000001\n",
            "getValueFromFi(fi_arr, v)= 1.0\n",
            "u'x-------------\n",
            "\n",
            "multiplier flag=1 :0.937499999999987\n",
            "i= 85 ; v_cur_point= 0.85 ; flag= 1 ;  array_cur[i]= 0.625\n",
            "h_inverse(v_0) = 0.3500000000000001\n",
            "h_derivative_from_h_inverse = -0.3999999999999915\n",
            "\n",
            "u'x-------------\n",
            "a_t(t_val)= 0.3500000000000001\n",
            "getValueFromFi(fi_arr, v)= 1.0\n",
            "u'x-------------\n",
            "\n",
            "u_derivate_x_L_point0.049999999999991385\n",
            "\n",
            "u'x-------------\n",
            "a_t(t_val)= 0.3500000000000001\n",
            "getValueFromFi(fi_arr, v)= 1.0\n",
            "u'x-------------\n",
            "\n",
            "multiplier flag=1 :0.8750000000000189\n",
            "i= 86 ; v_cur_point= 0.86 ; flag= 1 ;  array_cur[i]= 0.518\n",
            "h_inverse(v_0) = 0.32500000000000007\n",
            "h_derivative_from_h_inverse = -0.4000000000000057\n",
            "\n",
            "u'x-------------\n",
            "a_t(t_val)= 0.32500000000000007\n",
            "getValueFromFi(fi_arr, v)= 1.0\n",
            "u'x-------------\n",
            "\n",
            "u_derivate_x_L_point0.07500000000000562\n",
            "\n",
            "u'x-------------\n",
            "a_t(t_val)= 0.32500000000000007\n",
            "getValueFromFi(fi_arr, v)= 1.0\n",
            "u'x-------------\n",
            "\n",
            "multiplier flag=1 :0.8124999999999887\n",
            "i= 87 ; v_cur_point= 0.87 ; flag= 1 ;  array_cur[i]= 0.408\n",
            "h_inverse(v_0) = 0.30000000000000004\n",
            "h_derivative_from_h_inverse = -0.3999999999999915\n",
            "\n",
            "u'x-------------\n",
            "a_t(t_val)= 0.30000000000000004\n",
            "getValueFromFi(fi_arr, v)= 1.0\n",
            "u'x-------------\n",
            "\n",
            "u_derivate_x_L_point0.09999999999999143\n",
            "\n",
            "u'x-------------\n",
            "a_t(t_val)= 0.30000000000000004\n",
            "getValueFromFi(fi_arr, v)= 1.0\n",
            "u'x-------------\n",
            "\n",
            "multiplier flag=1 :0.7500000000000161\n",
            "i= 88 ; v_cur_point= 0.88 ; flag= 1 ;  array_cur[i]= 0.294\n",
            "h_inverse(v_0) = 0.275\n",
            "h_derivative_from_h_inverse = -0.4000000000000057\n",
            "\n",
            "u'x-------------\n",
            "a_t(t_val)= 0.275\n",
            "getValueFromFi(fi_arr, v)= 1.0\n",
            "u'x-------------\n",
            "\n",
            "u_derivate_x_L_point0.12500000000000566\n",
            "\n",
            "u'x-------------\n",
            "a_t(t_val)= 0.275\n",
            "getValueFromFi(fi_arr, v)= 1.0\n",
            "u'x-------------\n",
            "\n",
            "multiplier flag=1 :0.6874999999999903\n",
            "i= 89 ; v_cur_point= 0.89 ; flag= 1 ;  array_cur[i]= 0.175\n",
            "h_inverse(v_0) = 0.25\n",
            "h_derivative_from_h_inverse = -0.3999999999999915\n",
            "\n",
            "u'x-------------\n",
            "a_t(t_val)= 0.25\n",
            "getValueFromFi(fi_arr, v)= 1.0\n",
            "u'x-------------\n",
            "\n",
            "u_derivate_x_L_point0.14999999999999147\n",
            "\n",
            "u'x-------------\n",
            "a_t(t_val)= 0.25\n",
            "getValueFromFi(fi_arr, v)= 1.0\n",
            "u'x-------------\n",
            "\n",
            "multiplier flag=1 :0.6250000000000133\n",
            "i= 90 ; v_cur_point= 0.9 ; flag= 1 ;  array_cur[i]= 0.049\n",
            "h_inverse(v_0) = 0.22499999999999998\n",
            "h_derivative_from_h_inverse = -0.4000000000000057\n",
            "\n",
            "u'x-------------\n",
            "a_t(t_val)= 0.22499999999999998\n",
            "getValueFromFi(fi_arr, v)= 1.0\n",
            "u'x-------------\n",
            "\n",
            "u_derivate_x_L_point0.1750000000000057\n",
            "\n",
            "u'x-------------\n",
            "a_t(t_val)= 0.22499999999999998\n",
            "getValueFromFi(fi_arr, v)= 1.0\n",
            "u'x-------------\n",
            "\n",
            "multiplier flag=1 :0.562499999999992\n",
            "i= 91 ; v_cur_point= 0.91 ; flag= 1 ;  array_cur[i]= -0.088\n",
            "h_inverse(v_0) = 0.19999999999999996\n",
            "h_derivative_from_h_inverse = -0.3999999999999915\n",
            "\n",
            "u'x-------------\n",
            "a_t(t_val)= 0.19999999999999996\n",
            "getValueFromFi(fi_arr, v)= 1.0\n",
            "u'x-------------\n",
            "\n",
            "u_derivate_x_L_point0.19999999999999152\n",
            "\n",
            "u'x-------------\n",
            "a_t(t_val)= 0.19999999999999996\n",
            "getValueFromFi(fi_arr, v)= 1.0\n",
            "u'x-------------\n",
            "\n",
            "multiplier flag=1 :0.5000000000000105\n",
            "i= 92 ; v_cur_point= 0.92 ; flag= 1 ;  array_cur[i]= -0.24\n",
            "h_inverse(v_0) = 0.17499999999999993\n",
            "h_derivative_from_h_inverse = -0.4000000000000057\n",
            "\n",
            "u'x-------------\n",
            "a_t(t_val)= 0.17499999999999993\n",
            "getValueFromFi(fi_arr, v)= 1.0\n",
            "u'x-------------\n",
            "\n",
            "u_derivate_x_L_point0.22500000000000575\n",
            "\n",
            "u'x-------------\n",
            "a_t(t_val)= 0.17499999999999993\n",
            "getValueFromFi(fi_arr, v)= 1.0\n",
            "u'x-------------\n",
            "\n",
            "multiplier flag=1 :0.4374999999999936\n",
            "i= 93 ; v_cur_point= 0.93 ; flag= 1 ;  array_cur[i]= -0.413\n",
            "h_inverse(v_0) = 0.1499999999999999\n",
            "h_derivative_from_h_inverse = -0.3999999999999915\n",
            "\n",
            "u'x-------------\n",
            "a_t(t_val)= 0.1499999999999999\n",
            "getValueFromFi(fi_arr, v)= 1.0\n",
            "u'x-------------\n",
            "\n",
            "u_derivate_x_L_point0.24999999999999156\n",
            "\n",
            "u'x-------------\n",
            "a_t(t_val)= 0.1499999999999999\n",
            "getValueFromFi(fi_arr, v)= 1.0\n",
            "u'x-------------\n",
            "\n",
            "multiplier flag=1 :0.37500000000000777\n",
            "i= 94 ; v_cur_point= 0.9400000000000001 ; flag= 1 ;  array_cur[i]= -0.621\n",
            "h_inverse(v_0) = 0.12499999999999989\n",
            "h_derivative_from_h_inverse = -0.4000000000000057\n",
            "\n",
            "u'x-------------\n",
            "a_t(t_val)= 0.12499999999999989\n",
            "getValueFromFi(fi_arr, v)= 1.0\n",
            "u'x-------------\n",
            "\n",
            "u_derivate_x_L_point0.2750000000000058\n",
            "\n",
            "u'x-------------\n",
            "a_t(t_val)= 0.12499999999999989\n",
            "getValueFromFi(fi_arr, v)= 1.0\n",
            "u'x-------------\n",
            "\n",
            "multiplier flag=1 :0.3124999999999953\n",
            "i= 95 ; v_cur_point= 0.9500000000000001 ; flag= 1 ;  array_cur[i]= -0.883\n",
            "h_inverse(v_0) = 0.10000000000000009\n",
            "h_derivative_from_h_inverse = -0.3999999999999915\n",
            "\n",
            "u'x-------------\n",
            "a_t(t_val)= 0.10000000000000009\n",
            "getValueFromFi(fi_arr, v)= 1.0\n",
            "u'x-------------\n",
            "\n",
            "u_derivate_x_L_point0.2999999999999914\n",
            "\n",
            "u'x-------------\n",
            "a_t(t_val)= 0.10000000000000009\n",
            "getValueFromFi(fi_arr, v)= 1.0\n",
            "u'x-------------\n",
            "\n",
            "multiplier flag=1 :0.25000000000000555\n",
            "i= 96 ; v_cur_point= 0.96 ; flag= 1 ;  array_cur[i]= -1.242\n",
            "h_inverse(v_0) = 0.07500000000000007\n",
            "h_derivative_from_h_inverse = -0.4000000000000057\n",
            "\n",
            "u'x-------------\n",
            "a_t(t_val)= 0.07500000000000007\n",
            "getValueFromFi(fi_arr, v)= 1.0\n",
            "u'x-------------\n",
            "\n",
            "u_derivate_x_L_point0.3250000000000056\n",
            "\n",
            "u'x-------------\n",
            "a_t(t_val)= 0.07500000000000007\n",
            "getValueFromFi(fi_arr, v)= 1.0\n",
            "u'x-------------\n",
            "\n",
            "multiplier flag=1 :0.1874999999999975\n",
            "i= 97 ; v_cur_point= 0.97 ; flag= 1 ;  array_cur[i]= -1.797\n",
            "h_inverse(v_0) = 0.050000000000000044\n",
            "h_derivative_from_h_inverse = -0.3999999999999915\n",
            "\n",
            "u'x-------------\n",
            "a_t(t_val)= 0.050000000000000044\n",
            "getValueFromFi(fi_arr, v)= 1.0\n",
            "u'x-------------\n",
            "\n",
            "u_derivate_x_L_point0.34999999999999143\n",
            "\n",
            "u'x-------------\n",
            "a_t(t_val)= 0.050000000000000044\n",
            "getValueFromFi(fi_arr, v)= 1.0\n",
            "u'x-------------\n",
            "\n",
            "multiplier flag=1 :0.12500000000000278\n",
            "i= 98 ; v_cur_point= 0.98 ; flag= 1 ;  array_cur[i]= -2.843\n",
            "h_inverse(v_0) = 0.025000000000000022\n",
            "h_derivative_from_h_inverse = -0.4000000000000057\n",
            "\n",
            "u'x-------------\n",
            "a_t(t_val)= 0.025000000000000022\n",
            "getValueFromFi(fi_arr, v)= 1.0\n",
            "u'x-------------\n",
            "\n",
            "u_derivate_x_L_point0.37500000000000566\n",
            "\n",
            "u'x-------------\n",
            "a_t(t_val)= 0.025000000000000022\n",
            "getValueFromFi(fi_arr, v)= 1.0\n",
            "u'x-------------\n",
            "\n",
            "multiplier flag=1 :0.06249999999999917\n",
            "i= 99 ; v_cur_point= 0.99 ; flag= 1 ;  array_cur[i]= -5.86\n",
            "h_inverse(v_0) = 0.0\n",
            "h_derivative_from_h_inverse = -0.4000000000000057\n",
            "\n",
            "u'x-------------\n",
            "a_t(t_val)= 0.0\n",
            "getValueFromFi(fi_arr, v)= 1.0\n",
            "u'x-------------\n",
            "\n",
            "u_derivate_x_L_point0.4000000000000057\n",
            "\n",
            "u'x-------------\n",
            "a_t(t_val)= 0.0\n",
            "getValueFromFi(fi_arr, v)= 1.0\n",
            "u'x-------------\n",
            "\n",
            "multiplier flag=1 :-0.0\n",
            "i= 100 ; v_cur_point= 1.0 ; flag= 1 ;  array_cur[i]= 0.0\n",
            "Final\n",
            "[0.874 0.845 0.814 ... 1.    1.    1.   ]\n"
          ],
          "name": "stdout"
        }
      ]
    },
    {
      "cell_type": "code",
      "metadata": {
        "id": "SNSd4S8XrO99"
      },
      "source": [
        "# #drawing\n",
        "# #data to be plotted\n",
        "# t = array_v_args\n",
        "\n",
        "# #set starting iteration ( j ) for x_j\n",
        "# #(selecting colomns)\n",
        "# startIterationFor_x_j = 0\n",
        "# #set what num of first from x_j you want to display\n",
        "# # num_of_graphs_coloms = 5\n",
        "\n",
        "\n",
        "# u = array_cur\n",
        "# #plotting\n",
        "# plt.title(\"U(x_\"+str(startIterationFor_x_j)+\", t)\")\n",
        "# plt.xlabel(\"T axis\")\n",
        "# plt.ylabel(\"U(x_\" +str(startIterationFor_x_j)+\", t) axis\")\n",
        "# #show all x values\n",
        "# plt.xticks(t)\n",
        "# #set y axis fixed size\n",
        "# axes = plt.axes()\n",
        "# # axes.set_ylim([0, 2.5])\n",
        "# #draw\n",
        "# plt.plot(x,u, linestyle='--', marker='o', color = \"blue\")\n",
        "# plt.show()"
      ],
      "execution_count": null,
      "outputs": []
    },
    {
      "cell_type": "code",
      "metadata": {
        "id": "J00nb6N3RCkF"
      },
      "source": [
        "t = array_v_args\n",
        "u = array_cur"
      ],
      "execution_count": null,
      "outputs": []
    },
    {
      "cell_type": "code",
      "metadata": {
        "colab": {
          "base_uri": "https://localhost:8080/",
          "height": 591
        },
        "id": "iccK0HyRsGC6",
        "outputId": "85302f5c-a62e-42eb-bdc7-a824f1d8c272"
      },
      "source": [
        "t = array_v_args\n",
        "u = array_cur\n",
        "# y_d1 = np.diff(y,n=1)\n",
        "# y_d1 = np.true_divide(y_d1,h_x)\n",
        "yy=np.zeros(len(t))\n",
        "for i in range(len(t)):\n",
        "  yy[i]=u[i]\n",
        "\n",
        "my_fig_size = 10\n",
        "fig = plt.figure(figsize=(my_fig_size+5,my_fig_size))\n",
        "\n",
        "ax=fig.add_subplot(111)\n",
        "\n",
        "ax.set_title('  ')\n",
        "ax.plot(t, yy)\n",
        "ax.spines['left'].set_position('zero')\n",
        "ax.spines['right'].set_color('none')\n",
        "ax.spines['bottom'].set_position('zero')\n",
        "ax.spines['top'].set_color('none')\n",
        "\n",
        "# remove the ticks from the top and right edges\n",
        "ax.xaxis.set_ticks_position('bottom')\n",
        "ax.yaxis.set_ticks_position('left')"
      ],
      "execution_count": null,
      "outputs": [
        {
          "output_type": "display_data",
          "data": {
            "image/png": "[encoded data removed]",
            "text/plain": [
              "<Figure size 1080x720 with 1 Axes>"
            ]
          },
          "metadata": {
            "tags": [],
            "needs_background": "light"
          }
        }
      ]
    }
  ]
}